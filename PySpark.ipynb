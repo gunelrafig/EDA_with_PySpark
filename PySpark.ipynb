{
  "nbformat": 4,
  "nbformat_minor": 0,
  "metadata": {
    "colab": {
      "provenance": [],
      "collapsed_sections": [
        "WxwVHJa974b4"
      ],
      "toc_visible": true
    },
    "kernelspec": {
      "name": "python3",
      "display_name": "Python 3"
    },
    "language_info": {
      "name": "python"
    }
  },
  "cells": [
    {
      "cell_type": "markdown",
      "source": [
        "# **Import Library**"
      ],
      "metadata": {
        "id": "ClYSoJAT15_P"
      }
    },
    {
      "cell_type": "code",
      "source": [
        "pip install pyspark"
      ],
      "metadata": {
        "id": "NDW2tZ-cZI_E",
        "colab": {
          "base_uri": "https://localhost:8080/"
        },
        "outputId": "9ee81786-b77d-49ec-faf6-c9544c84b967"
      },
      "execution_count": 1,
      "outputs": [
        {
          "output_type": "stream",
          "name": "stdout",
          "text": [
            "Collecting pyspark\n",
            "  Downloading pyspark-3.5.0.tar.gz (316.9 MB)\n",
            "\u001b[2K     \u001b[90m━━━━━━━━━━━━━━━━━━━━━━━━━━━━━━━━━━━━━━━━\u001b[0m \u001b[32m316.9/316.9 MB\u001b[0m \u001b[31m4.1 MB/s\u001b[0m eta \u001b[36m0:00:00\u001b[0m\n",
            "\u001b[?25h  Preparing metadata (setup.py) ... \u001b[?25l\u001b[?25hdone\n",
            "Requirement already satisfied: py4j==0.10.9.7 in /usr/local/lib/python3.10/dist-packages (from pyspark) (0.10.9.7)\n",
            "Building wheels for collected packages: pyspark\n",
            "  Building wheel for pyspark (setup.py) ... \u001b[?25l\u001b[?25hdone\n",
            "  Created wheel for pyspark: filename=pyspark-3.5.0-py2.py3-none-any.whl size=317425344 sha256=17990d3c3ea7e259948f218980e53fdbe45977f28cadc6bbc987cdb5c0ea5760\n",
            "  Stored in directory: /root/.cache/pip/wheels/41/4e/10/c2cf2467f71c678cfc8a6b9ac9241e5e44a01940da8fbb17fc\n",
            "Successfully built pyspark\n",
            "Installing collected packages: pyspark\n",
            "Successfully installed pyspark-3.5.0\n"
          ]
        }
      ]
    },
    {
      "cell_type": "code",
      "execution_count": 2,
      "metadata": {
        "id": "B7l4s9gUYkZu"
      },
      "outputs": [],
      "source": [
        "import pyspark\n",
        "\n",
        "spark = pyspark.sql.SparkSession.builder.getOrCreate() # PySparkı tanımlama\n",
        "\n",
        "from pyspark.sql import SparkSession\n",
        "from pyspark.ml.stat import Correlation\n",
        "from pyspark.ml.feature import VectorAssembler\n",
        "\n",
        "from pyspark.sql.functions import regexp_extract\n",
        "from pyspark.sql.functions import col, lit, sum as spark_sum, when\n",
        "\n",
        "import pandas as pd\n",
        "import seaborn as sns\n",
        "import matplotlib.pyplot as plt\n"
      ]
    },
    {
      "cell_type": "markdown",
      "source": [
        "# **Get Data**"
      ],
      "metadata": {
        "id": "JDi0FiyN2ajs"
      }
    },
    {
      "cell_type": "code",
      "source": [
        "train = spark.read.csv('train_arabam.csv', header='True', inferSchema='True')\n",
        "train = train.drop('_c0')\n",
        "test = spark.read.csv('test_arabam.csv', header='True', inferSchema='True')\n",
        "test = test.drop('_c0')"
      ],
      "metadata": {
        "id": "q1gax_W5aDLT"
      },
      "execution_count": 3,
      "outputs": []
    },
    {
      "cell_type": "code",
      "source": [
        "type(train)"
      ],
      "metadata": {
        "colab": {
          "base_uri": "https://localhost:8080/"
        },
        "id": "KL42oPS3aXw-",
        "outputId": "10df8f76-7dc0-4122-c7ef-8cfe1fd64a12"
      },
      "execution_count": 4,
      "outputs": [
        {
          "output_type": "execute_result",
          "data": {
            "text/plain": [
              "pyspark.sql.dataframe.DataFrame"
            ]
          },
          "metadata": {},
          "execution_count": 4
        }
      ]
    },
    {
      "cell_type": "code",
      "source": [
        "type(test)"
      ],
      "metadata": {
        "colab": {
          "base_uri": "https://localhost:8080/"
        },
        "id": "m1eBXvGmasnb",
        "outputId": "cedc76c9-3776-4e39-bf74-fc5e22a3d12d"
      },
      "execution_count": 5,
      "outputs": [
        {
          "output_type": "execute_result",
          "data": {
            "text/plain": [
              "pyspark.sql.dataframe.DataFrame"
            ]
          },
          "metadata": {},
          "execution_count": 5
        }
      ]
    },
    {
      "cell_type": "code",
      "source": [
        "train"
      ],
      "metadata": {
        "colab": {
          "base_uri": "https://localhost:8080/"
        },
        "id": "HR2lID2dauKi",
        "outputId": "b1333fbc-8a24-4cbd-fa26-3d7701a8bdfe"
      },
      "execution_count": 6,
      "outputs": [
        {
          "output_type": "execute_result",
          "data": {
            "text/plain": [
              "DataFrame[price_try: string, make: string, series: string, model: string, year: string, km: string, transmission: string, fuel: string, body_type: string, warranty: string, from_: string, wheel_drive: string, cylinder_number: int, torque_nm: string, engine_capacity_cc: string, engine_power_hp: string, max_power_rpm: string, min_power_rpm: string, acceleration_0to100_sec: string, max_speed_kmh: string, average_fuel_consumption_lt: string, painted_changed: string]"
            ]
          },
          "metadata": {},
          "execution_count": 6
        }
      ]
    },
    {
      "cell_type": "code",
      "source": [
        "test"
      ],
      "metadata": {
        "colab": {
          "base_uri": "https://localhost:8080/"
        },
        "id": "bs6VtN3Ga1va",
        "outputId": "24a1a671-bf2c-427b-a9f5-6d9b95ec6d7c"
      },
      "execution_count": 7,
      "outputs": [
        {
          "output_type": "execute_result",
          "data": {
            "text/plain": [
              "DataFrame[price_try: string, make: string, series: string, model: string, year: string, km: string, transmission: string, fuel: string, body_type: string, warranty: string, from_: string, wheel_drive: string, cylinder_number: int, torque_nm: string, engine_capacity_cc: string, engine_power_hp: string, max_power_rpm: string, min_power_rpm: string, acceleration_0to100_sec: string, max_speed_kmh: string, average_fuel_consumption_lt: string, painted_changed: string]"
            ]
          },
          "metadata": {},
          "execution_count": 7
        }
      ]
    },
    {
      "cell_type": "code",
      "source": [
        "train.show() # PySpark DataFrame"
      ],
      "metadata": {
        "colab": {
          "base_uri": "https://localhost:8080/"
        },
        "id": "qT20CDisa2ka",
        "outputId": "df079000-89a8-4442-e58a-1a19b0d0d5ef"
      },
      "execution_count": 8,
      "outputs": [
        {
          "output_type": "stream",
          "name": "stdout",
          "text": [
            "+---------+---------------+--------+--------------------+----+------+-------------+------------+-----------+-------------+----------+------------+---------------+---------+------------------+---------------+-------------+-------------+-----------------------+-------------+---------------------------+-------------------+\n",
            "|price_try|           make|  series|               model|year|    km| transmission|        fuel|  body_type|     warranty|     from_| wheel_drive|cylinder_number|torque_nm|engine_capacity_cc|engine_power_hp|max_power_rpm|min_power_rpm|acceleration_0to100_sec|max_speed_kmh|average_fuel_consumption_lt|    painted_changed|\n",
            "+---------+---------------+--------+--------------------+----+------+-------------+------------+-----------+-------------+----------+------------+---------------+---------+------------------+---------------+-------------+-------------+-----------------------+-------------+---------------------------+-------------------+\n",
            "|   364950|        Peugeot|     307|         1.6 Premium|2003|149000|          Düz|LPG & Benzin|Hatchback/5|Garantisi Yok| Galeriden| Önden Çekiş|              4|      147|              1587|            110|         NULL|         NULL|                   11,6|          190|                        7,2|      Belirtilmemiş|\n",
            "|   769950|            BMW|5 Serisi|        520d Premium|2008|369000|     Otomatik|       Dizel|      Sedan|Garantisi Yok| Galeriden|Arkadan İtiş|              4|      350|              1995|            177|         4000|         1750|                    8,4|          226|                        6,1|     Tamamı orjinal|\n",
            "|   635000|           Ford|   Focus|    1.6 TDCi Trend X|2012|210000|          Düz|       Dizel|      Sedan|Garantisi Yok| Galeriden| Önden Çekiş|              4|      230|              1560|             95|         3600|         2000|                   12,5|          180|                        4,2|     Tamamı orjinal|\n",
            "|  1760000|Mercedes - Benz|       A|   A 180 Progressive|2020| 38000|Yarı Otomatik|      Benzin|      Sedan|         NULL|Sahibinden| Önden Çekiş|              4|      200|              1332|            136|         5500|         1460|                    9,3|          216|                        5,3|     Tamamı orjinal|\n",
            "|   850000|        Renault|  Megane|         1.2 TCe Joy|2021| 30000|          Düz|      Benzin|      Sedan|         NULL|Sahibinden| Önden Çekiş|              4|      205|              1198|            130|         5500|         2000|                   10,3|          200|                        5,4|      Belirtilmemiş|\n",
            "|   715000|           Ford|   Focus|    1.6 TDCi Trend X|2017|120000|          Düz|       Dizel|      Sedan|         NULL|Sahibinden| Önden Çekiş|              4|      230|              1560|             95|         3600|         1500|                   12,6|          182|                        4,5|     Tamamı orjinal|\n",
            "|   475000|           Fiat|   Linea|  1.3 Multijet Urban|2013|116749|          Düz|       Dizel|      Sedan|Garantisi Yok|Sahibinden| Önden Çekiş|              4|      200|              1248|             95|         4000|         1500|                   13,8|          170|                        4,9|           8 boyalı|\n",
            "|   359500|        Citroen|      C3|          1.4 HDi SX|2005|190000|          Düz|       Dizel|Hatchback/5|Garantisi Yok| Galeriden| Önden Çekiş|              4|      150|              1398|             71|         4000|         2000|                   15,4|          165|                        4,2|1 değişen, 7 boyalı|\n",
            "|   699500|        Renault| Fluence|        1.5 dCi Icon|2015|180000|Yarı Otomatik|       Dizel|      Sedan|Garantisi Yok| Galeriden| Önden Çekiş|              4|      240|              1461|            110|         4000|         2000|                   11,5|          185|                        4,4|     Tamamı orjinal|\n",
            "|   598750|        Peugeot|     208| 1.2 PureTech Active|2017| 70000|          Düz|      Benzin|Hatchback/5|Garantisi Yok| Galeriden| Önden Çekiş|              3|      118|              1199|             83|         5750|         2750|                   12,2|          178|                        4,5|1 değişen, 2 boyalı|\n",
            "|  1090950|           Seat|    Leon|       1.6 TDI Style|2017|108000|Yarı Otomatik|       Dizel|Hatchback/5|Garantisi Yok| Galeriden| Önden Çekiş|              4|      250|              1598|            115|         4000|         1500|                    9,8|          197|                        4,1|     Tamamı orjinal|\n",
            "|   685000|     Volkswagen|    Polo| 1.4 TDi Comfortline|2015|137000|Yarı Otomatik|       Dizel|Hatchback/5|Garantisi Yok| Galeriden| Önden Çekiş|              3|      230|              1422|             90|         3500|         1500|                   10,9|          184|                        3,5|3 değişen, 4 boyalı|\n",
            "|   248000|         Nissan|   Sunny|              1.6 EX|1991|302000|          Düz|LPG & Benzin|      Sedan|Garantisi Yok| Galeriden| Önden Çekiş|              4|      133|              1597|             90|         NULL|         NULL|                   10,7|          180|                       NULL|      Belirtilmemiş|\n",
            "|   670000|         Toyota| Corolla|1.4 D-4D Comfort ...|2012|220000|Yarı Otomatik|       Dizel|      Sedan|Garantisi Yok| Galeriden| Önden Çekiş|              4|      205|              1364|             90|         3800|         1800|                   14,8|          175|                        4,8|1 değişen, 1 boyalı|\n",
            "|  1135000|           Opel|Insignia|1.6 CDTI Grand Sp...|2017|172000|     Otomatik|       Dizel|Hatchback/5|Garantisi Yok| Galeriden| Önden Çekiş|              4|      320|              1598|            136|         3500|         2000|                   10,9|          203|                        5,1|      Belirtilmemiş|\n",
            "|   659000|        Citroen|C-Elysee|    1.5 BlueHDi Feel|2021| 35000|          Düz|       Dizel|      Sedan|Garantisi Yok| Galeriden| Önden Çekiş|              4|      250|              1499|            100|         3500|         1750|                   10,1|          189|                        3,9|3 değişen, 4 boyalı|\n",
            "|   579900|           Opel|   Corsa|   1.3 CDTI Essentia|2009| 60000|          Düz|       Dizel|Hatchback/5|Garantisi Yok| Galeriden| Önden Çekiş|              4|      170|              1248|             75|         4000|         2250|                   14,5|          163|                        4,6|     Tamamı orjinal|\n",
            "|   679500|          Honda|   Civic| 1.6 i-VTEC Elegance|2009|178000|     Otomatik|LPG & Benzin|      Sedan|Garantisi Yok| Galeriden| Önden Çekiş|              4|      152|              1595|            125|         6500|         4200|                   10,3|          192|                        7,1|1 değişen, 3 boyalı|\n",
            "|   360000|     Mitsubishi|    Colt|     1.5 DI-D Inform|2007|172000|Yarı Otomatik|       Dizel|Hatchback/5|Garantisi Yok| Galeriden| Önden Çekiş|              3|      210|              1493|             95|         NULL|         NULL|                   10,7|          180|                        4,6|      Belirtilmemiş|\n",
            "|  1250000|     Volkswagen|   VW CC|             1.4 TSi|2015|128000|Yarı Otomatik|      Benzin|      Coupe|Garantisi Yok| Galeriden| Önden Çekiş|              4|      250|              1395|            150|         5000|         1500|                    8,9|          218|                        5,6|      Belirtilmemiş|\n",
            "+---------+---------------+--------+--------------------+----+------+-------------+------------+-----------+-------------+----------+------------+---------------+---------+------------------+---------------+-------------+-------------+-----------------------+-------------+---------------------------+-------------------+\n",
            "only showing top 20 rows\n",
            "\n"
          ]
        }
      ]
    },
    {
      "cell_type": "code",
      "source": [
        "test.show() # PySpark DataFrame"
      ],
      "metadata": {
        "colab": {
          "base_uri": "https://localhost:8080/"
        },
        "id": "iJjXqtsRa4PJ",
        "outputId": "bf7ec1d7-3e4d-4ff8-c47c-6d0207a61b17"
      },
      "execution_count": 9,
      "outputs": [
        {
          "output_type": "stream",
          "name": "stdout",
          "text": [
            "+---------+---------------+-------+------------------+----+------+-------------+------------+-----------+-------------+----------+------------+---------------+---------+------------------+---------------+-------------+-------------+-----------------------+-------------+---------------------------+-------------------+\n",
            "|price_try|           make| series|             model|year|    km| transmission|        fuel|  body_type|     warranty|     from_| wheel_drive|cylinder_number|torque_nm|engine_capacity_cc|engine_power_hp|max_power_rpm|min_power_rpm|acceleration_0to100_sec|max_speed_kmh|average_fuel_consumption_lt|    painted_changed|\n",
            "+---------+---------------+-------+------------------+----+------+-------------+------------+-----------+-------------+----------+------------+---------------+---------+------------------+---------------+-------------+-------------+-----------------------+-------------+---------------------------+-------------------+\n",
            "|   700000|           Ford|  Focus|      1.6 Titanium|2009|281000|     Otomatik|LPG & Benzin|      Sedan|         NULL|Sahibinden| Önden Çekiş|              4|      150|              1596|            100|         6000|         4000|                   14,2|          182|                        6,7|      Belirtilmemiş|\n",
            "|   760000|        Renault|   Clio|      1.5 dCi Icon|2017|162000|Yarı Otomatik|       Dizel|Hatchback/5|         NULL|Sahibinden| Önden Çekiş|              4|      220|              1461|             90|         4000|         1750|                   12,9|          176|                        3,7|           2 boyalı|\n",
            "|   400000|           Opel|  Corsa|       1.2 Comfort|2003|205000|Yarı Otomatik|LPG & Benzin|Hatchback/5|Garantisi Yok| Galeriden| Önden Çekiş|              4|      110|              1199|             75|         NULL|         NULL|                     14|          170|                        6,2|2 değişen, 2 boyalı|\n",
            "|   750000|           Ford|  Focus|1.6 Ti-VCT Trend X|2014|209000|          Düz|LPG & Benzin|      Sedan|Garantisi Yok|Sahibinden| Önden Çekiş|              4|      158|              1596|            125|         6300|         4000|                   10,9|          198|                          6|     Tamamı orjinal|\n",
            "|   115000|          Skoda|Favorit|            1.3 LX|1993|217000|          Düz|LPG & Benzin|Hatchback/5|         NULL|Sahibinden|        NULL|           NULL|     NULL|              NULL|           NULL|         NULL|         NULL|                   NULL|         NULL|                       NULL|      Belirtilmemiş|\n",
            "|   452000|        Hyundai|   Getz|    1.4 DOHC Start|2009|227500|          Düz|LPG & Benzin|Hatchback/5|         NULL|Sahibinden| Önden Çekiş|              4|      125|              1399|             97|         6000|         3200|                   11,2|          170|                          6|          1 değişen|\n",
            "|   730000|           Ford|  Focus|  1.6 TDCi Trend X|2013|184000|          Düz|       Dizel|      Sedan|Garantisi Yok|Sahibinden| Önden Çekiş|              4|      230|              1560|             95|         3600|         2000|                   12,5|          180|                        4,2|      Tamamı boyalı|\n",
            "|   240000|           Fiat|  Siena|            1.6 HL|2000|272000|          Düz|LPG & Benzin|      Sedan|         NULL|Sahibinden| Önden Çekiş|              4|      142|              1580|            101|         5500|         4500|                   NULL|          186|                       NULL|      Tamamı boyalı|\n",
            "|   295000|Mercedes - Benz|    200|                 E|1988|283000|          Düz|LPG & Benzin|      Sedan|         NULL|Sahibinden|Arkadan İtiş|              4|     NULL|              1997|            118|         NULL|         NULL|                   NULL|         NULL|                       NULL|      Tamamı boyalı|\n",
            "|   550000|      Chevrolet|  Cruze|            1.6 LS|2011|192000|          Düz|LPG & Benzin|      Sedan|         NULL|Sahibinden| Önden Çekiş|              4|      154|              1598|            124|         6300|         3800|                   10,9|          190|                        6,5|      Belirtilmemiş|\n",
            "|   615000|           Opel|  Astra|      1.6 Essentia|2013|107000|          Düz|LPG & Benzin|Hatchback/5|         NULL|Sahibinden| Önden Çekiş|              4|      155|              1598|            115|         6000|         4000|                   11,7|          191|                        6,5|           2 boyalı|\n",
            "|   715000|          Skoda| SuperB|   1.4 TSI Comfort|2010|207000|          Düz|LPG & Benzin|      Sedan|         NULL|Sahibinden| Önden Çekiş|              4|      200|              1390|            125|         5000|         4000|                   10,5|          201|                        6,8|      Belirtilmemiş|\n",
            "|   900000|         Toyota|Corolla|    1.4 D-4D Touch|2016|111350|Yarı Otomatik|       Dizel|      Sedan|Garantisi Yok|Sahibinden| Önden Çekiş|              4|      205|              1364|             90|         3800|         1800|                   14,7|          180|                        4,1|      Belirtilmemiş|\n",
            "|   365000|         Toyota|Corolla|           1.6 GLi|1997|330000|     Otomatik|LPG & Benzin|      Sedan|         NULL|Sahibinden| Önden Çekiş|              4|      145|              1587|            114|         NULL|         NULL|                     10|          195|                       NULL|      Belirtilmemiş|\n",
            "|   595000|        Peugeot|    301|    1.6 HDi Allure|2015|135000|          Düz|       Dizel|      Sedan|         NULL|Sahibinden| Önden Çekiş|              4|      230|              1560|             93|         3500|         1750|                   11,2|          180|                        4,3|1 değişen, 2 boyalı|\n",
            "|   379000|           Ford| Fiesta|  1.4 TDCi Comfort|2006|278000|          Düz|       Dizel|Hatchback/3|         NULL|Sahibinden| Önden Çekiş|              4|      160|              1399|             68|         NULL|         NULL|                   14,9|          164|                        4,3|           2 boyalı|\n",
            "|   495000|        Renault| Symbol|1.5 dCi Expression|2011|260000|          Düz|       Dizel|      Sedan|         NULL|Sahibinden| Önden Çekiş|              4|      160|              1461|             65|         3750|         1900|                   16,5|          160|                        4,5|      Belirtilmemiş|\n",
            "|   665000|     Volkswagen| Passat|     1.6 Trendline|2004|124000|          Düz|LPG & Benzin|      Sedan|         NULL|Sahibinden| Önden Çekiş|              4|      148|              1595|            102|         NULL|         NULL|                   12,7|          192|                        7,7|           3 boyalı|\n",
            "|   610000|     Volkswagen|   Golf| 1.4 TSi Trendline|2012|197000|          Düz|      Benzin|Hatchback/5|         NULL|Sahibinden| Önden Çekiş|              4|      200|              1390|            122|         5000|         4000|                    9,5|          200|                        6,2|      Belirtilmemiş|\n",
            "|   363000|           Opel|  Astra|       1.6 Comfort|2001|345000|          Düz|      Benzin|Hatchback/5|         NULL|Sahibinden| Önden Çekiş|              4|      150|              1598|            100|         NULL|         NULL|                   11,5|          188|                        7,1|          1 değişen|\n",
            "+---------+---------------+-------+------------------+----+------+-------------+------------+-----------+-------------+----------+------------+---------------+---------+------------------+---------------+-------------+-------------+-----------------------+-------------+---------------------------+-------------------+\n",
            "only showing top 20 rows\n",
            "\n"
          ]
        }
      ]
    },
    {
      "cell_type": "code",
      "source": [
        "train.printSchema() # Pandastaki info() fonksiyonuyla benzer"
      ],
      "metadata": {
        "colab": {
          "base_uri": "https://localhost:8080/"
        },
        "id": "oANLpRusdK3q",
        "outputId": "75443d58-6c2f-4bf4-d999-afce7c793620"
      },
      "execution_count": 10,
      "outputs": [
        {
          "output_type": "stream",
          "name": "stdout",
          "text": [
            "root\n",
            " |-- price_try: string (nullable = true)\n",
            " |-- make: string (nullable = true)\n",
            " |-- series: string (nullable = true)\n",
            " |-- model: string (nullable = true)\n",
            " |-- year: string (nullable = true)\n",
            " |-- km: string (nullable = true)\n",
            " |-- transmission: string (nullable = true)\n",
            " |-- fuel: string (nullable = true)\n",
            " |-- body_type: string (nullable = true)\n",
            " |-- warranty: string (nullable = true)\n",
            " |-- from_: string (nullable = true)\n",
            " |-- wheel_drive: string (nullable = true)\n",
            " |-- cylinder_number: integer (nullable = true)\n",
            " |-- torque_nm: string (nullable = true)\n",
            " |-- engine_capacity_cc: string (nullable = true)\n",
            " |-- engine_power_hp: string (nullable = true)\n",
            " |-- max_power_rpm: string (nullable = true)\n",
            " |-- min_power_rpm: string (nullable = true)\n",
            " |-- acceleration_0to100_sec: string (nullable = true)\n",
            " |-- max_speed_kmh: string (nullable = true)\n",
            " |-- average_fuel_consumption_lt: string (nullable = true)\n",
            " |-- painted_changed: string (nullable = true)\n",
            "\n"
          ]
        }
      ]
    },
    {
      "cell_type": "code",
      "source": [
        "test.printSchema() # Pandastaki info() fonksiyonuyla benzer"
      ],
      "metadata": {
        "colab": {
          "base_uri": "https://localhost:8080/"
        },
        "id": "0w35NZ9xdNDF",
        "outputId": "d379f85e-2d65-4e54-ea55-949f70f3a580"
      },
      "execution_count": 11,
      "outputs": [
        {
          "output_type": "stream",
          "name": "stdout",
          "text": [
            "root\n",
            " |-- price_try: string (nullable = true)\n",
            " |-- make: string (nullable = true)\n",
            " |-- series: string (nullable = true)\n",
            " |-- model: string (nullable = true)\n",
            " |-- year: string (nullable = true)\n",
            " |-- km: string (nullable = true)\n",
            " |-- transmission: string (nullable = true)\n",
            " |-- fuel: string (nullable = true)\n",
            " |-- body_type: string (nullable = true)\n",
            " |-- warranty: string (nullable = true)\n",
            " |-- from_: string (nullable = true)\n",
            " |-- wheel_drive: string (nullable = true)\n",
            " |-- cylinder_number: integer (nullable = true)\n",
            " |-- torque_nm: string (nullable = true)\n",
            " |-- engine_capacity_cc: string (nullable = true)\n",
            " |-- engine_power_hp: string (nullable = true)\n",
            " |-- max_power_rpm: string (nullable = true)\n",
            " |-- min_power_rpm: string (nullable = true)\n",
            " |-- acceleration_0to100_sec: string (nullable = true)\n",
            " |-- max_speed_kmh: string (nullable = true)\n",
            " |-- average_fuel_consumption_lt: string (nullable = true)\n",
            " |-- painted_changed: string (nullable = true)\n",
            "\n"
          ]
        }
      ]
    },
    {
      "cell_type": "code",
      "source": [
        "train.describe().show()"
      ],
      "metadata": {
        "colab": {
          "base_uri": "https://localhost:8080/"
        },
        "id": "2ox8o2ptelwa",
        "outputId": "816aa7ee-1253-424c-a037-60b9aff67f56"
      },
      "execution_count": 12,
      "outputs": [
        {
          "output_type": "stream",
          "name": "stdout",
          "text": [
            "+-------+-----------------+------------------+------------------+-----------------+-----------------+------------------+------------+-----+-------------+----------+------------------+-----------------+------------------+------------------+------------------+------------------+------------------+------------------+-----------------------+-----------------+---------------------------+---------------+\n",
            "|summary|        price_try|              make|            series|            model|             year|                km|transmission| fuel|    body_type|  warranty|             from_|      wheel_drive|   cylinder_number|         torque_nm|engine_capacity_cc|   engine_power_hp|     max_power_rpm|     min_power_rpm|acceleration_0to100_sec|    max_speed_kmh|average_fuel_consumption_lt|painted_changed|\n",
            "+-------+-----------------+------------------+------------------+-----------------+-----------------+------------------+------------+-----+-------------+----------+------------------+-----------------+------------------+------------------+------------------+------------------+------------------+------------------+-----------------------+-----------------+---------------------------+---------------+\n",
            "|  count|             1523|              1504|              1504|             1504|             1503|              1500|        1500| 1500|         1500|      1047|              1500|             1484|              1452|              1418|              1483|              1475|              1239|              1234|                   1380|             1395|                       1340|           1477|\n",
            "|   mean|738725.0684840425|             207.0|274.11290322580646|792.0877551020408| 4355.27205882353|243961.71496276234|        NULL|  4.0|       188.75|    1335.5|             96.25|            821.5|15.018595041322314| 215.0686482661005|1494.1017182130583|167.10152990264257| 4756.761133603239| 2631.522131147541|     34.986486486486484|186.5355587808418|         5.1735537190082646|           NULL|\n",
            "| stddev|939085.1811766723|1.4142135623730951|100.38811647370432|982.6349037224385|22803.72300252969|2599208.9138524537|        NULL|  0.0|         22.5|     175.0|12.499999999999998|1814.666852541889| 157.3215385903472|183.07148161413693| 351.6093115101612| 540.5998982139613|1030.5134141316944|1118.9933138429888|      61.25756779420026|19.47105103318188|          1.236107370945941|           NULL|\n",
            "|    min|          1000000|               206|          1 Serisi|     0.9 TCe Icon|           110000|                 0|      Benzin|    4|            -|         -|               115|                -|                 3|               100|                 -|                 -|          1 boyalı|                10|                     10|              140|                   1 boyalı|       1 boyalı|\n",
            "|    max|            Volvo|             Volvo|             Şahin|    Şahin 5 Vites|              Yıl|     Yarı Otomatik| Önden Çekiş|Sedan|Station wagon|Sahibinden|       Önden Çekiş|      Önden Çekiş|              4000|               999|               999|                99|    Tamamı orjinal|               9,9|                    9,9|                7|             Tamamı orjinal| Tamamı orjinal|\n",
            "+-------+-----------------+------------------+------------------+-----------------+-----------------+------------------+------------+-----+-------------+----------+------------------+-----------------+------------------+------------------+------------------+------------------+------------------+------------------+-----------------------+-----------------+---------------------------+---------------+\n",
            "\n"
          ]
        }
      ]
    },
    {
      "cell_type": "code",
      "source": [
        "test.describe().show()"
      ],
      "metadata": {
        "colab": {
          "base_uri": "https://localhost:8080/"
        },
        "id": "mpuiVfrGenIU",
        "outputId": "12ce8716-0cb1-4657-827d-9b216187dabe"
      },
      "execution_count": 13,
      "outputs": [
        {
          "output_type": "stream",
          "name": "stdout",
          "text": [
            "+-------+------------------+----------+-----------------+------------------+------------------+------------------+------------+-----+------------------+------------------+-----------------+------------------+------------------+------------------+------------------+------------------+-----------------+-----------------+-----------------------+------------------+---------------------------+---------------+\n",
            "|summary|         price_try|      make|           series|             model|              year|                km|transmission| fuel|         body_type|          warranty|            from_|       wheel_drive|   cylinder_number|         torque_nm|engine_capacity_cc|   engine_power_hp|    max_power_rpm|    min_power_rpm|acceleration_0to100_sec|     max_speed_kmh|average_fuel_consumption_lt|painted_changed|\n",
            "+-------+------------------+----------+-----------------+------------------+------------------+------------------+------------+-----+------------------+------------------+-----------------+------------------+------------------+------------------+------------------+------------------+-----------------+-----------------+-----------------------+------------------+---------------------------+---------------+\n",
            "|  count|              1009|      1005|             1005|              1004|              1002|              1000|         999|  999|               998|               435|              999|               962|               939|               909|               959|               960|              782|              776|                    873|               890|                        839|            991|\n",
            "|   mean|1304212.3144278608|      NULL|245.7843137254902|323.20400000000006|2580.1849246231154|181266.64076690213|        NULL|  4.0|            188.75|            1364.5|             92.5|            1688.0| 11.87220447284345|190.15138121546963|1466.7112526539279|122.37326203208556|4866.666666666667|2713.018134715026|      19.13186813186813| 184.2133182844244|          5.555555555555555|           NULL|\n",
            "| stddev|2.20640603217766E7|      NULL|74.12214614418289| 752.2504760605561| 9685.560359464742|104898.62103025278|        NULL|  0.0|25.940637360455632|164.99191899403235|4.999999999999999|2101.3747880851715|129.51125390314866| 94.21967752862976| 234.7617587686519|309.26500685711017|995.2895933196767|1118.774266593974|      33.16698786819636|16.100485406734755|         1.2283975632818158|           NULL|\n",
            "|    min|           1000000|Alfa Romeo|         1 Serisi|      0.9 TCe Icon|            130000|                 1|      Benzin|    4|               150|                 -|              100|                 -|                 3|               100|                 -|                 -|             1750|             10,9|                     10|               143|                   1 boyalı|       1 boyalı|\n",
            "|    max|        Volkswagen|       i20|            Şahin|     Şahin 5 Vites|               Yıl|        Sahibinden| Önden Çekiş|Sedan|     Station wagon|        Sahibinden|      Önden Çekiş|       Önden Çekiş|              2500|                99|               999|                99|    Belirtilmemiş|             5500|                    9,9|               5,7|             Tamamı orjinal| Tamamı orjinal|\n",
            "+-------+------------------+----------+-----------------+------------------+------------------+------------------+------------+-----+------------------+------------------+-----------------+------------------+------------------+------------------+------------------+------------------+-----------------+-----------------+-----------------------+------------------+---------------------------+---------------+\n",
            "\n"
          ]
        }
      ]
    },
    {
      "cell_type": "markdown",
      "source": [
        "# **Pre Processing**"
      ],
      "metadata": {
        "id": "76is4hXj48jf"
      }
    },
    {
      "cell_type": "markdown",
      "source": [
        "## **Convert Data Type**"
      ],
      "metadata": {
        "id": "GE6kEjZw5FOZ"
      }
    },
    {
      "cell_type": "code",
      "source": [
        "train = train.withColumn(\"km\", col(\"km\").cast(\"integer\"))\n",
        "train = train.withColumn(\"cylinder_number\", col(\"cylinder_number\").cast(\"float\"))\n",
        "train = train.withColumn(\"torque_nm\", col(\"torque_nm\").cast(\"float\"))\n",
        "train = train.withColumn(\"max_power_rpm\", col(\"max_power_rpm\").cast(\"float\"))\n",
        "train = train.withColumn(\"min_power_rpm\", col(\"min_power_rpm\").cast(\"float\"))\n",
        "train = train.withColumn(\"max_speed_kmh\", col(\"max_speed_kmh\").cast(\"float\"))\n",
        "\n"
      ],
      "metadata": {
        "id": "g5apnCISiCtQ"
      },
      "execution_count": 14,
      "outputs": []
    },
    {
      "cell_type": "code",
      "source": [
        "\n",
        "test = test.withColumn(\"km\", col(\"km\").cast(\"integer\"))\n",
        "test = test.withColumn(\"cylinder_number\", col(\"cylinder_number\").cast(\"float\"))\n",
        "test = test.withColumn(\"torque_nm\", col(\"torque_nm\").cast(\"float\"))\n",
        "test = test.withColumn(\"max_power_rpm\", col(\"max_power_rpm\").cast(\"float\"))\n",
        "test = test.withColumn(\"min_power_rpm\", col(\"min_power_rpm\").cast(\"float\"))\n",
        "test = test.withColumn(\"max_speed_kmh\", col(\"max_speed_kmh\").cast(\"float\"))\n"
      ],
      "metadata": {
        "id": "db5v2Fz1i4jH"
      },
      "execution_count": 15,
      "outputs": []
    },
    {
      "cell_type": "markdown",
      "source": [
        "## **Corr()**"
      ],
      "metadata": {
        "id": "juZKvkW95cRA"
      }
    },
    {
      "cell_type": "code",
      "source": [
        "# all number columns\n",
        "num_columns = [col_name for col_name, data_type in train.dtypes if data_type == \"integer\" or data_type == \"float\"]\n",
        "\n",
        "# drop na rows\n",
        "train = train.na.drop()\n",
        "\n",
        "# concat all number columns with VectorAssembler\n",
        "assembler = VectorAssembler(inputCols=num_columns, outputCol=\"features\")\n",
        "assembled_train = assembler.transform(train)\n",
        "\n",
        "# corr() calculate\n",
        "correlation_matrix = Correlation.corr(assembled_train, \"features\").head()[0]\n",
        "\n",
        "# Convert the correlation matrix to a Pandas DataFrame\n",
        "correlation_matrix_df = pd.DataFrame(correlation_matrix.toArray(), columns=num_columns, index=num_columns)\n",
        "\n",
        "# Heatmap\n",
        "plt.figure(figsize=[8, 6])\n",
        "sns.heatmap(correlation_matrix_df, cmap=\"seismic\", annot=True, vmin=-1, vmax=1)\n",
        "plt.show()\n"
      ],
      "metadata": {
        "colab": {
          "base_uri": "https://localhost:8080/",
          "height": 630
        },
        "id": "SEZs6X1Vj-m_",
        "outputId": "e97e9aa9-f733-4d62-fb7c-d2c48c8310a5"
      },
      "execution_count": 16,
      "outputs": [
        {
          "output_type": "display_data",
          "data": {
            "text/plain": [
              "<Figure size 800x600 with 2 Axes>"
            ],
            "image/png": "[encoded data removed]"
          },
          "metadata": {}
        }
      ]
    },
    {
      "cell_type": "code",
      "source": [
        "# all number columns\n",
        "num_columns = [col_name for col_name, data_type in test.dtypes if data_type == \"integer\" or data_type == \"float\"]\n",
        "\n",
        "# drop na rows\n",
        "test = test.na.drop()\n",
        "\n",
        "# concat all number columns with VectorAssembler\n",
        "assembler = VectorAssembler(inputCols=num_columns, outputCol=\"features\")\n",
        "assembled_train = assembler.transform(test)\n",
        "\n",
        "# corr() calculate\n",
        "correlation_matrix = Correlation.corr(assembled_train, \"features\").head()[0]\n",
        "\n",
        "# Convert the correlation matrix to a Pandas DataFrame\n",
        "correlation_matrix_df = pd.DataFrame(correlation_matrix.toArray(), columns=num_columns, index=num_columns)\n",
        "\n",
        "# Heatmap\n",
        "plt.figure(figsize=[8, 6])\n",
        "sns.heatmap(correlation_matrix_df, cmap=\"seismic\", annot=True, vmin=-1, vmax=1)\n",
        "plt.show()\n"
      ],
      "metadata": {
        "colab": {
          "base_uri": "https://localhost:8080/",
          "height": 630
        },
        "id": "5WhioAxCk-Gq",
        "outputId": "bf6258ed-197c-426a-ce8f-070c5e4405b0"
      },
      "execution_count": 17,
      "outputs": [
        {
          "output_type": "display_data",
          "data": {
            "text/plain": [
              "<Figure size 800x600 with 2 Axes>"
            ],
            "image/png": "[encoded data removed]"
          },
          "metadata": {}
        }
      ]
    },
    {
      "cell_type": "markdown",
      "source": [
        "# **engine_capacity_cc column**"
      ],
      "metadata": {
        "id": "roUm-v-m8Leh"
      }
    },
    {
      "cell_type": "markdown",
      "source": [
        "## **Get the unique values ​​of the 'engine_capacity_cc' column**\n"
      ],
      "metadata": {
        "id": "TK8lzDWI4urO"
      }
    },
    {
      "cell_type": "code",
      "source": [
        "# Get the unique values ​​of the 'engine_capacity_cc' column\n",
        "unique_values = train.select(\"engine_capacity_cc\").distinct().collect()\n",
        "\n",
        "# Get Result of Spark DataFrame\n",
        "unique_values_list = [row[\"engine_capacity_cc\"] for row in unique_values]\n",
        "unique_values_list"
      ],
      "metadata": {
        "colab": {
          "base_uri": "https://localhost:8080/"
        },
        "id": "dapy1q5Sk40O",
        "outputId": "45987d22-b760-4f5a-cfd8-cb2cd3dc5b00"
      },
      "execution_count": 18,
      "outputs": [
        {
          "output_type": "execute_result",
          "data": {
            "text/plain": [
              "['1956',\n",
              " '2720',\n",
              " '1496',\n",
              " '1318',\n",
              " '1296',\n",
              " '1984',\n",
              " '2967',\n",
              " '1598',\n",
              " '1193',\n",
              " '2979',\n",
              " '1592',\n",
              " '1398',\n",
              " '3982',\n",
              " '999',\n",
              " '1798',\n",
              " '1995',\n",
              " '1580',\n",
              " '3518',\n",
              " '1339',\n",
              " '1796',\n",
              " '1490',\n",
              " '2494',\n",
              " '1968',\n",
              " '1489',\n",
              " '1396',\n",
              " '1422',\n",
              " '1149',\n",
              " '1461',\n",
              " '1397',\n",
              " '2143',\n",
              " '1206',\n",
              " '1499',\n",
              " '1199',\n",
              " '998',\n",
              " '1950',\n",
              " '1399',\n",
              " '1997',\n",
              " '1591',\n",
              " '1248',\n",
              " '1595',\n",
              " '1560',\n",
              " '1582',\n",
              " '1597',\n",
              " '1599',\n",
              " '1390',\n",
              " '1581',\n",
              " '1332',\n",
              " '1368',\n",
              " '1596',\n",
              " '1495',\n",
              " '1896',\n",
              " '1859',\n",
              " '1587',\n",
              " '1590',\n",
              " '1229',\n",
              " '1242',\n",
              " '1360',\n",
              " '1240',\n",
              " '1998',\n",
              " '1086',\n",
              " '2993',\n",
              " '1198',\n",
              " '1395',\n",
              " '1197',\n",
              " '1388',\n",
              " '1364',\n",
              " '1991',\n",
              " '1493',\n",
              " '1498',\n",
              " '1324',\n",
              " '898',\n",
              " '1329']"
            ]
          },
          "metadata": {},
          "execution_count": 18
        }
      ]
    },
    {
      "cell_type": "code",
      "source": [
        "# Get the unique values ​​of the 'engine_capacity_cc' column\n",
        "unique_values = test.select(\"engine_capacity_cc\").distinct().collect()\n",
        "\n",
        "# Get Result of Spark DataFrame\n",
        "unique_values_list = [row[\"engine_capacity_cc\"] for row in unique_values]\n",
        "unique_values_list"
      ],
      "metadata": {
        "colab": {
          "base_uri": "https://localhost:8080/"
        },
        "id": "GCs8dA_mlHz-",
        "outputId": "9560a3b2-6073-43da-ea2d-c1140eee899c"
      },
      "execution_count": 19,
      "outputs": [
        {
          "output_type": "execute_result",
          "data": {
            "text/plain": [
              "['1496',\n",
              " '1598',\n",
              " '1398',\n",
              " '999',\n",
              " '1798',\n",
              " '1995',\n",
              " '2148',\n",
              " '1339',\n",
              " '1796',\n",
              " '1490',\n",
              " '1968',\n",
              " '1489',\n",
              " '1396',\n",
              " '1422',\n",
              " '1149',\n",
              " '1461',\n",
              " '1499',\n",
              " '1199',\n",
              " '998',\n",
              " '1399',\n",
              " '1997',\n",
              " '1591',\n",
              " '1248',\n",
              " '1595',\n",
              " '1560',\n",
              " '1582',\n",
              " '1599',\n",
              " '1597',\n",
              " '1581',\n",
              " '1390',\n",
              " '1332',\n",
              " '1368',\n",
              " '1596',\n",
              " '1896',\n",
              " '1895',\n",
              " '1590',\n",
              " '1229',\n",
              " '1242',\n",
              " '1360',\n",
              " '1395',\n",
              " '1197',\n",
              " '1388',\n",
              " '1364',\n",
              " '1586',\n",
              " '1991',\n",
              " '1493',\n",
              " '1498',\n",
              " '898',\n",
              " '1329']"
            ]
          },
          "metadata": {},
          "execution_count": 19
        }
      ]
    },
    {
      "cell_type": "markdown",
      "source": [
        "## **regexp_extract() - PySpark SQL functions**"
      ],
      "metadata": {
        "id": "WxwVHJa974b4"
      }
    },
    {
      "cell_type": "code",
      "source": [
        "#Use PySpark SQL functions to extract numeric values ​​in a 'engine_capacity_cc' column\n",
        "train = train.withColumn(\"engine_capacity_cc\", regexp_extract(\"engine_capacity_cc\", r\"\\d+\", 0).cast(\"int\"))\n",
        "\n",
        "# Result\n",
        "train.show()\n",
        "\n",
        "\n",
        "#In this example, the numeric values ​​in a specific column are extracted using the regexp_extract function.\n",
        "#Regular expression (r\"\\d+\") used here refers to numeric expressions.\n",
        "#The resulting numbers are then converted to the integer data type using the cast(\"int\") function.\n",
        "#After performing these operations, you will see that the column now contains only numeric values ​​when displaying the DataFrame."
      ],
      "metadata": {
        "colab": {
          "base_uri": "https://localhost:8080/"
        },
        "id": "DrV7Duw6nZen",
        "outputId": "3a81432f-6734-4be0-c837-7e67644eaba7"
      },
      "execution_count": 20,
      "outputs": [
        {
          "output_type": "stream",
          "name": "stdout",
          "text": [
            "+---------+----------+--------+--------------------+----+------+-------------+------------+-----------+-------------+----------+------------+---------------+---------+------------------+---------------+-------------+-------------+-----------------------+-------------+---------------------------+-------------------+\n",
            "|price_try|      make|  series|               model|year|    km| transmission|        fuel|  body_type|     warranty|     from_| wheel_drive|cylinder_number|torque_nm|engine_capacity_cc|engine_power_hp|max_power_rpm|min_power_rpm|acceleration_0to100_sec|max_speed_kmh|average_fuel_consumption_lt|    painted_changed|\n",
            "+---------+----------+--------+--------------------+----+------+-------------+------------+-----------+-------------+----------+------------+---------------+---------+------------------+---------------+-------------+-------------+-----------------------+-------------+---------------------------+-------------------+\n",
            "|   769950|       BMW|5 Serisi|        520d Premium|2008|369000|     Otomatik|       Dizel|      Sedan|Garantisi Yok| Galeriden|Arkadan İtiş|            4.0|    350.0|              1995|            177|       4000.0|       1750.0|                    8,4|        226.0|                        6,1|     Tamamı orjinal|\n",
            "|   635000|      Ford|   Focus|    1.6 TDCi Trend X|2012|210000|          Düz|       Dizel|      Sedan|Garantisi Yok| Galeriden| Önden Çekiş|            4.0|    230.0|              1560|             95|       3600.0|       2000.0|                   12,5|        180.0|                        4,2|     Tamamı orjinal|\n",
            "|   475000|      Fiat|   Linea|  1.3 Multijet Urban|2013|116749|          Düz|       Dizel|      Sedan|Garantisi Yok|Sahibinden| Önden Çekiş|            4.0|    200.0|              1248|             95|       4000.0|       1500.0|                   13,8|        170.0|                        4,9|           8 boyalı|\n",
            "|   359500|   Citroen|      C3|          1.4 HDi SX|2005|190000|          Düz|       Dizel|Hatchback/5|Garantisi Yok| Galeriden| Önden Çekiş|            4.0|    150.0|              1398|             71|       4000.0|       2000.0|                   15,4|        165.0|                        4,2|1 değişen, 7 boyalı|\n",
            "|   699500|   Renault| Fluence|        1.5 dCi Icon|2015|180000|Yarı Otomatik|       Dizel|      Sedan|Garantisi Yok| Galeriden| Önden Çekiş|            4.0|    240.0|              1461|            110|       4000.0|       2000.0|                   11,5|        185.0|                        4,4|     Tamamı orjinal|\n",
            "|   598750|   Peugeot|     208| 1.2 PureTech Active|2017| 70000|          Düz|      Benzin|Hatchback/5|Garantisi Yok| Galeriden| Önden Çekiş|            3.0|    118.0|              1199|             83|       5750.0|       2750.0|                   12,2|        178.0|                        4,5|1 değişen, 2 boyalı|\n",
            "|  1090950|      Seat|    Leon|       1.6 TDI Style|2017|108000|Yarı Otomatik|       Dizel|Hatchback/5|Garantisi Yok| Galeriden| Önden Çekiş|            4.0|    250.0|              1598|            115|       4000.0|       1500.0|                    9,8|        197.0|                        4,1|     Tamamı orjinal|\n",
            "|   685000|Volkswagen|    Polo| 1.4 TDi Comfortline|2015|137000|Yarı Otomatik|       Dizel|Hatchback/5|Garantisi Yok| Galeriden| Önden Çekiş|            3.0|    230.0|              1422|             90|       3500.0|       1500.0|                   10,9|        184.0|                        3,5|3 değişen, 4 boyalı|\n",
            "|   670000|    Toyota| Corolla|1.4 D-4D Comfort ...|2012|220000|Yarı Otomatik|       Dizel|      Sedan|Garantisi Yok| Galeriden| Önden Çekiş|            4.0|    205.0|              1364|             90|       3800.0|       1800.0|                   14,8|        175.0|                        4,8|1 değişen, 1 boyalı|\n",
            "|  1135000|      Opel|Insignia|1.6 CDTI Grand Sp...|2017|172000|     Otomatik|       Dizel|Hatchback/5|Garantisi Yok| Galeriden| Önden Çekiş|            4.0|    320.0|              1598|            136|       3500.0|       2000.0|                   10,9|        203.0|                        5,1|      Belirtilmemiş|\n",
            "|   659000|   Citroen|C-Elysee|    1.5 BlueHDi Feel|2021| 35000|          Düz|       Dizel|      Sedan|Garantisi Yok| Galeriden| Önden Çekiş|            4.0|    250.0|              1499|            100|       3500.0|       1750.0|                   10,1|        189.0|                        3,9|3 değişen, 4 boyalı|\n",
            "|   579900|      Opel|   Corsa|   1.3 CDTI Essentia|2009| 60000|          Düz|       Dizel|Hatchback/5|Garantisi Yok| Galeriden| Önden Çekiş|            4.0|    170.0|              1248|             75|       4000.0|       2250.0|                   14,5|        163.0|                        4,6|     Tamamı orjinal|\n",
            "|   679500|     Honda|   Civic| 1.6 i-VTEC Elegance|2009|178000|     Otomatik|LPG & Benzin|      Sedan|Garantisi Yok| Galeriden| Önden Çekiş|            4.0|    152.0|              1595|            125|       6500.0|       4200.0|                   10,3|        192.0|                        7,1|1 değişen, 3 boyalı|\n",
            "|  1250000|Volkswagen|   VW CC|             1.4 TSi|2015|128000|Yarı Otomatik|      Benzin|      Coupe|Garantisi Yok| Galeriden| Önden Çekiş|            4.0|    250.0|              1395|            150|       5000.0|       1500.0|                    8,9|        218.0|                        5,6|      Belirtilmemiş|\n",
            "|   465000|      Ford|  Fusion|             1.6 Lux|2005|120000|     Otomatik|LPG & Benzin|Hatchback/5|Garantisi Yok| Galeriden| Önden Çekiş|            4.0|    146.0|              1596|            100|       6000.0|       4000.0|                   12,2|        176.0|                        7,6|2 değişen, 8 boyalı|\n",
            "|   544500|      Ford|  Fiesta|        1.4 Titanium|2009|158000|     Otomatik|LPG & Benzin|Hatchback/5|Garantisi Yok| Galeriden| Önden Çekiş|            4.0|    128.0|              1388|             96|       5750.0|       4200.0|                   13,9|        166.0|                        6,5|2 değişen, 4 boyalı|\n",
            "|   370000|   Renault|  Megane|  1.5 dCi Expression|2008|420000|          Düz|       Dizel|      Sedan|Garantisi Yok| Galeriden| Önden Çekiş|            4.0|    200.0|              1461|             86|       4000.0|       1900.0|                   12,8|        175.0|                        4,7|           5 boyalı|\n",
            "|   615000|       BMW|1 Serisi|       116i Standart|2010|186000|     Otomatik|      Benzin|Hatchback/5|Garantisi Var| Galeriden|Arkadan İtiş|            4.0|    150.0|              1596|            116|       6000.0|       4300.0|                   10,8|        200.0|                        7,5|3 değişen, 7 boyalı|\n",
            "|   515000|      Ford|  Fiesta|      1.4 TDCi Trend|2010|183000|          Düz|       Dizel|Hatchback/5|Garantisi Yok| Galeriden| Önden Çekiş|            4.0|    160.0|              1398|             70|       4000.0|       1750.0|                   14,9|        162.0|                        4,2|1 değişen, 1 boyalı|\n",
            "|  1110000|      Audi|      A3|A3 Sportback 1.0 ...|2016|100000|Yarı Otomatik|      Benzin|Hatchback/5|Garantisi Yok| Galeriden| Önden Çekiş|            3.0|    200.0|               999|            116|       5500.0|       2000.0|                    9,9|        206.0|                        4,5|     Tamamı orjinal|\n",
            "+---------+----------+--------+--------------------+----+------+-------------+------------+-----------+-------------+----------+------------+---------------+---------+------------------+---------------+-------------+-------------+-----------------------+-------------+---------------------------+-------------------+\n",
            "only showing top 20 rows\n",
            "\n"
          ]
        }
      ]
    },
    {
      "cell_type": "code",
      "source": [
        "#Use PySpark SQL functions to extract numeric values ​​in a 'engine_capacity_cc' column\n",
        "test = test.withColumn(\"engine_capacity_cc\", regexp_extract(\"engine_capacity_cc\", r\"\\d+\", 0).cast(\"int\"))\n",
        "\n",
        "# Result\n",
        "test.show()\n"
      ],
      "metadata": {
        "colab": {
          "base_uri": "https://localhost:8080/"
        },
        "id": "O5HoMCuLoFGY",
        "outputId": "2e7ca782-21a7-4c4c-bc38-b111bbe23a6e"
      },
      "execution_count": 21,
      "outputs": [
        {
          "output_type": "stream",
          "name": "stdout",
          "text": [
            "+---------+----------+----------+--------------------+----+------+-------------+------------+-----------+-------------+----------+------------+---------------+---------+------------------+---------------+-------------+-------------+-----------------------+-------------+---------------------------+-------------------+\n",
            "|price_try|      make|    series|               model|year|    km| transmission|        fuel|  body_type|     warranty|     from_| wheel_drive|cylinder_number|torque_nm|engine_capacity_cc|engine_power_hp|max_power_rpm|min_power_rpm|acceleration_0to100_sec|max_speed_kmh|average_fuel_consumption_lt|    painted_changed|\n",
            "+---------+----------+----------+--------------------+----+------+-------------+------------+-----------+-------------+----------+------------+---------------+---------+------------------+---------------+-------------+-------------+-----------------------+-------------+---------------------------+-------------------+\n",
            "|   750000|      Ford|     Focus|  1.6 Ti-VCT Trend X|2014|209000|          Düz|LPG & Benzin|      Sedan|Garantisi Yok|Sahibinden| Önden Çekiş|            4.0|    158.0|              1596|            125|       6300.0|       4000.0|                   10,9|        198.0|                          6|     Tamamı orjinal|\n",
            "|   730000|      Ford|     Focus|    1.6 TDCi Trend X|2013|184000|          Düz|       Dizel|      Sedan|Garantisi Yok|Sahibinden| Önden Çekiş|            4.0|    230.0|              1560|             95|       3600.0|       2000.0|                   12,5|        180.0|                        4,2|      Tamamı boyalı|\n",
            "|   900000|    Toyota|   Corolla|      1.4 D-4D Touch|2016|111350|Yarı Otomatik|       Dizel|      Sedan|Garantisi Yok|Sahibinden| Önden Çekiş|            4.0|    205.0|              1364|             90|       3800.0|       1800.0|                   14,7|        180.0|                        4,1|      Belirtilmemiş|\n",
            "|   759500|      Fiat|      Egea|   1.6 Multijet Easy|2020| 62000|Yarı Otomatik|       Dizel|      Sedan|Garantisi Yok| Galeriden| Önden Çekiş|            4.0|    320.0|              1598|            120|       3750.0|       1750.0|                    9,8|        200.0|                        3,9|1 değişen, 3 boyalı|\n",
            "|   750000|      MINI|    Cooper|                 1.6|2013|118000|     Otomatik|      Benzin|Hatchback/3|Garantisi Yok|Sahibinden| Önden Çekiş|            4.0|    160.0|              1598|            120|       6000.0|       4250.0|                    9,1|        203.0|                        5,8|1 değişen, 1 boyalı|\n",
            "|   550000|   Hyundai|Accent Era|           1.4 Start|2008|170000|          Düz|LPG & Benzin|      Sedan|Garantisi Yok|Sahibinden| Önden Çekiş|            4.0|    125.0|              1399|             97|       6000.0|       4700.0|                   12,3|        177.0|                        6,5|      Belirtilmemiş|\n",
            "|   400000|   Hyundai|Accent Era|       1.5 CRDi Mode|2011|224000|          Düz|       Dizel|      Sedan|Garantisi Yok|Sahibinden| Önden Çekiş|            4.0|    235.0|              1493|            110|       4000.0|       1900.0|                   11,5|        176.0|                        4,6|1 değişen, 3 boyalı|\n",
            "|   930000|   Hyundai|   Elantra|      1.6 CRDi Elite|2016|113000|Yarı Otomatik|       Dizel|      Sedan|Garantisi Yok|Sahibinden| Önden Çekiş|            4.0|    300.0|              1582|            136|       4000.0|       1900.0|                     11|        200.0|                        4,1|     Tamamı orjinal|\n",
            "|   302000|   Peugeot|       206|    1.4 HDi X-Design|2006|220315|          Düz|       Dizel|Hatchback/5|Garantisi Yok|Sahibinden| Önden Çekiş|            4.0|    150.0|              1398|             69|       4000.0|       1750.0|                   14,7|        168.0|                        4,3|      Belirtilmemiş|\n",
            "|   145000|     Tofaş|     Doğan|                   L|1991|206000|          Düz|LPG & Benzin|      Sedan|Garantisi Yok|Sahibinden|Arkadan İtiş|            4.0|    130.0|              1581|             83|       5800.0|       2900.0|                   13,1|        170.0|                        6,5|           3 boyalı|\n",
            "|    51500|    Toyota|   Corolla|           1.6 Terra|2004|180000|     Otomatik|LPG & Benzin|      Sedan|Garantisi Var|Sahibinden| Önden Çekiş|            4.0|    150.0|              1598|            110|       6000.0|       3800.0|                   11,8|        175.0|                        7,8|           4 boyalı|\n",
            "|   499500|      Opel|     Corsa|   1.3 CDTI Essentia|2012| 99500|          Düz|       Dizel|Hatchback/5|Garantisi Yok| Galeriden| Önden Çekiş|            4.0|    190.0|              1248|             75|       4000.0|       1750.0|                   14,9|        163.0|                          4|          1 değişen|\n",
            "|   795000|Volkswagen|    Passat|1.6 TDi BlueMotio...|2013|248000|Yarı Otomatik|       Dizel|      Sedan|Garantisi Yok| Galeriden| Önden Çekiş|            4.0|    250.0|              1598|            105|       4400.0|       2500.0|                   12,2|        193.0|                        4,7|           4 boyalı|\n",
            "|   635000|      Seat|     Ibiza|       1.2 TSI Style|2016| 75000|          Düz|      Benzin|Hatchback/5|            -|Sahibinden| Önden Çekiş|            4.0|    160.0|              1197|             90|       5400.0|       1400.0|                   10,7|        184.0|                        4,9|           2 boyalı|\n",
            "|   715000|   Renault|   Fluence|        1.5 dCi Icon|2015|202917|Yarı Otomatik|       Dizel|      Sedan|            -|Sahibinden| Önden Çekiş|            4.0|    240.0|              1461|            110|       4000.0|       2000.0|                   11,5|        185.0|                        4,4|           3 boyalı|\n",
            "|   750000|Volkswagen|    Passat|1.4 TSi BlueMotio...|2013|255000|          Düz|LPG & Benzin|      Sedan|Garantisi Yok|Sahibinden| Önden Çekiş|            4.0|    200.0|              1390|            122|       5000.0|       1500.0|                   10,3|        203.0|                        6,4|      Belirtilmemiş|\n",
            "|   886500|   Renault|    Megane|       1.5 dCi Touch|2016|220000|Yarı Otomatik|       Dizel|Hatchback/5|Garantisi Var| Galeriden| Önden Çekiş|            4.0|    250.0|              1461|            110|       4000.0|       1750.0|                   12,3|        187.0|                        3,7|      Belirtilmemiş|\n",
            "|   485000|   Renault|    Symbol|  1.5 dCi Expression|2011|188000|          Düz|       Dizel|      Sedan|Garantisi Yok|Sahibinden| Önden Çekiş|            4.0|    160.0|              1461|             65|       3750.0|       1900.0|                   16,5|        160.0|                        4,5|1 değişen, 4 boyalı|\n",
            "|   770000|      Opel|     Astra|    1.6 Edition Plus|2017| 56000|          Düz|      Benzin|      Sedan|            -|Sahibinden| Önden Çekiş|            4.0|    155.0|              1598|            115|       6000.0|       4000.0|                   11,9|        193.0|                        6,5|1 değişen, 2 boyalı|\n",
            "|   665000|      Fiat|      Egea|       1.4 Fire Easy|2020| 85445|          Düz|LPG & Benzin|      Sedan|Garantisi Var|Sahibinden| Önden Çekiş|            4.0|    127.0|              1368|             95|       6000.0|       4500.0|                   11,5|        185.0|                        5,7|      Belirtilmemiş|\n",
            "+---------+----------+----------+--------------------+----+------+-------------+------------+-----------+-------------+----------+------------+---------------+---------+------------------+---------------+-------------+-------------+-----------------------+-------------+---------------------------+-------------------+\n",
            "only showing top 20 rows\n",
            "\n"
          ]
        }
      ]
    },
    {
      "cell_type": "markdown",
      "source": [
        "## **isNull()**"
      ],
      "metadata": {
        "id": "8Yzm-IQA9CO5"
      }
    },
    {
      "cell_type": "code",
      "source": [
        "#Find the number of missing values ​​in the engine_capacity_cc column\n",
        "train.select(spark_sum(when(col(\"engine_capacity_cc\").isNull(), 1).otherwise(0)).alias(\"engine_capacity_cc\")).show()"
      ],
      "metadata": {
        "colab": {
          "base_uri": "https://localhost:8080/"
        },
        "id": "jOxkRVUXo_en",
        "outputId": "cef50342-5723-44e7-fd64-6a9cb5624e26"
      },
      "execution_count": 22,
      "outputs": [
        {
          "output_type": "stream",
          "name": "stdout",
          "text": [
            "+------------------+\n",
            "|engine_capacity_cc|\n",
            "+------------------+\n",
            "|                 0|\n",
            "+------------------+\n",
            "\n"
          ]
        }
      ]
    },
    {
      "cell_type": "code",
      "source": [
        "#Find the number of missing values ​​in the engine_capacity_cc column\n",
        "test.select(spark_sum(when(col(\"engine_capacity_cc\").isNull(), 1).otherwise(0)).alias(\"engine_capacity_cc\")).show()"
      ],
      "metadata": {
        "colab": {
          "base_uri": "https://localhost:8080/"
        },
        "id": "fQSV70ezpN4n",
        "outputId": "d3658c50-f461-4846-fc91-5954e578a624"
      },
      "execution_count": 23,
      "outputs": [
        {
          "output_type": "stream",
          "name": "stdout",
          "text": [
            "+------------------+\n",
            "|engine_capacity_cc|\n",
            "+------------------+\n",
            "|                 0|\n",
            "+------------------+\n",
            "\n"
          ]
        }
      ]
    },
    {
      "cell_type": "markdown",
      "source": [
        "## **Fill in missing values**\n"
      ],
      "metadata": {
        "id": "hBEhpPYG9lz1"
      }
    },
    {
      "cell_type": "code",
      "source": [
        "engine_capacity_dict = {\n",
        "    '1.2 Twinport Enjoy': '1200',\n",
        "    'Ultimate': '1520',\n",
        "    '1.4 Authentique': '1400',\n",
        "    '1.4 TSi Highline': '1400',\n",
        "    '135 L': '1300',\n",
        "    '1.6': '1600',\n",
        "    '1.4 TDCi Comfort': '1400',\n",
        "    '1.2 Trendline': '1200',\n",
        "    '2.4 D5 VIP': '2400',\n",
        "    '1.6 EX Advance': '1600',\n",
        "    '1.4 RNA': '1400',\n",
        "    '1.4 X-Line': '1400',\n",
        "    '2.0 HDi ST': '2000',\n",
        "    'Grande 1.4 Fire Active': '1400',\n",
        "    '1.6 Europa RT': '1600',\n",
        "    '1.6 i-VTEC Eco Executive': '1600',\n",
        "    '1.6 XEi': '1600',\n",
        "    '500 1.3 Mjet Lounge': '1300',\n",
        "    '1.6 TDCi Titanium': '1600',\n",
        "    '4S Performance Plus': '1520'\n",
        "}"
      ],
      "metadata": {
        "id": "l7lCy26cqu3j"
      },
      "execution_count": 24,
      "outputs": []
    },
    {
      "cell_type": "code",
      "source": [
        "#Fill in missing values ​​using engine_capacity_dict\n",
        "for model, engine_capacity in engine_capacity_dict.items():\n",
        "    train = train.withColumn(\"engine_capacity_cc\", when((col(\"model\") == model) & (col(\"engine_capacity_cc\").isNull()), lit(engine_capacity)).otherwise(col(\"engine_capacity_cc\")))\n",
        "\n",
        "train.show()"
      ],
      "metadata": {
        "colab": {
          "base_uri": "https://localhost:8080/"
        },
        "id": "hq2e4oReq4C8",
        "outputId": "1e2f3eee-7047-4d05-c609-37b9f048f755"
      },
      "execution_count": 25,
      "outputs": [
        {
          "output_type": "stream",
          "name": "stdout",
          "text": [
            "+---------+----------+--------+--------------------+----+------+-------------+------------+-----------+-------------+----------+------------+---------------+---------+------------------+---------------+-------------+-------------+-----------------------+-------------+---------------------------+-------------------+\n",
            "|price_try|      make|  series|               model|year|    km| transmission|        fuel|  body_type|     warranty|     from_| wheel_drive|cylinder_number|torque_nm|engine_capacity_cc|engine_power_hp|max_power_rpm|min_power_rpm|acceleration_0to100_sec|max_speed_kmh|average_fuel_consumption_lt|    painted_changed|\n",
            "+---------+----------+--------+--------------------+----+------+-------------+------------+-----------+-------------+----------+------------+---------------+---------+------------------+---------------+-------------+-------------+-----------------------+-------------+---------------------------+-------------------+\n",
            "|   769950|       BMW|5 Serisi|        520d Premium|2008|369000|     Otomatik|       Dizel|      Sedan|Garantisi Yok| Galeriden|Arkadan İtiş|            4.0|    350.0|              1995|            177|       4000.0|       1750.0|                    8,4|        226.0|                        6,1|     Tamamı orjinal|\n",
            "|   635000|      Ford|   Focus|    1.6 TDCi Trend X|2012|210000|          Düz|       Dizel|      Sedan|Garantisi Yok| Galeriden| Önden Çekiş|            4.0|    230.0|              1560|             95|       3600.0|       2000.0|                   12,5|        180.0|                        4,2|     Tamamı orjinal|\n",
            "|   475000|      Fiat|   Linea|  1.3 Multijet Urban|2013|116749|          Düz|       Dizel|      Sedan|Garantisi Yok|Sahibinden| Önden Çekiş|            4.0|    200.0|              1248|             95|       4000.0|       1500.0|                   13,8|        170.0|                        4,9|           8 boyalı|\n",
            "|   359500|   Citroen|      C3|          1.4 HDi SX|2005|190000|          Düz|       Dizel|Hatchback/5|Garantisi Yok| Galeriden| Önden Çekiş|            4.0|    150.0|              1398|             71|       4000.0|       2000.0|                   15,4|        165.0|                        4,2|1 değişen, 7 boyalı|\n",
            "|   699500|   Renault| Fluence|        1.5 dCi Icon|2015|180000|Yarı Otomatik|       Dizel|      Sedan|Garantisi Yok| Galeriden| Önden Çekiş|            4.0|    240.0|              1461|            110|       4000.0|       2000.0|                   11,5|        185.0|                        4,4|     Tamamı orjinal|\n",
            "|   598750|   Peugeot|     208| 1.2 PureTech Active|2017| 70000|          Düz|      Benzin|Hatchback/5|Garantisi Yok| Galeriden| Önden Çekiş|            3.0|    118.0|              1199|             83|       5750.0|       2750.0|                   12,2|        178.0|                        4,5|1 değişen, 2 boyalı|\n",
            "|  1090950|      Seat|    Leon|       1.6 TDI Style|2017|108000|Yarı Otomatik|       Dizel|Hatchback/5|Garantisi Yok| Galeriden| Önden Çekiş|            4.0|    250.0|              1598|            115|       4000.0|       1500.0|                    9,8|        197.0|                        4,1|     Tamamı orjinal|\n",
            "|   685000|Volkswagen|    Polo| 1.4 TDi Comfortline|2015|137000|Yarı Otomatik|       Dizel|Hatchback/5|Garantisi Yok| Galeriden| Önden Çekiş|            3.0|    230.0|              1422|             90|       3500.0|       1500.0|                   10,9|        184.0|                        3,5|3 değişen, 4 boyalı|\n",
            "|   670000|    Toyota| Corolla|1.4 D-4D Comfort ...|2012|220000|Yarı Otomatik|       Dizel|      Sedan|Garantisi Yok| Galeriden| Önden Çekiş|            4.0|    205.0|              1364|             90|       3800.0|       1800.0|                   14,8|        175.0|                        4,8|1 değişen, 1 boyalı|\n",
            "|  1135000|      Opel|Insignia|1.6 CDTI Grand Sp...|2017|172000|     Otomatik|       Dizel|Hatchback/5|Garantisi Yok| Galeriden| Önden Çekiş|            4.0|    320.0|              1598|            136|       3500.0|       2000.0|                   10,9|        203.0|                        5,1|      Belirtilmemiş|\n",
            "|   659000|   Citroen|C-Elysee|    1.5 BlueHDi Feel|2021| 35000|          Düz|       Dizel|      Sedan|Garantisi Yok| Galeriden| Önden Çekiş|            4.0|    250.0|              1499|            100|       3500.0|       1750.0|                   10,1|        189.0|                        3,9|3 değişen, 4 boyalı|\n",
            "|   579900|      Opel|   Corsa|   1.3 CDTI Essentia|2009| 60000|          Düz|       Dizel|Hatchback/5|Garantisi Yok| Galeriden| Önden Çekiş|            4.0|    170.0|              1248|             75|       4000.0|       2250.0|                   14,5|        163.0|                        4,6|     Tamamı orjinal|\n",
            "|   679500|     Honda|   Civic| 1.6 i-VTEC Elegance|2009|178000|     Otomatik|LPG & Benzin|      Sedan|Garantisi Yok| Galeriden| Önden Çekiş|            4.0|    152.0|              1595|            125|       6500.0|       4200.0|                   10,3|        192.0|                        7,1|1 değişen, 3 boyalı|\n",
            "|  1250000|Volkswagen|   VW CC|             1.4 TSi|2015|128000|Yarı Otomatik|      Benzin|      Coupe|Garantisi Yok| Galeriden| Önden Çekiş|            4.0|    250.0|              1395|            150|       5000.0|       1500.0|                    8,9|        218.0|                        5,6|      Belirtilmemiş|\n",
            "|   465000|      Ford|  Fusion|             1.6 Lux|2005|120000|     Otomatik|LPG & Benzin|Hatchback/5|Garantisi Yok| Galeriden| Önden Çekiş|            4.0|    146.0|              1596|            100|       6000.0|       4000.0|                   12,2|        176.0|                        7,6|2 değişen, 8 boyalı|\n",
            "|   544500|      Ford|  Fiesta|        1.4 Titanium|2009|158000|     Otomatik|LPG & Benzin|Hatchback/5|Garantisi Yok| Galeriden| Önden Çekiş|            4.0|    128.0|              1388|             96|       5750.0|       4200.0|                   13,9|        166.0|                        6,5|2 değişen, 4 boyalı|\n",
            "|   370000|   Renault|  Megane|  1.5 dCi Expression|2008|420000|          Düz|       Dizel|      Sedan|Garantisi Yok| Galeriden| Önden Çekiş|            4.0|    200.0|              1461|             86|       4000.0|       1900.0|                   12,8|        175.0|                        4,7|           5 boyalı|\n",
            "|   615000|       BMW|1 Serisi|       116i Standart|2010|186000|     Otomatik|      Benzin|Hatchback/5|Garantisi Var| Galeriden|Arkadan İtiş|            4.0|    150.0|              1596|            116|       6000.0|       4300.0|                   10,8|        200.0|                        7,5|3 değişen, 7 boyalı|\n",
            "|   515000|      Ford|  Fiesta|      1.4 TDCi Trend|2010|183000|          Düz|       Dizel|Hatchback/5|Garantisi Yok| Galeriden| Önden Çekiş|            4.0|    160.0|              1398|             70|       4000.0|       1750.0|                   14,9|        162.0|                        4,2|1 değişen, 1 boyalı|\n",
            "|  1110000|      Audi|      A3|A3 Sportback 1.0 ...|2016|100000|Yarı Otomatik|      Benzin|Hatchback/5|Garantisi Yok| Galeriden| Önden Çekiş|            3.0|    200.0|               999|            116|       5500.0|       2000.0|                    9,9|        206.0|                        4,5|     Tamamı orjinal|\n",
            "+---------+----------+--------+--------------------+----+------+-------------+------------+-----------+-------------+----------+------------+---------------+---------+------------------+---------------+-------------+-------------+-----------------------+-------------+---------------------------+-------------------+\n",
            "only showing top 20 rows\n",
            "\n"
          ]
        }
      ]
    },
    {
      "cell_type": "code",
      "source": [
        "train.printSchema()"
      ],
      "metadata": {
        "colab": {
          "base_uri": "https://localhost:8080/"
        },
        "id": "vJn9R1turcM5",
        "outputId": "03b87877-141a-451e-e78e-43490d421334"
      },
      "execution_count": 26,
      "outputs": [
        {
          "output_type": "stream",
          "name": "stdout",
          "text": [
            "root\n",
            " |-- price_try: string (nullable = true)\n",
            " |-- make: string (nullable = true)\n",
            " |-- series: string (nullable = true)\n",
            " |-- model: string (nullable = true)\n",
            " |-- year: string (nullable = true)\n",
            " |-- km: integer (nullable = true)\n",
            " |-- transmission: string (nullable = true)\n",
            " |-- fuel: string (nullable = true)\n",
            " |-- body_type: string (nullable = true)\n",
            " |-- warranty: string (nullable = true)\n",
            " |-- from_: string (nullable = true)\n",
            " |-- wheel_drive: string (nullable = true)\n",
            " |-- cylinder_number: float (nullable = true)\n",
            " |-- torque_nm: float (nullable = true)\n",
            " |-- engine_capacity_cc: string (nullable = true)\n",
            " |-- engine_power_hp: string (nullable = true)\n",
            " |-- max_power_rpm: float (nullable = true)\n",
            " |-- min_power_rpm: float (nullable = true)\n",
            " |-- acceleration_0to100_sec: string (nullable = true)\n",
            " |-- max_speed_kmh: float (nullable = true)\n",
            " |-- average_fuel_consumption_lt: string (nullable = true)\n",
            " |-- painted_changed: string (nullable = true)\n",
            "\n"
          ]
        }
      ]
    },
    {
      "cell_type": "markdown",
      "source": [
        "## **Convert Data Type**"
      ],
      "metadata": {
        "id": "roZV5BpK_m5o"
      }
    },
    {
      "cell_type": "code",
      "source": [
        "train.select(\"engine_capacity_cc\").collect()[300][0]"
      ],
      "metadata": {
        "colab": {
          "base_uri": "https://localhost:8080/",
          "height": 36
        },
        "id": "uKLcBd79rsB8",
        "outputId": "49e1db7b-92ef-42f7-9c3b-ba89adcd009d"
      },
      "execution_count": 27,
      "outputs": [
        {
          "output_type": "execute_result",
          "data": {
            "text/plain": [
              "'1598'"
            ],
            "application/vnd.google.colaboratory.intrinsic+json": {
              "type": "string"
            }
          },
          "metadata": {},
          "execution_count": 27
        }
      ]
    },
    {
      "cell_type": "code",
      "source": [
        "train = train.withColumn(\"engine_capacity_cc\", col(\"engine_capacity_cc\").cast(\"integer\"))"
      ],
      "metadata": {
        "id": "vyYEL0SQsB-E"
      },
      "execution_count": 28,
      "outputs": []
    },
    {
      "cell_type": "markdown",
      "source": [
        "#**cylinder_nuber column**"
      ],
      "metadata": {
        "id": "JYiOfzjF_sB1"
      }
    },
    {
      "cell_type": "markdown",
      "source": [
        "## **Get the unique values ​​of the 'cylinder_capacity_cc' column**\n",
        "\n",
        "\n"
      ],
      "metadata": {
        "id": "K4XLfSsKAEWe"
      }
    },
    {
      "cell_type": "code",
      "source": [
        "# Get the unique values ​​of the 'engine_capacity_cc' column\n",
        "unique_values = train.select(\"cylinder_number\").distinct().collect()\n",
        "\n",
        "# Get Result of Spark DataFrame\n",
        "unique_values_list = [row[\"cylinder_number\"] for row in unique_values]\n",
        "unique_values_list"
      ],
      "metadata": {
        "colab": {
          "base_uri": "https://localhost:8080/"
        },
        "id": "DrCFmgP1s7ZB",
        "outputId": "83a31b37-59c7-4cae-ef2a-776d70f74073"
      },
      "execution_count": 86,
      "outputs": [
        {
          "output_type": "execute_result",
          "data": {
            "text/plain": [
              "[6, 3, 5, 4, 8]"
            ]
          },
          "metadata": {},
          "execution_count": 86
        }
      ]
    },
    {
      "cell_type": "markdown",
      "source": [
        "## **Filter rows**"
      ],
      "metadata": {
        "id": "ZWGlu4enAqc6"
      }
    },
    {
      "cell_type": "code",
      "source": [
        "# Filter rows with cylinder_number column 8.0\n",
        "filtered_train = train.filter(col(\"cylinder_number\") == 8.0)\n",
        "\n",
        "# Find the minimum value of the engine_capacity_cc column\n",
        "min_engine_capacity = filtered_train.agg({\"engine_capacity_cc\": \"min\"}).collect()[0][0]\n",
        "\n",
        "# Result\n",
        "min_engine_capacity"
      ],
      "metadata": {
        "colab": {
          "base_uri": "https://localhost:8080/"
        },
        "id": "atZoP99MtSoM",
        "outputId": "8d8316b2-4d8f-417c-f32d-c328d3713753"
      },
      "execution_count": 30,
      "outputs": [
        {
          "output_type": "execute_result",
          "data": {
            "text/plain": [
              "3982"
            ]
          },
          "metadata": {},
          "execution_count": 30
        }
      ]
    },
    {
      "cell_type": "code",
      "source": [
        "# Filter rows with cylinder_number column 6.0\n",
        "filtered_train = train.filter(col(\"cylinder_number\") == 6.0)\n",
        "# Filter rows with cylinder_number column\n",
        "# Find the minimum value of the engine_capacity_cc column\n",
        "min_engine_capacity = filtered_train.agg({\"engine_capacity_cc\": \"min\"}).collect()[0][0]\n",
        "\n",
        "# Result\n",
        "min_engine_capacity"
      ],
      "metadata": {
        "colab": {
          "base_uri": "https://localhost:8080/"
        },
        "id": "3aFQy_EStyTp",
        "outputId": "1a2f5d00-b6e1-46ae-f5df-ad69899b6bd6"
      },
      "execution_count": 31,
      "outputs": [
        {
          "output_type": "execute_result",
          "data": {
            "text/plain": [
              "1991"
            ]
          },
          "metadata": {},
          "execution_count": 31
        }
      ]
    },
    {
      "cell_type": "code",
      "source": [
        "# Filter rows with cylinder_number column 5.0\n",
        "filtered_train = train.filter(col(\"cylinder_number\") == 5.0)\n",
        "\n",
        "# Find the minimum value of the engine_capacity_cc column\n",
        "min_engine_capacity = filtered_train.agg({\"engine_capacity_cc\": \"min\"}).collect()[0][0]\n",
        "\n",
        "# Result\n",
        "min_engine_capacity"
      ],
      "metadata": {
        "colab": {
          "base_uri": "https://localhost:8080/"
        },
        "id": "sbeNNz_Tt5fz",
        "outputId": "d57fb50e-a125-459f-823e-7d76c08db75d"
      },
      "execution_count": 32,
      "outputs": [
        {
          "output_type": "execute_result",
          "data": {
            "text/plain": [
              "1998"
            ]
          },
          "metadata": {},
          "execution_count": 32
        }
      ]
    },
    {
      "cell_type": "code",
      "source": [
        "# Filter rows with cylinder_number column 4.0\n",
        "filtered_train = train.filter(col(\"cylinder_number\") == 4.0)\n",
        "\n",
        "# Find the minimum value of the engine_capacity_cc column\n",
        "min_engine_capacity = filtered_train.agg({\"engine_capacity_cc\": \"min\"}).collect()[0][0]\n",
        "\n",
        "# Result\n",
        "min_engine_capacity"
      ],
      "metadata": {
        "colab": {
          "base_uri": "https://localhost:8080/"
        },
        "id": "IzXMLlM2t3kS",
        "outputId": "58b37ff4-ca0e-4220-c24b-40bc8968b7c5"
      },
      "execution_count": 33,
      "outputs": [
        {
          "output_type": "execute_result",
          "data": {
            "text/plain": [
              "1086"
            ]
          },
          "metadata": {},
          "execution_count": 33
        }
      ]
    },
    {
      "cell_type": "code",
      "source": [
        "# Filter rows with cylinder_number column 3.0\n",
        "filtered_train = train.filter(col(\"cylinder_number\") == 3.0)\n",
        "\n",
        "# Find the minimum value of the engine_capacity_cc column\n",
        "min_engine_capacity = filtered_train.agg({\"engine_capacity_cc\": \"min\"}).collect()[0][0]\n",
        "\n",
        "# Result\n",
        "min_engine_capacity"
      ],
      "metadata": {
        "colab": {
          "base_uri": "https://localhost:8080/"
        },
        "id": "sfpeJ9GmuFDR",
        "outputId": "3048f49b-2e58-475e-ef4c-0958cc387675"
      },
      "execution_count": 34,
      "outputs": [
        {
          "output_type": "execute_result",
          "data": {
            "text/plain": [
              "898"
            ]
          },
          "metadata": {},
          "execution_count": 34
        }
      ]
    },
    {
      "cell_type": "code",
      "source": [
        "# Create cylinder_number column\n",
        "train = train.withColumn(\"new_cylinder_number\",\n",
        "                         when(col(\"engine_capacity_cc\") >= 2997, 8)\n",
        "                         .when(col(\"engine_capacity_cc\") >= 1991, 6)\n",
        "                         .when(col(\"engine_capacity_cc\") >= 1984, 5)\n",
        "                         .when(col(\"engine_capacity_cc\") >= 998, 4)\n",
        "                         .when(col(\"engine_capacity_cc\") >= 898, 3)\n",
        "                         .otherwise(col(\"cylinder_number\")))\n",
        "\n",
        "#Update the cylinder_number column\n",
        "train = train.withColumn(\"cylinder_number\", col(\"new_cylinder_number\")).drop(\"new_cylinder_number\")\n",
        "\n",
        "# Result\n",
        "train.show()\n"
      ],
      "metadata": {
        "colab": {
          "base_uri": "https://localhost:8080/"
        },
        "id": "HKJoqIwOuYvN",
        "outputId": "8e3ea6bb-ab13-4941-c658-509efa0244f1"
      },
      "execution_count": 35,
      "outputs": [
        {
          "output_type": "stream",
          "name": "stdout",
          "text": [
            "+---------+----------+--------+--------------------+----+------+-------------+------------+-----------+-------------+----------+------------+---------------+---------+------------------+---------------+-------------+-------------+-----------------------+-------------+---------------------------+-------------------+\n",
            "|price_try|      make|  series|               model|year|    km| transmission|        fuel|  body_type|     warranty|     from_| wheel_drive|cylinder_number|torque_nm|engine_capacity_cc|engine_power_hp|max_power_rpm|min_power_rpm|acceleration_0to100_sec|max_speed_kmh|average_fuel_consumption_lt|    painted_changed|\n",
            "+---------+----------+--------+--------------------+----+------+-------------+------------+-----------+-------------+----------+------------+---------------+---------+------------------+---------------+-------------+-------------+-----------------------+-------------+---------------------------+-------------------+\n",
            "|   769950|       BMW|5 Serisi|        520d Premium|2008|369000|     Otomatik|       Dizel|      Sedan|Garantisi Yok| Galeriden|Arkadan İtiş|            6.0|    350.0|              1995|            177|       4000.0|       1750.0|                    8,4|        226.0|                        6,1|     Tamamı orjinal|\n",
            "|   635000|      Ford|   Focus|    1.6 TDCi Trend X|2012|210000|          Düz|       Dizel|      Sedan|Garantisi Yok| Galeriden| Önden Çekiş|            4.0|    230.0|              1560|             95|       3600.0|       2000.0|                   12,5|        180.0|                        4,2|     Tamamı orjinal|\n",
            "|   475000|      Fiat|   Linea|  1.3 Multijet Urban|2013|116749|          Düz|       Dizel|      Sedan|Garantisi Yok|Sahibinden| Önden Çekiş|            4.0|    200.0|              1248|             95|       4000.0|       1500.0|                   13,8|        170.0|                        4,9|           8 boyalı|\n",
            "|   359500|   Citroen|      C3|          1.4 HDi SX|2005|190000|          Düz|       Dizel|Hatchback/5|Garantisi Yok| Galeriden| Önden Çekiş|            4.0|    150.0|              1398|             71|       4000.0|       2000.0|                   15,4|        165.0|                        4,2|1 değişen, 7 boyalı|\n",
            "|   699500|   Renault| Fluence|        1.5 dCi Icon|2015|180000|Yarı Otomatik|       Dizel|      Sedan|Garantisi Yok| Galeriden| Önden Çekiş|            4.0|    240.0|              1461|            110|       4000.0|       2000.0|                   11,5|        185.0|                        4,4|     Tamamı orjinal|\n",
            "|   598750|   Peugeot|     208| 1.2 PureTech Active|2017| 70000|          Düz|      Benzin|Hatchback/5|Garantisi Yok| Galeriden| Önden Çekiş|            4.0|    118.0|              1199|             83|       5750.0|       2750.0|                   12,2|        178.0|                        4,5|1 değişen, 2 boyalı|\n",
            "|  1090950|      Seat|    Leon|       1.6 TDI Style|2017|108000|Yarı Otomatik|       Dizel|Hatchback/5|Garantisi Yok| Galeriden| Önden Çekiş|            4.0|    250.0|              1598|            115|       4000.0|       1500.0|                    9,8|        197.0|                        4,1|     Tamamı orjinal|\n",
            "|   685000|Volkswagen|    Polo| 1.4 TDi Comfortline|2015|137000|Yarı Otomatik|       Dizel|Hatchback/5|Garantisi Yok| Galeriden| Önden Çekiş|            4.0|    230.0|              1422|             90|       3500.0|       1500.0|                   10,9|        184.0|                        3,5|3 değişen, 4 boyalı|\n",
            "|   670000|    Toyota| Corolla|1.4 D-4D Comfort ...|2012|220000|Yarı Otomatik|       Dizel|      Sedan|Garantisi Yok| Galeriden| Önden Çekiş|            4.0|    205.0|              1364|             90|       3800.0|       1800.0|                   14,8|        175.0|                        4,8|1 değişen, 1 boyalı|\n",
            "|  1135000|      Opel|Insignia|1.6 CDTI Grand Sp...|2017|172000|     Otomatik|       Dizel|Hatchback/5|Garantisi Yok| Galeriden| Önden Çekiş|            4.0|    320.0|              1598|            136|       3500.0|       2000.0|                   10,9|        203.0|                        5,1|      Belirtilmemiş|\n",
            "|   659000|   Citroen|C-Elysee|    1.5 BlueHDi Feel|2021| 35000|          Düz|       Dizel|      Sedan|Garantisi Yok| Galeriden| Önden Çekiş|            4.0|    250.0|              1499|            100|       3500.0|       1750.0|                   10,1|        189.0|                        3,9|3 değişen, 4 boyalı|\n",
            "|   579900|      Opel|   Corsa|   1.3 CDTI Essentia|2009| 60000|          Düz|       Dizel|Hatchback/5|Garantisi Yok| Galeriden| Önden Çekiş|            4.0|    170.0|              1248|             75|       4000.0|       2250.0|                   14,5|        163.0|                        4,6|     Tamamı orjinal|\n",
            "|   679500|     Honda|   Civic| 1.6 i-VTEC Elegance|2009|178000|     Otomatik|LPG & Benzin|      Sedan|Garantisi Yok| Galeriden| Önden Çekiş|            4.0|    152.0|              1595|            125|       6500.0|       4200.0|                   10,3|        192.0|                        7,1|1 değişen, 3 boyalı|\n",
            "|  1250000|Volkswagen|   VW CC|             1.4 TSi|2015|128000|Yarı Otomatik|      Benzin|      Coupe|Garantisi Yok| Galeriden| Önden Çekiş|            4.0|    250.0|              1395|            150|       5000.0|       1500.0|                    8,9|        218.0|                        5,6|      Belirtilmemiş|\n",
            "|   465000|      Ford|  Fusion|             1.6 Lux|2005|120000|     Otomatik|LPG & Benzin|Hatchback/5|Garantisi Yok| Galeriden| Önden Çekiş|            4.0|    146.0|              1596|            100|       6000.0|       4000.0|                   12,2|        176.0|                        7,6|2 değişen, 8 boyalı|\n",
            "|   544500|      Ford|  Fiesta|        1.4 Titanium|2009|158000|     Otomatik|LPG & Benzin|Hatchback/5|Garantisi Yok| Galeriden| Önden Çekiş|            4.0|    128.0|              1388|             96|       5750.0|       4200.0|                   13,9|        166.0|                        6,5|2 değişen, 4 boyalı|\n",
            "|   370000|   Renault|  Megane|  1.5 dCi Expression|2008|420000|          Düz|       Dizel|      Sedan|Garantisi Yok| Galeriden| Önden Çekiş|            4.0|    200.0|              1461|             86|       4000.0|       1900.0|                   12,8|        175.0|                        4,7|           5 boyalı|\n",
            "|   615000|       BMW|1 Serisi|       116i Standart|2010|186000|     Otomatik|      Benzin|Hatchback/5|Garantisi Var| Galeriden|Arkadan İtiş|            4.0|    150.0|              1596|            116|       6000.0|       4300.0|                   10,8|        200.0|                        7,5|3 değişen, 7 boyalı|\n",
            "|   515000|      Ford|  Fiesta|      1.4 TDCi Trend|2010|183000|          Düz|       Dizel|Hatchback/5|Garantisi Yok| Galeriden| Önden Çekiş|            4.0|    160.0|              1398|             70|       4000.0|       1750.0|                   14,9|        162.0|                        4,2|1 değişen, 1 boyalı|\n",
            "|  1110000|      Audi|      A3|A3 Sportback 1.0 ...|2016|100000|Yarı Otomatik|      Benzin|Hatchback/5|Garantisi Yok| Galeriden| Önden Çekiş|            4.0|    200.0|               999|            116|       5500.0|       2000.0|                    9,9|        206.0|                        4,5|     Tamamı orjinal|\n",
            "+---------+----------+--------+--------------------+----+------+-------------+------------+-----------+-------------+----------+------------+---------------+---------+------------------+---------------+-------------+-------------+-----------------------+-------------+---------------------------+-------------------+\n",
            "only showing top 20 rows\n",
            "\n"
          ]
        }
      ]
    },
    {
      "cell_type": "code",
      "source": [
        "train.select(\"cylinder_number\").collect()[330][0]"
      ],
      "metadata": {
        "colab": {
          "base_uri": "https://localhost:8080/"
        },
        "id": "3L8sIeMqu2ar",
        "outputId": "a11fa3b9-8b34-4cf6-b8a0-0f031d1c10de"
      },
      "execution_count": 36,
      "outputs": [
        {
          "output_type": "execute_result",
          "data": {
            "text/plain": [
              "4.0"
            ]
          },
          "metadata": {},
          "execution_count": 36
        }
      ]
    },
    {
      "cell_type": "markdown",
      "source": [
        "## **Convert Data Type**"
      ],
      "metadata": {
        "id": "NSVC8HxCB92p"
      }
    },
    {
      "cell_type": "code",
      "source": [
        "train = train.withColumn(\"cylinder_number\", col(\"cylinder_number\").cast(\"integer\"))\n"
      ],
      "metadata": {
        "id": "dQPwaTx_vfk_"
      },
      "execution_count": 37,
      "outputs": []
    },
    {
      "cell_type": "markdown",
      "source": [
        "## **isNull()**"
      ],
      "metadata": {
        "id": "62iEVzidCBGg"
      }
    },
    {
      "cell_type": "code",
      "source": [
        "# Find the number of missing values ​​in the engine_capacity_cc column\n",
        "train.select(spark_sum(when(col(\"cylinder_number\").isNull(), 1).otherwise(0)).alias(\"cylinder_number\")).show()"
      ],
      "metadata": {
        "colab": {
          "base_uri": "https://localhost:8080/"
        },
        "id": "SLnXNY5Dvt_l",
        "outputId": "e89dad82-3964-4fe0-887c-1d073109a1f4"
      },
      "execution_count": 38,
      "outputs": [
        {
          "output_type": "stream",
          "name": "stdout",
          "text": [
            "+---------------+\n",
            "|cylinder_number|\n",
            "+---------------+\n",
            "|              0|\n",
            "+---------------+\n",
            "\n"
          ]
        }
      ]
    },
    {
      "cell_type": "markdown",
      "source": [
        "# **torque_nm column**"
      ],
      "metadata": {
        "id": "1FXXL2cp1aoK"
      }
    },
    {
      "cell_type": "markdown",
      "source": [
        "## **Get the unique values ​​of the 'cylinder_capacity_cc' column**\n"
      ],
      "metadata": {
        "id": "1Ry4swpECjyN"
      }
    },
    {
      "cell_type": "code",
      "source": [
        "# Get the unique values ​​of the 'torque_nm' column\n",
        "unique_values = train.select(\"torque_nm\").distinct().collect()\n",
        "\n",
        "# Get Result of Spark DataFrame\n",
        "unique_values_list = [row[\"torque_nm\"] for row in unique_values]\n",
        "unique_values_list"
      ],
      "metadata": {
        "colab": {
          "base_uri": "https://localhost:8080/"
        },
        "id": "RFb0DUwm1dp_",
        "outputId": "e0fc729d-9e82-4a42-88e1-1f828d8a43a7"
      },
      "execution_count": 39,
      "outputs": [
        {
          "output_type": "execute_result",
          "data": {
            "text/plain": [
              "[550.0,\n",
              " 107.0,\n",
              " 500.0,\n",
              " 270.0,\n",
              " 143.0,\n",
              " 285.0,\n",
              " 435.0,\n",
              " 360.0,\n",
              " 101.0,\n",
              " 132.0,\n",
              " 144.0,\n",
              " 105.0,\n",
              " 190.0,\n",
              " 180.0,\n",
              " 117.0,\n",
              " 102.0,\n",
              " 175.0,\n",
              " 255.0,\n",
              " 118.0,\n",
              " 134.0,\n",
              " 350.0,\n",
              " 320.0,\n",
              " 254.0,\n",
              " 110.0,\n",
              " 116.0,\n",
              " 97.0,\n",
              " 124.0,\n",
              " 148.0,\n",
              " 151.0,\n",
              " 225.0,\n",
              " 262.0,\n",
              " 240.0,\n",
              " 380.0,\n",
              " 152.0,\n",
              " 186.0,\n",
              " 128.0,\n",
              " 250.0,\n",
              " 340.0,\n",
              " 123.0,\n",
              " 120.0,\n",
              " 260.0,\n",
              " 133.0,\n",
              " 216.0,\n",
              " 146.0,\n",
              " 400.0,\n",
              " 154.0,\n",
              " 185.0,\n",
              " 700.0,\n",
              " 200.0,\n",
              " 127.0,\n",
              " 140.0,\n",
              " 172.0,\n",
              " 170.0,\n",
              " 150.0,\n",
              " 210.0,\n",
              " 220.0,\n",
              " 450.0,\n",
              " 370.0,\n",
              " 159.0,\n",
              " 121.0,\n",
              " 93.0,\n",
              " 600.0,\n",
              " 95.0,\n",
              " 147.0,\n",
              " 112.0,\n",
              " 204.0,\n",
              " 145.0,\n",
              " 205.0,\n",
              " 115.0,\n",
              " 235.0,\n",
              " 138.0,\n",
              " 221.0,\n",
              " 104.0,\n",
              " 136.0,\n",
              " 130.0,\n",
              " 290.0,\n",
              " 142.0,\n",
              " 475.0,\n",
              " 157.0,\n",
              " 160.0,\n",
              " 156.0,\n",
              " 300.0,\n",
              " 520.0,\n",
              " 131.0,\n",
              " 230.0,\n",
              " 135.0,\n",
              " 125.0,\n",
              " 280.0,\n",
              " 155.0,\n",
              " 114.0,\n",
              " 184.0,\n",
              " 153.0]"
            ]
          },
          "metadata": {},
          "execution_count": 39
        }
      ]
    },
    {
      "cell_type": "markdown",
      "source": [
        "## **Fill in missing values**"
      ],
      "metadata": {
        "id": "Ny7kXeh4C_ux"
      }
    },
    {
      "cell_type": "code",
      "source": [
        "# Create torque_nm column\n",
        "train = train.withColumn(\"new_torque_nm\",\n",
        "                          when(col(\"engine_capacity_cc\") >= 6000, 600)\n",
        "                         .when(col(\"engine_capacity_cc\") >= 5000, 500)\n",
        "                         .when(col(\"engine_capacity_cc\") >= 2500, 250)\n",
        "                         .when(col(\"engine_capacity_cc\") >= 2400, 240)\n",
        "                         .when(col(\"engine_capacity_cc\") >= 1990, 200)\n",
        "                         .when(col(\"engine_capacity_cc\") >= 1780, 180)\n",
        "                         .when(col(\"engine_capacity_cc\") >= 1560, 150)\n",
        "                         .when(col(\"engine_capacity_cc\") >= 1380, 140)\n",
        "                         .when(col(\"engine_capacity_cc\") >= 1280, 130)\n",
        "                         .when(col(\"engine_capacity_cc\") >= 1200, 120)\n",
        "                         .when(col(\"engine_capacity_cc\") >= 1100, 110)\n",
        "                         .otherwise(col(\"torque_nm\")))\n",
        "\n",
        "# Update torque_nm column\n",
        "train = train.withColumn(\"torque_nm\", col(\"new_torque_nm\")).drop(\"new_torque_nm\")\n",
        "\n",
        "# Result\n",
        "train.show()"
      ],
      "metadata": {
        "colab": {
          "base_uri": "https://localhost:8080/"
        },
        "id": "yY1DH1nBDG3-",
        "outputId": "7c8dfedb-1eca-457f-913e-4cdc164b5635"
      },
      "execution_count": 40,
      "outputs": [
        {
          "output_type": "stream",
          "name": "stdout",
          "text": [
            "+---------+----------+--------+--------------------+----+------+-------------+------------+-----------+-------------+----------+------------+---------------+---------+------------------+---------------+-------------+-------------+-----------------------+-------------+---------------------------+-------------------+\n",
            "|price_try|      make|  series|               model|year|    km| transmission|        fuel|  body_type|     warranty|     from_| wheel_drive|cylinder_number|torque_nm|engine_capacity_cc|engine_power_hp|max_power_rpm|min_power_rpm|acceleration_0to100_sec|max_speed_kmh|average_fuel_consumption_lt|    painted_changed|\n",
            "+---------+----------+--------+--------------------+----+------+-------------+------------+-----------+-------------+----------+------------+---------------+---------+------------------+---------------+-------------+-------------+-----------------------+-------------+---------------------------+-------------------+\n",
            "|   769950|       BMW|5 Serisi|        520d Premium|2008|369000|     Otomatik|       Dizel|      Sedan|Garantisi Yok| Galeriden|Arkadan İtiş|              6|    200.0|              1995|            177|       4000.0|       1750.0|                    8,4|        226.0|                        6,1|     Tamamı orjinal|\n",
            "|   635000|      Ford|   Focus|    1.6 TDCi Trend X|2012|210000|          Düz|       Dizel|      Sedan|Garantisi Yok| Galeriden| Önden Çekiş|              4|    150.0|              1560|             95|       3600.0|       2000.0|                   12,5|        180.0|                        4,2|     Tamamı orjinal|\n",
            "|   475000|      Fiat|   Linea|  1.3 Multijet Urban|2013|116749|          Düz|       Dizel|      Sedan|Garantisi Yok|Sahibinden| Önden Çekiş|              4|    120.0|              1248|             95|       4000.0|       1500.0|                   13,8|        170.0|                        4,9|           8 boyalı|\n",
            "|   359500|   Citroen|      C3|          1.4 HDi SX|2005|190000|          Düz|       Dizel|Hatchback/5|Garantisi Yok| Galeriden| Önden Çekiş|              4|    140.0|              1398|             71|       4000.0|       2000.0|                   15,4|        165.0|                        4,2|1 değişen, 7 boyalı|\n",
            "|   699500|   Renault| Fluence|        1.5 dCi Icon|2015|180000|Yarı Otomatik|       Dizel|      Sedan|Garantisi Yok| Galeriden| Önden Çekiş|              4|    140.0|              1461|            110|       4000.0|       2000.0|                   11,5|        185.0|                        4,4|     Tamamı orjinal|\n",
            "|   598750|   Peugeot|     208| 1.2 PureTech Active|2017| 70000|          Düz|      Benzin|Hatchback/5|Garantisi Yok| Galeriden| Önden Çekiş|              4|    110.0|              1199|             83|       5750.0|       2750.0|                   12,2|        178.0|                        4,5|1 değişen, 2 boyalı|\n",
            "|  1090950|      Seat|    Leon|       1.6 TDI Style|2017|108000|Yarı Otomatik|       Dizel|Hatchback/5|Garantisi Yok| Galeriden| Önden Çekiş|              4|    150.0|              1598|            115|       4000.0|       1500.0|                    9,8|        197.0|                        4,1|     Tamamı orjinal|\n",
            "|   685000|Volkswagen|    Polo| 1.4 TDi Comfortline|2015|137000|Yarı Otomatik|       Dizel|Hatchback/5|Garantisi Yok| Galeriden| Önden Çekiş|              4|    140.0|              1422|             90|       3500.0|       1500.0|                   10,9|        184.0|                        3,5|3 değişen, 4 boyalı|\n",
            "|   670000|    Toyota| Corolla|1.4 D-4D Comfort ...|2012|220000|Yarı Otomatik|       Dizel|      Sedan|Garantisi Yok| Galeriden| Önden Çekiş|              4|    130.0|              1364|             90|       3800.0|       1800.0|                   14,8|        175.0|                        4,8|1 değişen, 1 boyalı|\n",
            "|  1135000|      Opel|Insignia|1.6 CDTI Grand Sp...|2017|172000|     Otomatik|       Dizel|Hatchback/5|Garantisi Yok| Galeriden| Önden Çekiş|              4|    150.0|              1598|            136|       3500.0|       2000.0|                   10,9|        203.0|                        5,1|      Belirtilmemiş|\n",
            "|   659000|   Citroen|C-Elysee|    1.5 BlueHDi Feel|2021| 35000|          Düz|       Dizel|      Sedan|Garantisi Yok| Galeriden| Önden Çekiş|              4|    140.0|              1499|            100|       3500.0|       1750.0|                   10,1|        189.0|                        3,9|3 değişen, 4 boyalı|\n",
            "|   579900|      Opel|   Corsa|   1.3 CDTI Essentia|2009| 60000|          Düz|       Dizel|Hatchback/5|Garantisi Yok| Galeriden| Önden Çekiş|              4|    120.0|              1248|             75|       4000.0|       2250.0|                   14,5|        163.0|                        4,6|     Tamamı orjinal|\n",
            "|   679500|     Honda|   Civic| 1.6 i-VTEC Elegance|2009|178000|     Otomatik|LPG & Benzin|      Sedan|Garantisi Yok| Galeriden| Önden Çekiş|              4|    150.0|              1595|            125|       6500.0|       4200.0|                   10,3|        192.0|                        7,1|1 değişen, 3 boyalı|\n",
            "|  1250000|Volkswagen|   VW CC|             1.4 TSi|2015|128000|Yarı Otomatik|      Benzin|      Coupe|Garantisi Yok| Galeriden| Önden Çekiş|              4|    140.0|              1395|            150|       5000.0|       1500.0|                    8,9|        218.0|                        5,6|      Belirtilmemiş|\n",
            "|   465000|      Ford|  Fusion|             1.6 Lux|2005|120000|     Otomatik|LPG & Benzin|Hatchback/5|Garantisi Yok| Galeriden| Önden Çekiş|              4|    150.0|              1596|            100|       6000.0|       4000.0|                   12,2|        176.0|                        7,6|2 değişen, 8 boyalı|\n",
            "|   544500|      Ford|  Fiesta|        1.4 Titanium|2009|158000|     Otomatik|LPG & Benzin|Hatchback/5|Garantisi Yok| Galeriden| Önden Çekiş|              4|    140.0|              1388|             96|       5750.0|       4200.0|                   13,9|        166.0|                        6,5|2 değişen, 4 boyalı|\n",
            "|   370000|   Renault|  Megane|  1.5 dCi Expression|2008|420000|          Düz|       Dizel|      Sedan|Garantisi Yok| Galeriden| Önden Çekiş|              4|    140.0|              1461|             86|       4000.0|       1900.0|                   12,8|        175.0|                        4,7|           5 boyalı|\n",
            "|   615000|       BMW|1 Serisi|       116i Standart|2010|186000|     Otomatik|      Benzin|Hatchback/5|Garantisi Var| Galeriden|Arkadan İtiş|              4|    150.0|              1596|            116|       6000.0|       4300.0|                   10,8|        200.0|                        7,5|3 değişen, 7 boyalı|\n",
            "|   515000|      Ford|  Fiesta|      1.4 TDCi Trend|2010|183000|          Düz|       Dizel|Hatchback/5|Garantisi Yok| Galeriden| Önden Çekiş|              4|    140.0|              1398|             70|       4000.0|       1750.0|                   14,9|        162.0|                        4,2|1 değişen, 1 boyalı|\n",
            "|  1110000|      Audi|      A3|A3 Sportback 1.0 ...|2016|100000|Yarı Otomatik|      Benzin|Hatchback/5|Garantisi Yok| Galeriden| Önden Çekiş|              4|    200.0|               999|            116|       5500.0|       2000.0|                    9,9|        206.0|                        4,5|     Tamamı orjinal|\n",
            "+---------+----------+--------+--------------------+----+------+-------------+------------+-----------+-------------+----------+------------+---------------+---------+------------------+---------------+-------------+-------------+-----------------------+-------------+---------------------------+-------------------+\n",
            "only showing top 20 rows\n",
            "\n"
          ]
        }
      ]
    },
    {
      "cell_type": "code",
      "source": [
        "train.select(\"torque_nm\").collect()[34][0]"
      ],
      "metadata": {
        "colab": {
          "base_uri": "https://localhost:8080/"
        },
        "id": "lqsY4UWrEIZv",
        "outputId": "ea8f7523-5ff3-415b-f1b5-3bbfacb78ee3"
      },
      "execution_count": 41,
      "outputs": [
        {
          "output_type": "execute_result",
          "data": {
            "text/plain": [
              "150.0"
            ]
          },
          "metadata": {},
          "execution_count": 41
        }
      ]
    },
    {
      "cell_type": "markdown",
      "source": [
        "## **Convert Data Type**"
      ],
      "metadata": {
        "id": "yxfl9CEMEX_t"
      }
    },
    {
      "cell_type": "code",
      "source": [
        "train = train.withColumn(\"torque_nm\", col(\"torque_nm\").cast(\"integer\"))\n"
      ],
      "metadata": {
        "id": "H_v-5m4eEcm9"
      },
      "execution_count": 42,
      "outputs": []
    },
    {
      "cell_type": "markdown",
      "source": [
        "## **isNull()**"
      ],
      "metadata": {
        "id": "dTFSmH6UEoer"
      }
    },
    {
      "cell_type": "code",
      "source": [
        "# Find the number of missing values ​​in the torque_nm column\n",
        "train.select(spark_sum(when(col(\"torque_nm\").isNull(), 1).otherwise(0)).alias(\"torque_nm\")).show()"
      ],
      "metadata": {
        "colab": {
          "base_uri": "https://localhost:8080/"
        },
        "id": "oh90QRmxEq7x",
        "outputId": "e309911e-4d38-4969-dd07-6f64995a7079"
      },
      "execution_count": 43,
      "outputs": [
        {
          "output_type": "stream",
          "name": "stdout",
          "text": [
            "+---------+\n",
            "|torque_nm|\n",
            "+---------+\n",
            "|        0|\n",
            "+---------+\n",
            "\n"
          ]
        }
      ]
    },
    {
      "cell_type": "markdown",
      "source": [
        "# **engine_power_hp column**"
      ],
      "metadata": {
        "id": "Cqie3dSGFww2"
      }
    },
    {
      "cell_type": "markdown",
      "source": [
        "## **Get the unique values ​​of the 'engine_power_hp' column**\n"
      ],
      "metadata": {
        "id": "cGXk6v84F3Yp"
      }
    },
    {
      "cell_type": "code",
      "source": [
        "# Get the unique values ​​of the 'engine_power_hp' column\n",
        "unique_values = train.select(\"engine_power_hp\").distinct().collect()\n",
        "\n",
        "# Get Result of Spark DataFrame\n",
        "unique_values_list = [row[\"engine_power_hp\"] for row in unique_values]\n",
        "unique_values_list"
      ],
      "metadata": {
        "id": "3hBV_bR4rbSq",
        "colab": {
          "base_uri": "https://localhost:8080/"
        },
        "outputId": "b5eb0b04-ef39-4fa7-b0ce-1ecc12232f80"
      },
      "execution_count": 44,
      "outputs": [
        {
          "output_type": "execute_result",
          "data": {
            "text/plain": [
              "['125',\n",
              " '124',\n",
              " '155',\n",
              " '132',\n",
              " '69',\n",
              " '112',\n",
              " '87',\n",
              " '64',\n",
              " '113',\n",
              " '250',\n",
              " '160',\n",
              " '184',\n",
              " '85',\n",
              " '126 - 150 HP',\n",
              " '71',\n",
              " '98',\n",
              " '99',\n",
              " '110',\n",
              " '107',\n",
              " '96',\n",
              " '163',\n",
              " '100',\n",
              " '70',\n",
              " '218',\n",
              " '75',\n",
              " '140',\n",
              " '131',\n",
              " '126',\n",
              " '286',\n",
              " '120',\n",
              " '130',\n",
              " '207',\n",
              " '381',\n",
              " '147',\n",
              " '77',\n",
              " '136',\n",
              " '177',\n",
              " '90',\n",
              " '68',\n",
              " '194',\n",
              " '128',\n",
              " '102',\n",
              " '111',\n",
              " '95',\n",
              " '93',\n",
              " '103',\n",
              " '156',\n",
              " '190',\n",
              " '115',\n",
              " '82',\n",
              " '231',\n",
              " '122',\n",
              " '86',\n",
              " '204',\n",
              " '81',\n",
              " '114',\n",
              " '150',\n",
              " '170',\n",
              " '178',\n",
              " '240',\n",
              " '180',\n",
              " '97',\n",
              " '106',\n",
              " '158',\n",
              " '84',\n",
              " '143',\n",
              " '151 - 175 HP',\n",
              " '116',\n",
              " '152',\n",
              " '88',\n",
              " '105',\n",
              " '142',\n",
              " '127',\n",
              " '431',\n",
              " '225',\n",
              " '65',\n",
              " '265',\n",
              " '121',\n",
              " '252',\n",
              " '83',\n",
              " '109',\n",
              " '66',\n",
              " '91',\n",
              " '94',\n",
              " '469',\n",
              " '72',\n",
              " '74',\n",
              " '129',\n",
              " '76',\n",
              " '192',\n",
              " '80']"
            ]
          },
          "metadata": {},
          "execution_count": 44
        }
      ]
    },
    {
      "cell_type": "markdown",
      "source": [
        "## **regexp_extract() - PySpark SQL functions**"
      ],
      "metadata": {
        "id": "vmDKr4ZGGPd3"
      }
    },
    {
      "cell_type": "code",
      "source": [
        "#Use PySpark SQL functions to extract numeric values ​​in a 'engine_power_hp' column\n",
        "train = train.withColumn(\"engine_power_hp\", regexp_extract(\"engine_power_hp\", r\"\\d+\", 0).cast(\"int\"))\n",
        "\n",
        "# Result\n",
        "train.show()\n",
        "\n"
      ],
      "metadata": {
        "colab": {
          "base_uri": "https://localhost:8080/"
        },
        "id": "JxSX93qUGRl-",
        "outputId": "db2508bb-cb3e-4066-ddaf-65b6632da6be"
      },
      "execution_count": 45,
      "outputs": [
        {
          "output_type": "stream",
          "name": "stdout",
          "text": [
            "+---------+----------+--------+--------------------+----+------+-------------+------------+-----------+-------------+----------+------------+---------------+---------+------------------+---------------+-------------+-------------+-----------------------+-------------+---------------------------+-------------------+\n",
            "|price_try|      make|  series|               model|year|    km| transmission|        fuel|  body_type|     warranty|     from_| wheel_drive|cylinder_number|torque_nm|engine_capacity_cc|engine_power_hp|max_power_rpm|min_power_rpm|acceleration_0to100_sec|max_speed_kmh|average_fuel_consumption_lt|    painted_changed|\n",
            "+---------+----------+--------+--------------------+----+------+-------------+------------+-----------+-------------+----------+------------+---------------+---------+------------------+---------------+-------------+-------------+-----------------------+-------------+---------------------------+-------------------+\n",
            "|   769950|       BMW|5 Serisi|        520d Premium|2008|369000|     Otomatik|       Dizel|      Sedan|Garantisi Yok| Galeriden|Arkadan İtiş|              6|      200|              1995|            177|       4000.0|       1750.0|                    8,4|        226.0|                        6,1|     Tamamı orjinal|\n",
            "|   635000|      Ford|   Focus|    1.6 TDCi Trend X|2012|210000|          Düz|       Dizel|      Sedan|Garantisi Yok| Galeriden| Önden Çekiş|              4|      150|              1560|             95|       3600.0|       2000.0|                   12,5|        180.0|                        4,2|     Tamamı orjinal|\n",
            "|   475000|      Fiat|   Linea|  1.3 Multijet Urban|2013|116749|          Düz|       Dizel|      Sedan|Garantisi Yok|Sahibinden| Önden Çekiş|              4|      120|              1248|             95|       4000.0|       1500.0|                   13,8|        170.0|                        4,9|           8 boyalı|\n",
            "|   359500|   Citroen|      C3|          1.4 HDi SX|2005|190000|          Düz|       Dizel|Hatchback/5|Garantisi Yok| Galeriden| Önden Çekiş|              4|      140|              1398|             71|       4000.0|       2000.0|                   15,4|        165.0|                        4,2|1 değişen, 7 boyalı|\n",
            "|   699500|   Renault| Fluence|        1.5 dCi Icon|2015|180000|Yarı Otomatik|       Dizel|      Sedan|Garantisi Yok| Galeriden| Önden Çekiş|              4|      140|              1461|            110|       4000.0|       2000.0|                   11,5|        185.0|                        4,4|     Tamamı orjinal|\n",
            "|   598750|   Peugeot|     208| 1.2 PureTech Active|2017| 70000|          Düz|      Benzin|Hatchback/5|Garantisi Yok| Galeriden| Önden Çekiş|              4|      110|              1199|             83|       5750.0|       2750.0|                   12,2|        178.0|                        4,5|1 değişen, 2 boyalı|\n",
            "|  1090950|      Seat|    Leon|       1.6 TDI Style|2017|108000|Yarı Otomatik|       Dizel|Hatchback/5|Garantisi Yok| Galeriden| Önden Çekiş|              4|      150|              1598|            115|       4000.0|       1500.0|                    9,8|        197.0|                        4,1|     Tamamı orjinal|\n",
            "|   685000|Volkswagen|    Polo| 1.4 TDi Comfortline|2015|137000|Yarı Otomatik|       Dizel|Hatchback/5|Garantisi Yok| Galeriden| Önden Çekiş|              4|      140|              1422|             90|       3500.0|       1500.0|                   10,9|        184.0|                        3,5|3 değişen, 4 boyalı|\n",
            "|   670000|    Toyota| Corolla|1.4 D-4D Comfort ...|2012|220000|Yarı Otomatik|       Dizel|      Sedan|Garantisi Yok| Galeriden| Önden Çekiş|              4|      130|              1364|             90|       3800.0|       1800.0|                   14,8|        175.0|                        4,8|1 değişen, 1 boyalı|\n",
            "|  1135000|      Opel|Insignia|1.6 CDTI Grand Sp...|2017|172000|     Otomatik|       Dizel|Hatchback/5|Garantisi Yok| Galeriden| Önden Çekiş|              4|      150|              1598|            136|       3500.0|       2000.0|                   10,9|        203.0|                        5,1|      Belirtilmemiş|\n",
            "|   659000|   Citroen|C-Elysee|    1.5 BlueHDi Feel|2021| 35000|          Düz|       Dizel|      Sedan|Garantisi Yok| Galeriden| Önden Çekiş|              4|      140|              1499|            100|       3500.0|       1750.0|                   10,1|        189.0|                        3,9|3 değişen, 4 boyalı|\n",
            "|   579900|      Opel|   Corsa|   1.3 CDTI Essentia|2009| 60000|          Düz|       Dizel|Hatchback/5|Garantisi Yok| Galeriden| Önden Çekiş|              4|      120|              1248|             75|       4000.0|       2250.0|                   14,5|        163.0|                        4,6|     Tamamı orjinal|\n",
            "|   679500|     Honda|   Civic| 1.6 i-VTEC Elegance|2009|178000|     Otomatik|LPG & Benzin|      Sedan|Garantisi Yok| Galeriden| Önden Çekiş|              4|      150|              1595|            125|       6500.0|       4200.0|                   10,3|        192.0|                        7,1|1 değişen, 3 boyalı|\n",
            "|  1250000|Volkswagen|   VW CC|             1.4 TSi|2015|128000|Yarı Otomatik|      Benzin|      Coupe|Garantisi Yok| Galeriden| Önden Çekiş|              4|      140|              1395|            150|       5000.0|       1500.0|                    8,9|        218.0|                        5,6|      Belirtilmemiş|\n",
            "|   465000|      Ford|  Fusion|             1.6 Lux|2005|120000|     Otomatik|LPG & Benzin|Hatchback/5|Garantisi Yok| Galeriden| Önden Çekiş|              4|      150|              1596|            100|       6000.0|       4000.0|                   12,2|        176.0|                        7,6|2 değişen, 8 boyalı|\n",
            "|   544500|      Ford|  Fiesta|        1.4 Titanium|2009|158000|     Otomatik|LPG & Benzin|Hatchback/5|Garantisi Yok| Galeriden| Önden Çekiş|              4|      140|              1388|             96|       5750.0|       4200.0|                   13,9|        166.0|                        6,5|2 değişen, 4 boyalı|\n",
            "|   370000|   Renault|  Megane|  1.5 dCi Expression|2008|420000|          Düz|       Dizel|      Sedan|Garantisi Yok| Galeriden| Önden Çekiş|              4|      140|              1461|             86|       4000.0|       1900.0|                   12,8|        175.0|                        4,7|           5 boyalı|\n",
            "|   615000|       BMW|1 Serisi|       116i Standart|2010|186000|     Otomatik|      Benzin|Hatchback/5|Garantisi Var| Galeriden|Arkadan İtiş|              4|      150|              1596|            116|       6000.0|       4300.0|                   10,8|        200.0|                        7,5|3 değişen, 7 boyalı|\n",
            "|   515000|      Ford|  Fiesta|      1.4 TDCi Trend|2010|183000|          Düz|       Dizel|Hatchback/5|Garantisi Yok| Galeriden| Önden Çekiş|              4|      140|              1398|             70|       4000.0|       1750.0|                   14,9|        162.0|                        4,2|1 değişen, 1 boyalı|\n",
            "|  1110000|      Audi|      A3|A3 Sportback 1.0 ...|2016|100000|Yarı Otomatik|      Benzin|Hatchback/5|Garantisi Yok| Galeriden| Önden Çekiş|              4|      200|               999|            116|       5500.0|       2000.0|                    9,9|        206.0|                        4,5|     Tamamı orjinal|\n",
            "+---------+----------+--------+--------------------+----+------+-------------+------------+-----------+-------------+----------+------------+---------------+---------+------------------+---------------+-------------+-------------+-----------------------+-------------+---------------------------+-------------------+\n",
            "only showing top 20 rows\n",
            "\n"
          ]
        }
      ]
    },
    {
      "cell_type": "markdown",
      "source": [
        "## **Fill in missing values**"
      ],
      "metadata": {
        "id": "vLbIOPVgGuwW"
      }
    },
    {
      "cell_type": "code",
      "source": [
        "# Create new_engine_power_hp' column\n",
        "train = train.withColumn(\"new_engine_power_hp\",\n",
        "                        when(col(\"engine_capacity_cc\") >= 6000, 500)\n",
        "                        .when(col(\"engine_capacity_cc\") >= 2400, 175)\n",
        "                        .when(col(\"engine_capacity_cc\") >= 2000, 150)\n",
        "                        .when(col(\"engine_capacity_cc\") >= 2400, 240)\n",
        "                        .when(col(\"engine_capacity_cc\") >= 1590, 125)\n",
        "                        .when(col(\"engine_capacity_cc\") >= 1580, 115)\n",
        "                        .when(col(\"engine_capacity_cc\") >= 1400, 100)\n",
        "                        .when(col(\"engine_capacity_cc\") >= 1300, 95)\n",
        "                        .when(col(\"engine_capacity_cc\") >= 1200, 75)\n",
        "                        .otherwise(col(\"engine_power_hp\")))\n",
        "\n",
        "# Update torque_nm column\n",
        "train = train.withColumn(\"engine_power_hp\", col(\"new_engine_power_hp\")).drop(\"new_engine_power_hp\")\n",
        "\n",
        "# Result\n",
        "train.show()"
      ],
      "metadata": {
        "colab": {
          "base_uri": "https://localhost:8080/"
        },
        "id": "IomUdSIhG0VW",
        "outputId": "70f715e1-f8b0-458a-bba0-a07ba26c8fa1"
      },
      "execution_count": 46,
      "outputs": [
        {
          "output_type": "stream",
          "name": "stdout",
          "text": [
            "+---------+----------+--------+--------------------+----+------+-------------+------------+-----------+-------------+----------+------------+---------------+---------+------------------+---------------+-------------+-------------+-----------------------+-------------+---------------------------+-------------------+\n",
            "|price_try|      make|  series|               model|year|    km| transmission|        fuel|  body_type|     warranty|     from_| wheel_drive|cylinder_number|torque_nm|engine_capacity_cc|engine_power_hp|max_power_rpm|min_power_rpm|acceleration_0to100_sec|max_speed_kmh|average_fuel_consumption_lt|    painted_changed|\n",
            "+---------+----------+--------+--------------------+----+------+-------------+------------+-----------+-------------+----------+------------+---------------+---------+------------------+---------------+-------------+-------------+-----------------------+-------------+---------------------------+-------------------+\n",
            "|   769950|       BMW|5 Serisi|        520d Premium|2008|369000|     Otomatik|       Dizel|      Sedan|Garantisi Yok| Galeriden|Arkadan İtiş|              6|      200|              1995|            125|       4000.0|       1750.0|                    8,4|        226.0|                        6,1|     Tamamı orjinal|\n",
            "|   635000|      Ford|   Focus|    1.6 TDCi Trend X|2012|210000|          Düz|       Dizel|      Sedan|Garantisi Yok| Galeriden| Önden Çekiş|              4|      150|              1560|            100|       3600.0|       2000.0|                   12,5|        180.0|                        4,2|     Tamamı orjinal|\n",
            "|   475000|      Fiat|   Linea|  1.3 Multijet Urban|2013|116749|          Düz|       Dizel|      Sedan|Garantisi Yok|Sahibinden| Önden Çekiş|              4|      120|              1248|             75|       4000.0|       1500.0|                   13,8|        170.0|                        4,9|           8 boyalı|\n",
            "|   359500|   Citroen|      C3|          1.4 HDi SX|2005|190000|          Düz|       Dizel|Hatchback/5|Garantisi Yok| Galeriden| Önden Çekiş|              4|      140|              1398|             95|       4000.0|       2000.0|                   15,4|        165.0|                        4,2|1 değişen, 7 boyalı|\n",
            "|   699500|   Renault| Fluence|        1.5 dCi Icon|2015|180000|Yarı Otomatik|       Dizel|      Sedan|Garantisi Yok| Galeriden| Önden Çekiş|              4|      140|              1461|            100|       4000.0|       2000.0|                   11,5|        185.0|                        4,4|     Tamamı orjinal|\n",
            "|   598750|   Peugeot|     208| 1.2 PureTech Active|2017| 70000|          Düz|      Benzin|Hatchback/5|Garantisi Yok| Galeriden| Önden Çekiş|              4|      110|              1199|             83|       5750.0|       2750.0|                   12,2|        178.0|                        4,5|1 değişen, 2 boyalı|\n",
            "|  1090950|      Seat|    Leon|       1.6 TDI Style|2017|108000|Yarı Otomatik|       Dizel|Hatchback/5|Garantisi Yok| Galeriden| Önden Çekiş|              4|      150|              1598|            125|       4000.0|       1500.0|                    9,8|        197.0|                        4,1|     Tamamı orjinal|\n",
            "|   685000|Volkswagen|    Polo| 1.4 TDi Comfortline|2015|137000|Yarı Otomatik|       Dizel|Hatchback/5|Garantisi Yok| Galeriden| Önden Çekiş|              4|      140|              1422|            100|       3500.0|       1500.0|                   10,9|        184.0|                        3,5|3 değişen, 4 boyalı|\n",
            "|   670000|    Toyota| Corolla|1.4 D-4D Comfort ...|2012|220000|Yarı Otomatik|       Dizel|      Sedan|Garantisi Yok| Galeriden| Önden Çekiş|              4|      130|              1364|             95|       3800.0|       1800.0|                   14,8|        175.0|                        4,8|1 değişen, 1 boyalı|\n",
            "|  1135000|      Opel|Insignia|1.6 CDTI Grand Sp...|2017|172000|     Otomatik|       Dizel|Hatchback/5|Garantisi Yok| Galeriden| Önden Çekiş|              4|      150|              1598|            125|       3500.0|       2000.0|                   10,9|        203.0|                        5,1|      Belirtilmemiş|\n",
            "|   659000|   Citroen|C-Elysee|    1.5 BlueHDi Feel|2021| 35000|          Düz|       Dizel|      Sedan|Garantisi Yok| Galeriden| Önden Çekiş|              4|      140|              1499|            100|       3500.0|       1750.0|                   10,1|        189.0|                        3,9|3 değişen, 4 boyalı|\n",
            "|   579900|      Opel|   Corsa|   1.3 CDTI Essentia|2009| 60000|          Düz|       Dizel|Hatchback/5|Garantisi Yok| Galeriden| Önden Çekiş|              4|      120|              1248|             75|       4000.0|       2250.0|                   14,5|        163.0|                        4,6|     Tamamı orjinal|\n",
            "|   679500|     Honda|   Civic| 1.6 i-VTEC Elegance|2009|178000|     Otomatik|LPG & Benzin|      Sedan|Garantisi Yok| Galeriden| Önden Çekiş|              4|      150|              1595|            125|       6500.0|       4200.0|                   10,3|        192.0|                        7,1|1 değişen, 3 boyalı|\n",
            "|  1250000|Volkswagen|   VW CC|             1.4 TSi|2015|128000|Yarı Otomatik|      Benzin|      Coupe|Garantisi Yok| Galeriden| Önden Çekiş|              4|      140|              1395|             95|       5000.0|       1500.0|                    8,9|        218.0|                        5,6|      Belirtilmemiş|\n",
            "|   465000|      Ford|  Fusion|             1.6 Lux|2005|120000|     Otomatik|LPG & Benzin|Hatchback/5|Garantisi Yok| Galeriden| Önden Çekiş|              4|      150|              1596|            125|       6000.0|       4000.0|                   12,2|        176.0|                        7,6|2 değişen, 8 boyalı|\n",
            "|   544500|      Ford|  Fiesta|        1.4 Titanium|2009|158000|     Otomatik|LPG & Benzin|Hatchback/5|Garantisi Yok| Galeriden| Önden Çekiş|              4|      140|              1388|             95|       5750.0|       4200.0|                   13,9|        166.0|                        6,5|2 değişen, 4 boyalı|\n",
            "|   370000|   Renault|  Megane|  1.5 dCi Expression|2008|420000|          Düz|       Dizel|      Sedan|Garantisi Yok| Galeriden| Önden Çekiş|              4|      140|              1461|            100|       4000.0|       1900.0|                   12,8|        175.0|                        4,7|           5 boyalı|\n",
            "|   615000|       BMW|1 Serisi|       116i Standart|2010|186000|     Otomatik|      Benzin|Hatchback/5|Garantisi Var| Galeriden|Arkadan İtiş|              4|      150|              1596|            125|       6000.0|       4300.0|                   10,8|        200.0|                        7,5|3 değişen, 7 boyalı|\n",
            "|   515000|      Ford|  Fiesta|      1.4 TDCi Trend|2010|183000|          Düz|       Dizel|Hatchback/5|Garantisi Yok| Galeriden| Önden Çekiş|              4|      140|              1398|             95|       4000.0|       1750.0|                   14,9|        162.0|                        4,2|1 değişen, 1 boyalı|\n",
            "|  1110000|      Audi|      A3|A3 Sportback 1.0 ...|2016|100000|Yarı Otomatik|      Benzin|Hatchback/5|Garantisi Yok| Galeriden| Önden Çekiş|              4|      200|               999|            116|       5500.0|       2000.0|                    9,9|        206.0|                        4,5|     Tamamı orjinal|\n",
            "+---------+----------+--------+--------------------+----+------+-------------+------------+-----------+-------------+----------+------------+---------------+---------+------------------+---------------+-------------+-------------+-----------------------+-------------+---------------------------+-------------------+\n",
            "only showing top 20 rows\n",
            "\n"
          ]
        }
      ]
    },
    {
      "cell_type": "markdown",
      "source": [
        "## **Convert Data Type**"
      ],
      "metadata": {
        "id": "k_E32GpnIW81"
      }
    },
    {
      "cell_type": "code",
      "source": [
        "train= train.withColumn(\"engine_power_hp\", col(\"engine_power_hp\").cast(\"integer\"))\n"
      ],
      "metadata": {
        "id": "6tDD4k-LIZeI"
      },
      "execution_count": 47,
      "outputs": []
    },
    {
      "cell_type": "code",
      "source": [
        "# Find the number of missing values ​​in the engine_power_hp column\n",
        "train.select(spark_sum(when(col(\"engine_power_hp\").isNull(), 1)\n",
        ".otherwise(0)).alias(\"engine_power_hp\")).show()"
      ],
      "metadata": {
        "colab": {
          "base_uri": "https://localhost:8080/"
        },
        "id": "okA-LfD7JDlb",
        "outputId": "9e95cb7d-59a7-476b-e4c9-9f7f0a9bda50"
      },
      "execution_count": 48,
      "outputs": [
        {
          "output_type": "stream",
          "name": "stdout",
          "text": [
            "+---------------+\n",
            "|engine_power_hp|\n",
            "+---------------+\n",
            "|              0|\n",
            "+---------------+\n",
            "\n"
          ]
        }
      ]
    },
    {
      "cell_type": "markdown",
      "source": [
        "# **max_power_rpm column**"
      ],
      "metadata": {
        "id": "C00ghiuBJdy3"
      }
    },
    {
      "cell_type": "markdown",
      "source": [
        "## **Get the unique values ​​of the 'max_power_rpm' column**"
      ],
      "metadata": {
        "id": "UWp4Zhg_Jkn_"
      }
    },
    {
      "cell_type": "code",
      "source": [
        "# Get the unique values ​​of the 'max_power_rpm' column\n",
        "unique_values = train.select(\"max_power_rpm\").distinct().collect()\n",
        "\n",
        "# Get Result of Spark DataFrame\n",
        "unique_values_list = [row[\"max_power_rpm\"] for row in unique_values]\n",
        "unique_values_list"
      ],
      "metadata": {
        "colab": {
          "base_uri": "https://localhost:8080/"
        },
        "id": "YSGcAISEJj33",
        "outputId": "fc737bc5-dfdb-4b4f-a1a6-c20adc8d591c"
      },
      "execution_count": 49,
      "outputs": [
        {
          "output_type": "execute_result",
          "data": {
            "text/plain": [
              "[5750.0,\n",
              " 4400.0,\n",
              " 6500.0,\n",
              " 6250.0,\n",
              " 5300.0,\n",
              " 5500.0,\n",
              " 4600.0,\n",
              " 3200.0,\n",
              " 6450.0,\n",
              " 6200.0,\n",
              " 5700.0,\n",
              " 6000.0,\n",
              " 6600.0,\n",
              " 3600.0,\n",
              " 6300.0,\n",
              " 6700.0,\n",
              " 4000.0,\n",
              " 3750.0,\n",
              " 5200.0,\n",
              " 3500.0,\n",
              " 5000.0,\n",
              " 5250.0,\n",
              " 5400.0,\n",
              " 5800.0,\n",
              " 4200.0,\n",
              " 3250.0,\n",
              " 4500.0,\n",
              " 5600.0,\n",
              " 4350.0,\n",
              " 3800.0,\n",
              " 4800.0,\n",
              " 3000.0,\n",
              " 6400.0,\n",
              " 2500.0,\n",
              " 4900.0]"
            ]
          },
          "metadata": {},
          "execution_count": 49
        }
      ]
    },
    {
      "cell_type": "markdown",
      "source": [
        "## **Fill in missing values**"
      ],
      "metadata": {
        "id": "MB2GdJvbLtg_"
      }
    },
    {
      "cell_type": "code",
      "source": [
        "# Create max_power_rpm' column\n",
        "train = train.withColumn(\"new_max_power_rpm\",\n",
        "                        when(col(\"torque_nm\") >= 650, 6500)\n",
        "                        .when(col(\"torque_nm\") >= 600, 6000)\n",
        "                        .when(col(\"torque_nm\") >= 500, 5000)\n",
        "                        .when(col(\"torque_nm\") >= 400, 4000)\n",
        "                        .when(col(\"torque_nm\") >= 300, 3000)\n",
        "                        .when(col(\"torque_nm\") >= 80, 2500)\n",
        "                        .otherwise(col(\"max_power_rpm\")))\n",
        "\n",
        "# Update max_power_rpm column\n",
        "train = train.withColumn(\"max_power_rpm\", col(\"new_max_power_rpm\")).drop(\"new_max_power_rpm\")\n",
        "\n",
        "# Sonucu göster\n",
        "train.show()"
      ],
      "metadata": {
        "colab": {
          "base_uri": "https://localhost:8080/"
        },
        "id": "REHUAXekKPCy",
        "outputId": "ed9975de-6c4d-4a51-fbbf-61db00db656b"
      },
      "execution_count": 50,
      "outputs": [
        {
          "output_type": "stream",
          "name": "stdout",
          "text": [
            "+---------+----------+--------+--------------------+----+------+-------------+------------+-----------+-------------+----------+------------+---------------+---------+------------------+---------------+-------------+-------------+-----------------------+-------------+---------------------------+-------------------+\n",
            "|price_try|      make|  series|               model|year|    km| transmission|        fuel|  body_type|     warranty|     from_| wheel_drive|cylinder_number|torque_nm|engine_capacity_cc|engine_power_hp|max_power_rpm|min_power_rpm|acceleration_0to100_sec|max_speed_kmh|average_fuel_consumption_lt|    painted_changed|\n",
            "+---------+----------+--------+--------------------+----+------+-------------+------------+-----------+-------------+----------+------------+---------------+---------+------------------+---------------+-------------+-------------+-----------------------+-------------+---------------------------+-------------------+\n",
            "|   769950|       BMW|5 Serisi|        520d Premium|2008|369000|     Otomatik|       Dizel|      Sedan|Garantisi Yok| Galeriden|Arkadan İtiş|              6|      200|              1995|            125|       2500.0|       1750.0|                    8,4|        226.0|                        6,1|     Tamamı orjinal|\n",
            "|   635000|      Ford|   Focus|    1.6 TDCi Trend X|2012|210000|          Düz|       Dizel|      Sedan|Garantisi Yok| Galeriden| Önden Çekiş|              4|      150|              1560|            100|       2500.0|       2000.0|                   12,5|        180.0|                        4,2|     Tamamı orjinal|\n",
            "|   475000|      Fiat|   Linea|  1.3 Multijet Urban|2013|116749|          Düz|       Dizel|      Sedan|Garantisi Yok|Sahibinden| Önden Çekiş|              4|      120|              1248|             75|       2500.0|       1500.0|                   13,8|        170.0|                        4,9|           8 boyalı|\n",
            "|   359500|   Citroen|      C3|          1.4 HDi SX|2005|190000|          Düz|       Dizel|Hatchback/5|Garantisi Yok| Galeriden| Önden Çekiş|              4|      140|              1398|             95|       2500.0|       2000.0|                   15,4|        165.0|                        4,2|1 değişen, 7 boyalı|\n",
            "|   699500|   Renault| Fluence|        1.5 dCi Icon|2015|180000|Yarı Otomatik|       Dizel|      Sedan|Garantisi Yok| Galeriden| Önden Çekiş|              4|      140|              1461|            100|       2500.0|       2000.0|                   11,5|        185.0|                        4,4|     Tamamı orjinal|\n",
            "|   598750|   Peugeot|     208| 1.2 PureTech Active|2017| 70000|          Düz|      Benzin|Hatchback/5|Garantisi Yok| Galeriden| Önden Çekiş|              4|      110|              1199|             83|       2500.0|       2750.0|                   12,2|        178.0|                        4,5|1 değişen, 2 boyalı|\n",
            "|  1090950|      Seat|    Leon|       1.6 TDI Style|2017|108000|Yarı Otomatik|       Dizel|Hatchback/5|Garantisi Yok| Galeriden| Önden Çekiş|              4|      150|              1598|            125|       2500.0|       1500.0|                    9,8|        197.0|                        4,1|     Tamamı orjinal|\n",
            "|   685000|Volkswagen|    Polo| 1.4 TDi Comfortline|2015|137000|Yarı Otomatik|       Dizel|Hatchback/5|Garantisi Yok| Galeriden| Önden Çekiş|              4|      140|              1422|            100|       2500.0|       1500.0|                   10,9|        184.0|                        3,5|3 değişen, 4 boyalı|\n",
            "|   670000|    Toyota| Corolla|1.4 D-4D Comfort ...|2012|220000|Yarı Otomatik|       Dizel|      Sedan|Garantisi Yok| Galeriden| Önden Çekiş|              4|      130|              1364|             95|       2500.0|       1800.0|                   14,8|        175.0|                        4,8|1 değişen, 1 boyalı|\n",
            "|  1135000|      Opel|Insignia|1.6 CDTI Grand Sp...|2017|172000|     Otomatik|       Dizel|Hatchback/5|Garantisi Yok| Galeriden| Önden Çekiş|              4|      150|              1598|            125|       2500.0|       2000.0|                   10,9|        203.0|                        5,1|      Belirtilmemiş|\n",
            "|   659000|   Citroen|C-Elysee|    1.5 BlueHDi Feel|2021| 35000|          Düz|       Dizel|      Sedan|Garantisi Yok| Galeriden| Önden Çekiş|              4|      140|              1499|            100|       2500.0|       1750.0|                   10,1|        189.0|                        3,9|3 değişen, 4 boyalı|\n",
            "|   579900|      Opel|   Corsa|   1.3 CDTI Essentia|2009| 60000|          Düz|       Dizel|Hatchback/5|Garantisi Yok| Galeriden| Önden Çekiş|              4|      120|              1248|             75|       2500.0|       2250.0|                   14,5|        163.0|                        4,6|     Tamamı orjinal|\n",
            "|   679500|     Honda|   Civic| 1.6 i-VTEC Elegance|2009|178000|     Otomatik|LPG & Benzin|      Sedan|Garantisi Yok| Galeriden| Önden Çekiş|              4|      150|              1595|            125|       2500.0|       4200.0|                   10,3|        192.0|                        7,1|1 değişen, 3 boyalı|\n",
            "|  1250000|Volkswagen|   VW CC|             1.4 TSi|2015|128000|Yarı Otomatik|      Benzin|      Coupe|Garantisi Yok| Galeriden| Önden Çekiş|              4|      140|              1395|             95|       2500.0|       1500.0|                    8,9|        218.0|                        5,6|      Belirtilmemiş|\n",
            "|   465000|      Ford|  Fusion|             1.6 Lux|2005|120000|     Otomatik|LPG & Benzin|Hatchback/5|Garantisi Yok| Galeriden| Önden Çekiş|              4|      150|              1596|            125|       2500.0|       4000.0|                   12,2|        176.0|                        7,6|2 değişen, 8 boyalı|\n",
            "|   544500|      Ford|  Fiesta|        1.4 Titanium|2009|158000|     Otomatik|LPG & Benzin|Hatchback/5|Garantisi Yok| Galeriden| Önden Çekiş|              4|      140|              1388|             95|       2500.0|       4200.0|                   13,9|        166.0|                        6,5|2 değişen, 4 boyalı|\n",
            "|   370000|   Renault|  Megane|  1.5 dCi Expression|2008|420000|          Düz|       Dizel|      Sedan|Garantisi Yok| Galeriden| Önden Çekiş|              4|      140|              1461|            100|       2500.0|       1900.0|                   12,8|        175.0|                        4,7|           5 boyalı|\n",
            "|   615000|       BMW|1 Serisi|       116i Standart|2010|186000|     Otomatik|      Benzin|Hatchback/5|Garantisi Var| Galeriden|Arkadan İtiş|              4|      150|              1596|            125|       2500.0|       4300.0|                   10,8|        200.0|                        7,5|3 değişen, 7 boyalı|\n",
            "|   515000|      Ford|  Fiesta|      1.4 TDCi Trend|2010|183000|          Düz|       Dizel|Hatchback/5|Garantisi Yok| Galeriden| Önden Çekiş|              4|      140|              1398|             95|       2500.0|       1750.0|                   14,9|        162.0|                        4,2|1 değişen, 1 boyalı|\n",
            "|  1110000|      Audi|      A3|A3 Sportback 1.0 ...|2016|100000|Yarı Otomatik|      Benzin|Hatchback/5|Garantisi Yok| Galeriden| Önden Çekiş|              4|      200|               999|            116|       2500.0|       2000.0|                    9,9|        206.0|                        4,5|     Tamamı orjinal|\n",
            "+---------+----------+--------+--------------------+----+------+-------------+------------+-----------+-------------+----------+------------+---------------+---------+------------------+---------------+-------------+-------------+-----------------------+-------------+---------------------------+-------------------+\n",
            "only showing top 20 rows\n",
            "\n"
          ]
        }
      ]
    },
    {
      "cell_type": "code",
      "source": [
        "train.select(\"max_power_rpm\").collect()[18][0]"
      ],
      "metadata": {
        "colab": {
          "base_uri": "https://localhost:8080/"
        },
        "id": "rGhdpgx6Ll8i",
        "outputId": "0ea8f0f7-1370-45b8-b3e2-55af7aed94c0"
      },
      "execution_count": 51,
      "outputs": [
        {
          "output_type": "execute_result",
          "data": {
            "text/plain": [
              "2500.0"
            ]
          },
          "metadata": {},
          "execution_count": 51
        }
      ]
    },
    {
      "cell_type": "markdown",
      "source": [
        "## **Convert Data Type**"
      ],
      "metadata": {
        "id": "o81qNp4bLyKR"
      }
    },
    {
      "cell_type": "code",
      "source": [
        "train = train.withColumn(\"max_power_rpm\", col(\"max_power_rpm\").cast(\"integer\"))\n"
      ],
      "metadata": {
        "id": "iBJyhK47L0kN"
      },
      "execution_count": 52,
      "outputs": []
    },
    {
      "cell_type": "markdown",
      "source": [
        "## **isNull()**"
      ],
      "metadata": {
        "id": "U-YGKoztMAX2"
      }
    },
    {
      "cell_type": "code",
      "source": [
        "# Find the number of missing values ​​in the torque_nm column\n",
        "train.select(spark_sum(when(col(\"max_power_rpm\").isNull(), 1).otherwise(0)).alias(\"max_power_rpm\")).show()"
      ],
      "metadata": {
        "colab": {
          "base_uri": "https://localhost:8080/"
        },
        "id": "EmPGvfGpL__q",
        "outputId": "740de7fc-4079-481a-d938-983a0202345d"
      },
      "execution_count": 53,
      "outputs": [
        {
          "output_type": "stream",
          "name": "stdout",
          "text": [
            "+-------------+\n",
            "|max_power_rpm|\n",
            "+-------------+\n",
            "|            0|\n",
            "+-------------+\n",
            "\n"
          ]
        }
      ]
    },
    {
      "cell_type": "markdown",
      "source": [
        "# **min_power_rpm column**"
      ],
      "metadata": {
        "id": "U-Ff6T46MkJA"
      }
    },
    {
      "cell_type": "markdown",
      "source": [
        "## **Get the unique values ​​of the 'min_power_rpm' column**"
      ],
      "metadata": {
        "id": "YzjseR_fMrRG"
      }
    },
    {
      "cell_type": "code",
      "source": [
        "# Get the unique values ​​of the 'max_power_rpm' column\n",
        "unique_values = train.select(\"min_power_rpm\").distinct().collect()\n",
        "\n",
        "# Get Result of Spark DataFrame\n",
        "unique_values_list = [row[\"min_power_rpm\"] for row in unique_values]\n",
        "unique_values_list"
      ],
      "metadata": {
        "colab": {
          "base_uri": "https://localhost:8080/"
        },
        "id": "Teqne8bvMs0e",
        "outputId": "d868b6d9-f7ea-4b11-cbda-a8252b14cae9"
      },
      "execution_count": 54,
      "outputs": [
        {
          "output_type": "execute_result",
          "data": {
            "text/plain": [
              "[4400.0,\n",
              " 1750.0,\n",
              " 4150.0,\n",
              " 5500.0,\n",
              " 4600.0,\n",
              " 3200.0,\n",
              " 4300.0,\n",
              " 3950.0,\n",
              " 1500.0,\n",
              " 1850.0,\n",
              " 1700.0,\n",
              " 2700.0,\n",
              " 1250.0,\n",
              " 1800.0,\n",
              " 3600.0,\n",
              " 1550.0,\n",
              " 2250.0,\n",
              " 4700.0,\n",
              " 4000.0,\n",
              " 3750.0,\n",
              " 5200.0,\n",
              " 4850.0,\n",
              " 2750.0,\n",
              " 4250.0,\n",
              " 5000.0,\n",
              " 2900.0,\n",
              " 3250.0,\n",
              " 4500.0,\n",
              " 3800.0,\n",
              " 1400.0,\n",
              " 2000.0,\n",
              " 1600.0,\n",
              " 3500.0,\n",
              " 3400.0,\n",
              " 2600.0,\n",
              " 4800.0,\n",
              " 3000.0,\n",
              " 2800.0,\n",
              " 4200.0,\n",
              " 1350.0,\n",
              " 1900.0,\n",
              " 2500.0,\n",
              " 3900.0,\n",
              " 1200.0]"
            ]
          },
          "metadata": {},
          "execution_count": 54
        }
      ]
    },
    {
      "cell_type": "markdown",
      "source": [
        "## **Fill in missing values**"
      ],
      "metadata": {
        "id": "nQnqs4SdNNzu"
      }
    },
    {
      "cell_type": "code",
      "source": [
        "# Create max_power_rpm' column\n",
        "train = train.withColumn(\"new_min_power_rpm\",\n",
        "                        when(col(\"max_power_rpm\") >= 6000, 4500)\n",
        "                        .when(col(\"max_power_rpm\") >= 5000, 3500)\n",
        "                        .when(col(\"max_power_rpm\") >= 4000, 2000)\n",
        "                        .when(col(\"max_power_rpm\") >= 2500, 1200)\n",
        "                        .otherwise(col(\"min_power_rpm\")))\n",
        "\n",
        "# Update min_power_rpm column\n",
        "train = train.withColumn(\"min_power_rpm\", col(\"new_min_power_rpm\")).drop(\"new_min_power_rpm\")\n",
        "\n",
        "# Result\n",
        "train.show()\n"
      ],
      "metadata": {
        "colab": {
          "base_uri": "https://localhost:8080/"
        },
        "id": "vSUBgpPyNTHp",
        "outputId": "ad702c08-70c6-41b3-c041-1e312d3fe870"
      },
      "execution_count": 55,
      "outputs": [
        {
          "output_type": "stream",
          "name": "stdout",
          "text": [
            "+---------+----------+--------+--------------------+----+------+-------------+------------+-----------+-------------+----------+------------+---------------+---------+------------------+---------------+-------------+-------------+-----------------------+-------------+---------------------------+-------------------+\n",
            "|price_try|      make|  series|               model|year|    km| transmission|        fuel|  body_type|     warranty|     from_| wheel_drive|cylinder_number|torque_nm|engine_capacity_cc|engine_power_hp|max_power_rpm|min_power_rpm|acceleration_0to100_sec|max_speed_kmh|average_fuel_consumption_lt|    painted_changed|\n",
            "+---------+----------+--------+--------------------+----+------+-------------+------------+-----------+-------------+----------+------------+---------------+---------+------------------+---------------+-------------+-------------+-----------------------+-------------+---------------------------+-------------------+\n",
            "|   769950|       BMW|5 Serisi|        520d Premium|2008|369000|     Otomatik|       Dizel|      Sedan|Garantisi Yok| Galeriden|Arkadan İtiş|              6|      200|              1995|            125|         2500|       1200.0|                    8,4|        226.0|                        6,1|     Tamamı orjinal|\n",
            "|   635000|      Ford|   Focus|    1.6 TDCi Trend X|2012|210000|          Düz|       Dizel|      Sedan|Garantisi Yok| Galeriden| Önden Çekiş|              4|      150|              1560|            100|         2500|       1200.0|                   12,5|        180.0|                        4,2|     Tamamı orjinal|\n",
            "|   475000|      Fiat|   Linea|  1.3 Multijet Urban|2013|116749|          Düz|       Dizel|      Sedan|Garantisi Yok|Sahibinden| Önden Çekiş|              4|      120|              1248|             75|         2500|       1200.0|                   13,8|        170.0|                        4,9|           8 boyalı|\n",
            "|   359500|   Citroen|      C3|          1.4 HDi SX|2005|190000|          Düz|       Dizel|Hatchback/5|Garantisi Yok| Galeriden| Önden Çekiş|              4|      140|              1398|             95|         2500|       1200.0|                   15,4|        165.0|                        4,2|1 değişen, 7 boyalı|\n",
            "|   699500|   Renault| Fluence|        1.5 dCi Icon|2015|180000|Yarı Otomatik|       Dizel|      Sedan|Garantisi Yok| Galeriden| Önden Çekiş|              4|      140|              1461|            100|         2500|       1200.0|                   11,5|        185.0|                        4,4|     Tamamı orjinal|\n",
            "|   598750|   Peugeot|     208| 1.2 PureTech Active|2017| 70000|          Düz|      Benzin|Hatchback/5|Garantisi Yok| Galeriden| Önden Çekiş|              4|      110|              1199|             83|         2500|       1200.0|                   12,2|        178.0|                        4,5|1 değişen, 2 boyalı|\n",
            "|  1090950|      Seat|    Leon|       1.6 TDI Style|2017|108000|Yarı Otomatik|       Dizel|Hatchback/5|Garantisi Yok| Galeriden| Önden Çekiş|              4|      150|              1598|            125|         2500|       1200.0|                    9,8|        197.0|                        4,1|     Tamamı orjinal|\n",
            "|   685000|Volkswagen|    Polo| 1.4 TDi Comfortline|2015|137000|Yarı Otomatik|       Dizel|Hatchback/5|Garantisi Yok| Galeriden| Önden Çekiş|              4|      140|              1422|            100|         2500|       1200.0|                   10,9|        184.0|                        3,5|3 değişen, 4 boyalı|\n",
            "|   670000|    Toyota| Corolla|1.4 D-4D Comfort ...|2012|220000|Yarı Otomatik|       Dizel|      Sedan|Garantisi Yok| Galeriden| Önden Çekiş|              4|      130|              1364|             95|         2500|       1200.0|                   14,8|        175.0|                        4,8|1 değişen, 1 boyalı|\n",
            "|  1135000|      Opel|Insignia|1.6 CDTI Grand Sp...|2017|172000|     Otomatik|       Dizel|Hatchback/5|Garantisi Yok| Galeriden| Önden Çekiş|              4|      150|              1598|            125|         2500|       1200.0|                   10,9|        203.0|                        5,1|      Belirtilmemiş|\n",
            "|   659000|   Citroen|C-Elysee|    1.5 BlueHDi Feel|2021| 35000|          Düz|       Dizel|      Sedan|Garantisi Yok| Galeriden| Önden Çekiş|              4|      140|              1499|            100|         2500|       1200.0|                   10,1|        189.0|                        3,9|3 değişen, 4 boyalı|\n",
            "|   579900|      Opel|   Corsa|   1.3 CDTI Essentia|2009| 60000|          Düz|       Dizel|Hatchback/5|Garantisi Yok| Galeriden| Önden Çekiş|              4|      120|              1248|             75|         2500|       1200.0|                   14,5|        163.0|                        4,6|     Tamamı orjinal|\n",
            "|   679500|     Honda|   Civic| 1.6 i-VTEC Elegance|2009|178000|     Otomatik|LPG & Benzin|      Sedan|Garantisi Yok| Galeriden| Önden Çekiş|              4|      150|              1595|            125|         2500|       1200.0|                   10,3|        192.0|                        7,1|1 değişen, 3 boyalı|\n",
            "|  1250000|Volkswagen|   VW CC|             1.4 TSi|2015|128000|Yarı Otomatik|      Benzin|      Coupe|Garantisi Yok| Galeriden| Önden Çekiş|              4|      140|              1395|             95|         2500|       1200.0|                    8,9|        218.0|                        5,6|      Belirtilmemiş|\n",
            "|   465000|      Ford|  Fusion|             1.6 Lux|2005|120000|     Otomatik|LPG & Benzin|Hatchback/5|Garantisi Yok| Galeriden| Önden Çekiş|              4|      150|              1596|            125|         2500|       1200.0|                   12,2|        176.0|                        7,6|2 değişen, 8 boyalı|\n",
            "|   544500|      Ford|  Fiesta|        1.4 Titanium|2009|158000|     Otomatik|LPG & Benzin|Hatchback/5|Garantisi Yok| Galeriden| Önden Çekiş|              4|      140|              1388|             95|         2500|       1200.0|                   13,9|        166.0|                        6,5|2 değişen, 4 boyalı|\n",
            "|   370000|   Renault|  Megane|  1.5 dCi Expression|2008|420000|          Düz|       Dizel|      Sedan|Garantisi Yok| Galeriden| Önden Çekiş|              4|      140|              1461|            100|         2500|       1200.0|                   12,8|        175.0|                        4,7|           5 boyalı|\n",
            "|   615000|       BMW|1 Serisi|       116i Standart|2010|186000|     Otomatik|      Benzin|Hatchback/5|Garantisi Var| Galeriden|Arkadan İtiş|              4|      150|              1596|            125|         2500|       1200.0|                   10,8|        200.0|                        7,5|3 değişen, 7 boyalı|\n",
            "|   515000|      Ford|  Fiesta|      1.4 TDCi Trend|2010|183000|          Düz|       Dizel|Hatchback/5|Garantisi Yok| Galeriden| Önden Çekiş|              4|      140|              1398|             95|         2500|       1200.0|                   14,9|        162.0|                        4,2|1 değişen, 1 boyalı|\n",
            "|  1110000|      Audi|      A3|A3 Sportback 1.0 ...|2016|100000|Yarı Otomatik|      Benzin|Hatchback/5|Garantisi Yok| Galeriden| Önden Çekiş|              4|      200|               999|            116|         2500|       1200.0|                    9,9|        206.0|                        4,5|     Tamamı orjinal|\n",
            "+---------+----------+--------+--------------------+----+------+-------------+------------+-----------+-------------+----------+------------+---------------+---------+------------------+---------------+-------------+-------------+-----------------------+-------------+---------------------------+-------------------+\n",
            "only showing top 20 rows\n",
            "\n"
          ]
        }
      ]
    },
    {
      "cell_type": "code",
      "source": [
        "train.select(\"min_power_rpm\").collect()[18][0]"
      ],
      "metadata": {
        "colab": {
          "base_uri": "https://localhost:8080/"
        },
        "id": "sHr2gU-0Nj44",
        "outputId": "46810a87-bc94-46b0-8587-1c6cde745d2d"
      },
      "execution_count": 56,
      "outputs": [
        {
          "output_type": "execute_result",
          "data": {
            "text/plain": [
              "1200.0"
            ]
          },
          "metadata": {},
          "execution_count": 56
        }
      ]
    },
    {
      "cell_type": "markdown",
      "source": [
        "## **Convert Data Type**"
      ],
      "metadata": {
        "id": "oHp6HK8KNmuu"
      }
    },
    {
      "cell_type": "code",
      "source": [
        "train = train.withColumn(\"min_power_rpm\", col(\"min_power_rpm\").cast(\"integer\"))"
      ],
      "metadata": {
        "id": "3p0zajlgNpE7"
      },
      "execution_count": 57,
      "outputs": []
    },
    {
      "cell_type": "code",
      "source": [
        "train.printSchema()\n"
      ],
      "metadata": {
        "colab": {
          "base_uri": "https://localhost:8080/"
        },
        "id": "JQyFDXEfN2f0",
        "outputId": "5ccfb9d3-06cc-4017-d887-fef3e0eb87b6"
      },
      "execution_count": 58,
      "outputs": [
        {
          "output_type": "stream",
          "name": "stdout",
          "text": [
            "root\n",
            " |-- price_try: string (nullable = true)\n",
            " |-- make: string (nullable = true)\n",
            " |-- series: string (nullable = true)\n",
            " |-- model: string (nullable = true)\n",
            " |-- year: string (nullable = true)\n",
            " |-- km: integer (nullable = true)\n",
            " |-- transmission: string (nullable = true)\n",
            " |-- fuel: string (nullable = true)\n",
            " |-- body_type: string (nullable = true)\n",
            " |-- warranty: string (nullable = true)\n",
            " |-- from_: string (nullable = true)\n",
            " |-- wheel_drive: string (nullable = true)\n",
            " |-- cylinder_number: integer (nullable = true)\n",
            " |-- torque_nm: integer (nullable = true)\n",
            " |-- engine_capacity_cc: integer (nullable = true)\n",
            " |-- engine_power_hp: integer (nullable = true)\n",
            " |-- max_power_rpm: integer (nullable = true)\n",
            " |-- min_power_rpm: integer (nullable = true)\n",
            " |-- acceleration_0to100_sec: string (nullable = true)\n",
            " |-- max_speed_kmh: float (nullable = true)\n",
            " |-- average_fuel_consumption_lt: string (nullable = true)\n",
            " |-- painted_changed: string (nullable = true)\n",
            "\n"
          ]
        }
      ]
    },
    {
      "cell_type": "markdown",
      "source": [
        "## **isNull()**"
      ],
      "metadata": {
        "id": "TkT9yVSSN_XR"
      }
    },
    {
      "cell_type": "code",
      "source": [
        "# Find the number of missing values ​​in the min_power_rpm column\n",
        "train.select(spark_sum(when(col(\"min_power_rpm\").isNull(), 1).otherwise(0)).alias(\"min_power_rpm\")).show()"
      ],
      "metadata": {
        "colab": {
          "base_uri": "https://localhost:8080/"
        },
        "id": "gWhXCmV4OBNr",
        "outputId": "73c16461-88a6-4bd2-8195-7b9b821afbed"
      },
      "execution_count": 59,
      "outputs": [
        {
          "output_type": "stream",
          "name": "stdout",
          "text": [
            "+-------------+\n",
            "|min_power_rpm|\n",
            "+-------------+\n",
            "|            0|\n",
            "+-------------+\n",
            "\n"
          ]
        }
      ]
    },
    {
      "cell_type": "markdown",
      "source": [
        "# **acceleration_0to100_sec column**\n"
      ],
      "metadata": {
        "id": "pEUHtGfwO3Od"
      }
    },
    {
      "cell_type": "markdown",
      "source": [
        "## **Convert data Type**"
      ],
      "metadata": {
        "id": "lXzXwfe6PBE1"
      }
    },
    {
      "cell_type": "code",
      "source": [
        "# Change comma to period and convert to float\n",
        "train = train.withColumn(\"acceleration_0to100_sec\",\n",
        "                        col(\"acceleration_0to100_sec\")\n",
        "                        .cast(\"string\")\n",
        "                        .cast(\"double\"))\n",
        "\n",
        "# Result\n",
        "train.printSchema()\n"
      ],
      "metadata": {
        "colab": {
          "base_uri": "https://localhost:8080/"
        },
        "id": "hKkY90T9O__m",
        "outputId": "53880ea2-8316-4010-f882-63d2ded55b51"
      },
      "execution_count": 60,
      "outputs": [
        {
          "output_type": "stream",
          "name": "stdout",
          "text": [
            "root\n",
            " |-- price_try: string (nullable = true)\n",
            " |-- make: string (nullable = true)\n",
            " |-- series: string (nullable = true)\n",
            " |-- model: string (nullable = true)\n",
            " |-- year: string (nullable = true)\n",
            " |-- km: integer (nullable = true)\n",
            " |-- transmission: string (nullable = true)\n",
            " |-- fuel: string (nullable = true)\n",
            " |-- body_type: string (nullable = true)\n",
            " |-- warranty: string (nullable = true)\n",
            " |-- from_: string (nullable = true)\n",
            " |-- wheel_drive: string (nullable = true)\n",
            " |-- cylinder_number: integer (nullable = true)\n",
            " |-- torque_nm: integer (nullable = true)\n",
            " |-- engine_capacity_cc: integer (nullable = true)\n",
            " |-- engine_power_hp: integer (nullable = true)\n",
            " |-- max_power_rpm: integer (nullable = true)\n",
            " |-- min_power_rpm: integer (nullable = true)\n",
            " |-- acceleration_0to100_sec: double (nullable = true)\n",
            " |-- max_speed_kmh: float (nullable = true)\n",
            " |-- average_fuel_consumption_lt: string (nullable = true)\n",
            " |-- painted_changed: string (nullable = true)\n",
            "\n"
          ]
        }
      ]
    },
    {
      "cell_type": "markdown",
      "source": [
        "## **Get the unique values ​​of the 'acceleration_0to100_sec' column**"
      ],
      "metadata": {
        "id": "DwHJMJWPSfe1"
      }
    },
    {
      "cell_type": "code",
      "source": [
        "# Get the unique values ​​of the 'acceleration_0to100_sec' column\n",
        "unique_values = train.select(\"acceleration_0to100_sec\").distinct().collect()\n",
        "\n",
        "# Get Result of Spark DataFrame\n",
        "unique_values_list = [row[\"acceleration_0to100_sec\"] for row in unique_values]\n",
        "unique_values_list"
      ],
      "metadata": {
        "colab": {
          "base_uri": "https://localhost:8080/"
        },
        "id": "_UJRD78JSfOd",
        "outputId": "ef75975b-5f0c-4add-d932-f22382f3a2ff"
      },
      "execution_count": 61,
      "outputs": [
        {
          "output_type": "execute_result",
          "data": {
            "text/plain": [
              "[8.0, 7.0, 44.0, None, 18.0, 11.0, 14.0, 17.0, 10.0, 13.0, 15.0, 9.0, 12.0]"
            ]
          },
          "metadata": {},
          "execution_count": 61
        }
      ]
    },
    {
      "cell_type": "markdown",
      "source": [
        "## **Fill in missing values**"
      ],
      "metadata": {
        "id": "iuKyhY2oS312"
      }
    },
    {
      "cell_type": "code",
      "source": [
        "# Create acceleration_0to100_sec column\n",
        "train = train.withColumn(\"new_acceleration_0to100_sec\",\n",
        "                        when(col(\"torque_nm\") >= 600, 5.9)\n",
        "                        .when(col(\"torque_nm\") >= 500, 7.9)\n",
        "                        .when(col(\"torque_nm\") >= 400, 9.3)\n",
        "                        .when(col(\"torque_nm\") >= 300, 11.2)\n",
        "                        .when(col(\"torque_nm\") >= 200, 13.6)\n",
        "                        .when(col(\"torque_nm\") >= 90, 15.2)\n",
        "                        .otherwise(col(\"acceleration_0to100_sec\")))\n",
        "\n",
        "# Update acceleration_0to100_sec column\n",
        "train = train.withColumn(\"acceleration_0to100_sec\", col(\"new_acceleration_0to100_sec\")).drop(\"new_acceleration_0to100_sec\")\n",
        "\n",
        "# Result\n",
        "train.show()\n"
      ],
      "metadata": {
        "colab": {
          "base_uri": "https://localhost:8080/"
        },
        "id": "05s8MHPPSfI1",
        "outputId": "7a48099e-7cf1-4680-cd17-144c3470316c"
      },
      "execution_count": 62,
      "outputs": [
        {
          "output_type": "stream",
          "name": "stdout",
          "text": [
            "+---------+----------+--------+--------------------+----+------+-------------+------------+-----------+-------------+----------+------------+---------------+---------+------------------+---------------+-------------+-------------+-----------------------+-------------+---------------------------+-------------------+\n",
            "|price_try|      make|  series|               model|year|    km| transmission|        fuel|  body_type|     warranty|     from_| wheel_drive|cylinder_number|torque_nm|engine_capacity_cc|engine_power_hp|max_power_rpm|min_power_rpm|acceleration_0to100_sec|max_speed_kmh|average_fuel_consumption_lt|    painted_changed|\n",
            "+---------+----------+--------+--------------------+----+------+-------------+------------+-----------+-------------+----------+------------+---------------+---------+------------------+---------------+-------------+-------------+-----------------------+-------------+---------------------------+-------------------+\n",
            "|   769950|       BMW|5 Serisi|        520d Premium|2008|369000|     Otomatik|       Dizel|      Sedan|Garantisi Yok| Galeriden|Arkadan İtiş|              6|      200|              1995|            125|         2500|         1200|                   13.6|        226.0|                        6,1|     Tamamı orjinal|\n",
            "|   635000|      Ford|   Focus|    1.6 TDCi Trend X|2012|210000|          Düz|       Dizel|      Sedan|Garantisi Yok| Galeriden| Önden Çekiş|              4|      150|              1560|            100|         2500|         1200|                   15.2|        180.0|                        4,2|     Tamamı orjinal|\n",
            "|   475000|      Fiat|   Linea|  1.3 Multijet Urban|2013|116749|          Düz|       Dizel|      Sedan|Garantisi Yok|Sahibinden| Önden Çekiş|              4|      120|              1248|             75|         2500|         1200|                   15.2|        170.0|                        4,9|           8 boyalı|\n",
            "|   359500|   Citroen|      C3|          1.4 HDi SX|2005|190000|          Düz|       Dizel|Hatchback/5|Garantisi Yok| Galeriden| Önden Çekiş|              4|      140|              1398|             95|         2500|         1200|                   15.2|        165.0|                        4,2|1 değişen, 7 boyalı|\n",
            "|   699500|   Renault| Fluence|        1.5 dCi Icon|2015|180000|Yarı Otomatik|       Dizel|      Sedan|Garantisi Yok| Galeriden| Önden Çekiş|              4|      140|              1461|            100|         2500|         1200|                   15.2|        185.0|                        4,4|     Tamamı orjinal|\n",
            "|   598750|   Peugeot|     208| 1.2 PureTech Active|2017| 70000|          Düz|      Benzin|Hatchback/5|Garantisi Yok| Galeriden| Önden Çekiş|              4|      110|              1199|             83|         2500|         1200|                   15.2|        178.0|                        4,5|1 değişen, 2 boyalı|\n",
            "|  1090950|      Seat|    Leon|       1.6 TDI Style|2017|108000|Yarı Otomatik|       Dizel|Hatchback/5|Garantisi Yok| Galeriden| Önden Çekiş|              4|      150|              1598|            125|         2500|         1200|                   15.2|        197.0|                        4,1|     Tamamı orjinal|\n",
            "|   685000|Volkswagen|    Polo| 1.4 TDi Comfortline|2015|137000|Yarı Otomatik|       Dizel|Hatchback/5|Garantisi Yok| Galeriden| Önden Çekiş|              4|      140|              1422|            100|         2500|         1200|                   15.2|        184.0|                        3,5|3 değişen, 4 boyalı|\n",
            "|   670000|    Toyota| Corolla|1.4 D-4D Comfort ...|2012|220000|Yarı Otomatik|       Dizel|      Sedan|Garantisi Yok| Galeriden| Önden Çekiş|              4|      130|              1364|             95|         2500|         1200|                   15.2|        175.0|                        4,8|1 değişen, 1 boyalı|\n",
            "|  1135000|      Opel|Insignia|1.6 CDTI Grand Sp...|2017|172000|     Otomatik|       Dizel|Hatchback/5|Garantisi Yok| Galeriden| Önden Çekiş|              4|      150|              1598|            125|         2500|         1200|                   15.2|        203.0|                        5,1|      Belirtilmemiş|\n",
            "|   659000|   Citroen|C-Elysee|    1.5 BlueHDi Feel|2021| 35000|          Düz|       Dizel|      Sedan|Garantisi Yok| Galeriden| Önden Çekiş|              4|      140|              1499|            100|         2500|         1200|                   15.2|        189.0|                        3,9|3 değişen, 4 boyalı|\n",
            "|   579900|      Opel|   Corsa|   1.3 CDTI Essentia|2009| 60000|          Düz|       Dizel|Hatchback/5|Garantisi Yok| Galeriden| Önden Çekiş|              4|      120|              1248|             75|         2500|         1200|                   15.2|        163.0|                        4,6|     Tamamı orjinal|\n",
            "|   679500|     Honda|   Civic| 1.6 i-VTEC Elegance|2009|178000|     Otomatik|LPG & Benzin|      Sedan|Garantisi Yok| Galeriden| Önden Çekiş|              4|      150|              1595|            125|         2500|         1200|                   15.2|        192.0|                        7,1|1 değişen, 3 boyalı|\n",
            "|  1250000|Volkswagen|   VW CC|             1.4 TSi|2015|128000|Yarı Otomatik|      Benzin|      Coupe|Garantisi Yok| Galeriden| Önden Çekiş|              4|      140|              1395|             95|         2500|         1200|                   15.2|        218.0|                        5,6|      Belirtilmemiş|\n",
            "|   465000|      Ford|  Fusion|             1.6 Lux|2005|120000|     Otomatik|LPG & Benzin|Hatchback/5|Garantisi Yok| Galeriden| Önden Çekiş|              4|      150|              1596|            125|         2500|         1200|                   15.2|        176.0|                        7,6|2 değişen, 8 boyalı|\n",
            "|   544500|      Ford|  Fiesta|        1.4 Titanium|2009|158000|     Otomatik|LPG & Benzin|Hatchback/5|Garantisi Yok| Galeriden| Önden Çekiş|              4|      140|              1388|             95|         2500|         1200|                   15.2|        166.0|                        6,5|2 değişen, 4 boyalı|\n",
            "|   370000|   Renault|  Megane|  1.5 dCi Expression|2008|420000|          Düz|       Dizel|      Sedan|Garantisi Yok| Galeriden| Önden Çekiş|              4|      140|              1461|            100|         2500|         1200|                   15.2|        175.0|                        4,7|           5 boyalı|\n",
            "|   615000|       BMW|1 Serisi|       116i Standart|2010|186000|     Otomatik|      Benzin|Hatchback/5|Garantisi Var| Galeriden|Arkadan İtiş|              4|      150|              1596|            125|         2500|         1200|                   15.2|        200.0|                        7,5|3 değişen, 7 boyalı|\n",
            "|   515000|      Ford|  Fiesta|      1.4 TDCi Trend|2010|183000|          Düz|       Dizel|Hatchback/5|Garantisi Yok| Galeriden| Önden Çekiş|              4|      140|              1398|             95|         2500|         1200|                   15.2|        162.0|                        4,2|1 değişen, 1 boyalı|\n",
            "|  1110000|      Audi|      A3|A3 Sportback 1.0 ...|2016|100000|Yarı Otomatik|      Benzin|Hatchback/5|Garantisi Yok| Galeriden| Önden Çekiş|              4|      200|               999|            116|         2500|         1200|                   13.6|        206.0|                        4,5|     Tamamı orjinal|\n",
            "+---------+----------+--------+--------------------+----+------+-------------+------------+-----------+-------------+----------+------------+---------------+---------+------------------+---------------+-------------+-------------+-----------------------+-------------+---------------------------+-------------------+\n",
            "only showing top 20 rows\n",
            "\n"
          ]
        }
      ]
    },
    {
      "cell_type": "markdown",
      "source": [
        "# **max_speed_kmh column**"
      ],
      "metadata": {
        "id": "2dr37x90TQ-3"
      }
    },
    {
      "cell_type": "markdown",
      "source": [
        "## **Get the unique values ​​of the 'max_speed_kmh' column**"
      ],
      "metadata": {
        "id": "JTPDxml2TUof"
      }
    },
    {
      "cell_type": "code",
      "source": [
        "# Get the unique values ​​of the 'max_speed_kmh' column\n",
        "unique_values = train.select(\"max_speed_kmh\").distinct().collect()\n",
        "\n",
        "# Get Result of Spark DataFrame\n",
        "unique_values_list = [row[\"max_speed_kmh\"] for row in unique_values]\n",
        "unique_values_list"
      ],
      "metadata": {
        "colab": {
          "base_uri": "https://localhost:8080/"
        },
        "id": "ve_uO2szTTzr",
        "outputId": "fb9041b5-bf5b-43e6-abd0-f6f31b8144d4"
      },
      "execution_count": 88,
      "outputs": [
        {
          "output_type": "execute_result",
          "data": {
            "text/plain": [
              "[155, 175]"
            ]
          },
          "metadata": {},
          "execution_count": 88
        }
      ]
    },
    {
      "cell_type": "markdown",
      "source": [
        "## **Fill in missing values**"
      ],
      "metadata": {
        "id": "GUTI7HIITyZ0"
      }
    },
    {
      "cell_type": "code",
      "source": [
        "# Create max_speed_kmh column\n",
        "train = train.withColumn(\"new_max_speed_kmh\",\n",
        "                        when(col(\"torque_nm\") >= 600, 250)\n",
        "                        .when(col(\"torque_nm\") >= 500, 245)\n",
        "                        .when(col(\"torque_nm\") >= 400, 230)\n",
        "                        .when(col(\"torque_nm\") >= 300, 200)\n",
        "                        .when(col(\"torque_nm\") >= 200, 175)\n",
        "                        .when(col(\"torque_nm\") >= 90, 155)\n",
        "                        .otherwise(col(\"max_speed_kmh\")))\n",
        "\n",
        "# Update max_speed_kmh column\n",
        "train = train.withColumn(\"max_speed_kmh\", col(\"new_max_speed_kmh\")).drop(\"new_max_speed_kmh\")\n",
        "\n",
        "# Result\n",
        "train.show()\n"
      ],
      "metadata": {
        "colab": {
          "base_uri": "https://localhost:8080/"
        },
        "id": "kE9hueynTb_2",
        "outputId": "e7319e68-659b-456e-d0b2-204c31700229"
      },
      "execution_count": 64,
      "outputs": [
        {
          "output_type": "stream",
          "name": "stdout",
          "text": [
            "+---------+----------+--------+--------------------+----+------+-------------+------------+-----------+-------------+----------+------------+---------------+---------+------------------+---------------+-------------+-------------+-----------------------+-------------+---------------------------+-------------------+\n",
            "|price_try|      make|  series|               model|year|    km| transmission|        fuel|  body_type|     warranty|     from_| wheel_drive|cylinder_number|torque_nm|engine_capacity_cc|engine_power_hp|max_power_rpm|min_power_rpm|acceleration_0to100_sec|max_speed_kmh|average_fuel_consumption_lt|    painted_changed|\n",
            "+---------+----------+--------+--------------------+----+------+-------------+------------+-----------+-------------+----------+------------+---------------+---------+------------------+---------------+-------------+-------------+-----------------------+-------------+---------------------------+-------------------+\n",
            "|   769950|       BMW|5 Serisi|        520d Premium|2008|369000|     Otomatik|       Dizel|      Sedan|Garantisi Yok| Galeriden|Arkadan İtiş|              6|      200|              1995|            125|         2500|         1200|                   13.6|        175.0|                        6,1|     Tamamı orjinal|\n",
            "|   635000|      Ford|   Focus|    1.6 TDCi Trend X|2012|210000|          Düz|       Dizel|      Sedan|Garantisi Yok| Galeriden| Önden Çekiş|              4|      150|              1560|            100|         2500|         1200|                   15.2|        155.0|                        4,2|     Tamamı orjinal|\n",
            "|   475000|      Fiat|   Linea|  1.3 Multijet Urban|2013|116749|          Düz|       Dizel|      Sedan|Garantisi Yok|Sahibinden| Önden Çekiş|              4|      120|              1248|             75|         2500|         1200|                   15.2|        155.0|                        4,9|           8 boyalı|\n",
            "|   359500|   Citroen|      C3|          1.4 HDi SX|2005|190000|          Düz|       Dizel|Hatchback/5|Garantisi Yok| Galeriden| Önden Çekiş|              4|      140|              1398|             95|         2500|         1200|                   15.2|        155.0|                        4,2|1 değişen, 7 boyalı|\n",
            "|   699500|   Renault| Fluence|        1.5 dCi Icon|2015|180000|Yarı Otomatik|       Dizel|      Sedan|Garantisi Yok| Galeriden| Önden Çekiş|              4|      140|              1461|            100|         2500|         1200|                   15.2|        155.0|                        4,4|     Tamamı orjinal|\n",
            "|   598750|   Peugeot|     208| 1.2 PureTech Active|2017| 70000|          Düz|      Benzin|Hatchback/5|Garantisi Yok| Galeriden| Önden Çekiş|              4|      110|              1199|             83|         2500|         1200|                   15.2|        155.0|                        4,5|1 değişen, 2 boyalı|\n",
            "|  1090950|      Seat|    Leon|       1.6 TDI Style|2017|108000|Yarı Otomatik|       Dizel|Hatchback/5|Garantisi Yok| Galeriden| Önden Çekiş|              4|      150|              1598|            125|         2500|         1200|                   15.2|        155.0|                        4,1|     Tamamı orjinal|\n",
            "|   685000|Volkswagen|    Polo| 1.4 TDi Comfortline|2015|137000|Yarı Otomatik|       Dizel|Hatchback/5|Garantisi Yok| Galeriden| Önden Çekiş|              4|      140|              1422|            100|         2500|         1200|                   15.2|        155.0|                        3,5|3 değişen, 4 boyalı|\n",
            "|   670000|    Toyota| Corolla|1.4 D-4D Comfort ...|2012|220000|Yarı Otomatik|       Dizel|      Sedan|Garantisi Yok| Galeriden| Önden Çekiş|              4|      130|              1364|             95|         2500|         1200|                   15.2|        155.0|                        4,8|1 değişen, 1 boyalı|\n",
            "|  1135000|      Opel|Insignia|1.6 CDTI Grand Sp...|2017|172000|     Otomatik|       Dizel|Hatchback/5|Garantisi Yok| Galeriden| Önden Çekiş|              4|      150|              1598|            125|         2500|         1200|                   15.2|        155.0|                        5,1|      Belirtilmemiş|\n",
            "|   659000|   Citroen|C-Elysee|    1.5 BlueHDi Feel|2021| 35000|          Düz|       Dizel|      Sedan|Garantisi Yok| Galeriden| Önden Çekiş|              4|      140|              1499|            100|         2500|         1200|                   15.2|        155.0|                        3,9|3 değişen, 4 boyalı|\n",
            "|   579900|      Opel|   Corsa|   1.3 CDTI Essentia|2009| 60000|          Düz|       Dizel|Hatchback/5|Garantisi Yok| Galeriden| Önden Çekiş|              4|      120|              1248|             75|         2500|         1200|                   15.2|        155.0|                        4,6|     Tamamı orjinal|\n",
            "|   679500|     Honda|   Civic| 1.6 i-VTEC Elegance|2009|178000|     Otomatik|LPG & Benzin|      Sedan|Garantisi Yok| Galeriden| Önden Çekiş|              4|      150|              1595|            125|         2500|         1200|                   15.2|        155.0|                        7,1|1 değişen, 3 boyalı|\n",
            "|  1250000|Volkswagen|   VW CC|             1.4 TSi|2015|128000|Yarı Otomatik|      Benzin|      Coupe|Garantisi Yok| Galeriden| Önden Çekiş|              4|      140|              1395|             95|         2500|         1200|                   15.2|        155.0|                        5,6|      Belirtilmemiş|\n",
            "|   465000|      Ford|  Fusion|             1.6 Lux|2005|120000|     Otomatik|LPG & Benzin|Hatchback/5|Garantisi Yok| Galeriden| Önden Çekiş|              4|      150|              1596|            125|         2500|         1200|                   15.2|        155.0|                        7,6|2 değişen, 8 boyalı|\n",
            "|   544500|      Ford|  Fiesta|        1.4 Titanium|2009|158000|     Otomatik|LPG & Benzin|Hatchback/5|Garantisi Yok| Galeriden| Önden Çekiş|              4|      140|              1388|             95|         2500|         1200|                   15.2|        155.0|                        6,5|2 değişen, 4 boyalı|\n",
            "|   370000|   Renault|  Megane|  1.5 dCi Expression|2008|420000|          Düz|       Dizel|      Sedan|Garantisi Yok| Galeriden| Önden Çekiş|              4|      140|              1461|            100|         2500|         1200|                   15.2|        155.0|                        4,7|           5 boyalı|\n",
            "|   615000|       BMW|1 Serisi|       116i Standart|2010|186000|     Otomatik|      Benzin|Hatchback/5|Garantisi Var| Galeriden|Arkadan İtiş|              4|      150|              1596|            125|         2500|         1200|                   15.2|        155.0|                        7,5|3 değişen, 7 boyalı|\n",
            "|   515000|      Ford|  Fiesta|      1.4 TDCi Trend|2010|183000|          Düz|       Dizel|Hatchback/5|Garantisi Yok| Galeriden| Önden Çekiş|              4|      140|              1398|             95|         2500|         1200|                   15.2|        155.0|                        4,2|1 değişen, 1 boyalı|\n",
            "|  1110000|      Audi|      A3|A3 Sportback 1.0 ...|2016|100000|Yarı Otomatik|      Benzin|Hatchback/5|Garantisi Yok| Galeriden| Önden Çekiş|              4|      200|               999|            116|         2500|         1200|                   13.6|        175.0|                        4,5|     Tamamı orjinal|\n",
            "+---------+----------+--------+--------------------+----+------+-------------+------------+-----------+-------------+----------+------------+---------------+---------+------------------+---------------+-------------+-------------+-----------------------+-------------+---------------------------+-------------------+\n",
            "only showing top 20 rows\n",
            "\n"
          ]
        }
      ]
    },
    {
      "cell_type": "code",
      "source": [
        "train.select(\"max_speed_kmh\").collect()[59][0]"
      ],
      "metadata": {
        "colab": {
          "base_uri": "https://localhost:8080/"
        },
        "id": "43ZQ_UR1UIYW",
        "outputId": "b02bab2e-2ad4-4b5f-9988-6ac2c8d6c7bc"
      },
      "execution_count": 65,
      "outputs": [
        {
          "output_type": "execute_result",
          "data": {
            "text/plain": [
              "175.0"
            ]
          },
          "metadata": {},
          "execution_count": 65
        }
      ]
    },
    {
      "cell_type": "markdown",
      "source": [
        "## **Convert Data Type**"
      ],
      "metadata": {
        "id": "vyKppehtU3uH"
      }
    },
    {
      "cell_type": "code",
      "source": [
        "train = train.withColumn(\"max_speed_kmh\", col(\"max_speed_kmh\").cast(\"integer\"))"
      ],
      "metadata": {
        "id": "lXKPuRQ4Uqs2"
      },
      "execution_count": 66,
      "outputs": []
    },
    {
      "cell_type": "markdown",
      "source": [
        "## **isNull()**"
      ],
      "metadata": {
        "id": "78LK7IgYU_YC"
      }
    },
    {
      "cell_type": "code",
      "source": [
        "# Find the number of missing values ​​in the max_speed_kmh column\n",
        "train.select(spark_sum(when(col(\"max_speed_kmh\").isNull(), 1).otherwise(0)).alias(\"max_speed_kmh\")).show()"
      ],
      "metadata": {
        "colab": {
          "base_uri": "https://localhost:8080/"
        },
        "id": "ZRJLKqoAVFVL",
        "outputId": "3327b950-00a8-491f-c2de-f83c8c850085"
      },
      "execution_count": 67,
      "outputs": [
        {
          "output_type": "stream",
          "name": "stdout",
          "text": [
            "+-------------+\n",
            "|max_speed_kmh|\n",
            "+-------------+\n",
            "|            0|\n",
            "+-------------+\n",
            "\n"
          ]
        }
      ]
    },
    {
      "cell_type": "markdown",
      "source": [
        "# **average_fuel_consumption_lt column**"
      ],
      "metadata": {
        "id": "1zu2bp9EVY3v"
      }
    },
    {
      "cell_type": "markdown",
      "source": [
        "## **Convert Data type**"
      ],
      "metadata": {
        "id": "w5azRCLhVgNH"
      }
    },
    {
      "cell_type": "code",
      "source": [
        "# Change comma to period and convert to float\n",
        "train = train.withColumn(\"average_fuel_consumption_lt\",\n",
        "                        col(\"average_fuel_consumption_lt\")\n",
        "                        .cast(\"string\")\n",
        "                        .cast(\"double\"))\n",
        "\n",
        "# Result\n",
        "train.printSchema()"
      ],
      "metadata": {
        "colab": {
          "base_uri": "https://localhost:8080/"
        },
        "id": "N-LjcNgNVpuW",
        "outputId": "756e6045-5719-498a-ddb3-2afa2e15b1e8"
      },
      "execution_count": 68,
      "outputs": [
        {
          "output_type": "stream",
          "name": "stdout",
          "text": [
            "root\n",
            " |-- price_try: string (nullable = true)\n",
            " |-- make: string (nullable = true)\n",
            " |-- series: string (nullable = true)\n",
            " |-- model: string (nullable = true)\n",
            " |-- year: string (nullable = true)\n",
            " |-- km: integer (nullable = true)\n",
            " |-- transmission: string (nullable = true)\n",
            " |-- fuel: string (nullable = true)\n",
            " |-- body_type: string (nullable = true)\n",
            " |-- warranty: string (nullable = true)\n",
            " |-- from_: string (nullable = true)\n",
            " |-- wheel_drive: string (nullable = true)\n",
            " |-- cylinder_number: integer (nullable = true)\n",
            " |-- torque_nm: integer (nullable = true)\n",
            " |-- engine_capacity_cc: integer (nullable = true)\n",
            " |-- engine_power_hp: integer (nullable = true)\n",
            " |-- max_power_rpm: integer (nullable = true)\n",
            " |-- min_power_rpm: integer (nullable = true)\n",
            " |-- acceleration_0to100_sec: double (nullable = true)\n",
            " |-- max_speed_kmh: integer (nullable = true)\n",
            " |-- average_fuel_consumption_lt: double (nullable = true)\n",
            " |-- painted_changed: string (nullable = true)\n",
            "\n"
          ]
        }
      ]
    },
    {
      "cell_type": "markdown",
      "source": [
        "## **Get the unique values ​​of the 'average_fuel_consumption_lt' column**\n"
      ],
      "metadata": {
        "id": "cKXWRIxeV0yp"
      }
    },
    {
      "cell_type": "code",
      "source": [
        "# Get the unique values ​​of the 'max_speed_kmh' column\n",
        "unique_values = train.select(\"average_fuel_consumption_lt\").distinct().collect()\n",
        "\n",
        "# Get Result of Spark DataFrame\n",
        "unique_values_list = [row[\"average_fuel_consumption_lt\"] for row in unique_values]\n",
        "unique_values_list"
      ],
      "metadata": {
        "colab": {
          "base_uri": "https://localhost:8080/"
        },
        "id": "Njx96innV7b7",
        "outputId": "1389961d-df5b-47db-b39b-735390de7cc5"
      },
      "execution_count": 87,
      "outputs": [
        {
          "output_type": "execute_result",
          "data": {
            "text/plain": [
              "[5.5]"
            ]
          },
          "metadata": {},
          "execution_count": 87
        }
      ]
    },
    {
      "cell_type": "markdown",
      "source": [
        "## **Fill in missing values**"
      ],
      "metadata": {
        "id": "p3qdGWJHWEra"
      }
    },
    {
      "cell_type": "code",
      "source": [
        "# Create average_fuel_consumption_lt column\n",
        "train = train.withColumn(\"new_fuel_consumption_lt\",\n",
        "                        when(col(\"min_power_rpm\") >= 5000, 7.4)\n",
        "                        .when(col(\"min_power_rpm\") >= 4000, 6.6)\n",
        "                        .when(col(\"min_power_rpm\") >= 3000, 6.5)\n",
        "                        .when(col(\"min_power_rpm\") >= 2000, 6.2)\n",
        "                        .when(col(\"min_power_rpm\") >= 1000, 5.5)\n",
        "                        .otherwise(col(\"average_fuel_consumption_lt\")))\n",
        "\n",
        "# average_fuel_consumption_lt sütununu güncelle\n",
        "train = train.withColumn(\"average_fuel_consumption_lt\", col(\"new_fuel_consumption_lt\")).drop(\"new_fuel_consumption_lt\")\n",
        "\n",
        "# Sonucu göster\n",
        "train.show()\n"
      ],
      "metadata": {
        "colab": {
          "base_uri": "https://localhost:8080/"
        },
        "id": "0bVCLiurWAdS",
        "outputId": "4bf2ccb9-5bf4-4bb1-d34e-40a5a27edb35"
      },
      "execution_count": 70,
      "outputs": [
        {
          "output_type": "stream",
          "name": "stdout",
          "text": [
            "+---------+----------+--------+--------------------+----+------+-------------+------------+-----------+-------------+----------+------------+---------------+---------+------------------+---------------+-------------+-------------+-----------------------+-------------+---------------------------+-------------------+\n",
            "|price_try|      make|  series|               model|year|    km| transmission|        fuel|  body_type|     warranty|     from_| wheel_drive|cylinder_number|torque_nm|engine_capacity_cc|engine_power_hp|max_power_rpm|min_power_rpm|acceleration_0to100_sec|max_speed_kmh|average_fuel_consumption_lt|    painted_changed|\n",
            "+---------+----------+--------+--------------------+----+------+-------------+------------+-----------+-------------+----------+------------+---------------+---------+------------------+---------------+-------------+-------------+-----------------------+-------------+---------------------------+-------------------+\n",
            "|   769950|       BMW|5 Serisi|        520d Premium|2008|369000|     Otomatik|       Dizel|      Sedan|Garantisi Yok| Galeriden|Arkadan İtiş|              6|      200|              1995|            125|         2500|         1200|                   13.6|          175|                        5.5|     Tamamı orjinal|\n",
            "|   635000|      Ford|   Focus|    1.6 TDCi Trend X|2012|210000|          Düz|       Dizel|      Sedan|Garantisi Yok| Galeriden| Önden Çekiş|              4|      150|              1560|            100|         2500|         1200|                   15.2|          155|                        5.5|     Tamamı orjinal|\n",
            "|   475000|      Fiat|   Linea|  1.3 Multijet Urban|2013|116749|          Düz|       Dizel|      Sedan|Garantisi Yok|Sahibinden| Önden Çekiş|              4|      120|              1248|             75|         2500|         1200|                   15.2|          155|                        5.5|           8 boyalı|\n",
            "|   359500|   Citroen|      C3|          1.4 HDi SX|2005|190000|          Düz|       Dizel|Hatchback/5|Garantisi Yok| Galeriden| Önden Çekiş|              4|      140|              1398|             95|         2500|         1200|                   15.2|          155|                        5.5|1 değişen, 7 boyalı|\n",
            "|   699500|   Renault| Fluence|        1.5 dCi Icon|2015|180000|Yarı Otomatik|       Dizel|      Sedan|Garantisi Yok| Galeriden| Önden Çekiş|              4|      140|              1461|            100|         2500|         1200|                   15.2|          155|                        5.5|     Tamamı orjinal|\n",
            "|   598750|   Peugeot|     208| 1.2 PureTech Active|2017| 70000|          Düz|      Benzin|Hatchback/5|Garantisi Yok| Galeriden| Önden Çekiş|              4|      110|              1199|             83|         2500|         1200|                   15.2|          155|                        5.5|1 değişen, 2 boyalı|\n",
            "|  1090950|      Seat|    Leon|       1.6 TDI Style|2017|108000|Yarı Otomatik|       Dizel|Hatchback/5|Garantisi Yok| Galeriden| Önden Çekiş|              4|      150|              1598|            125|         2500|         1200|                   15.2|          155|                        5.5|     Tamamı orjinal|\n",
            "|   685000|Volkswagen|    Polo| 1.4 TDi Comfortline|2015|137000|Yarı Otomatik|       Dizel|Hatchback/5|Garantisi Yok| Galeriden| Önden Çekiş|              4|      140|              1422|            100|         2500|         1200|                   15.2|          155|                        5.5|3 değişen, 4 boyalı|\n",
            "|   670000|    Toyota| Corolla|1.4 D-4D Comfort ...|2012|220000|Yarı Otomatik|       Dizel|      Sedan|Garantisi Yok| Galeriden| Önden Çekiş|              4|      130|              1364|             95|         2500|         1200|                   15.2|          155|                        5.5|1 değişen, 1 boyalı|\n",
            "|  1135000|      Opel|Insignia|1.6 CDTI Grand Sp...|2017|172000|     Otomatik|       Dizel|Hatchback/5|Garantisi Yok| Galeriden| Önden Çekiş|              4|      150|              1598|            125|         2500|         1200|                   15.2|          155|                        5.5|      Belirtilmemiş|\n",
            "|   659000|   Citroen|C-Elysee|    1.5 BlueHDi Feel|2021| 35000|          Düz|       Dizel|      Sedan|Garantisi Yok| Galeriden| Önden Çekiş|              4|      140|              1499|            100|         2500|         1200|                   15.2|          155|                        5.5|3 değişen, 4 boyalı|\n",
            "|   579900|      Opel|   Corsa|   1.3 CDTI Essentia|2009| 60000|          Düz|       Dizel|Hatchback/5|Garantisi Yok| Galeriden| Önden Çekiş|              4|      120|              1248|             75|         2500|         1200|                   15.2|          155|                        5.5|     Tamamı orjinal|\n",
            "|   679500|     Honda|   Civic| 1.6 i-VTEC Elegance|2009|178000|     Otomatik|LPG & Benzin|      Sedan|Garantisi Yok| Galeriden| Önden Çekiş|              4|      150|              1595|            125|         2500|         1200|                   15.2|          155|                        5.5|1 değişen, 3 boyalı|\n",
            "|  1250000|Volkswagen|   VW CC|             1.4 TSi|2015|128000|Yarı Otomatik|      Benzin|      Coupe|Garantisi Yok| Galeriden| Önden Çekiş|              4|      140|              1395|             95|         2500|         1200|                   15.2|          155|                        5.5|      Belirtilmemiş|\n",
            "|   465000|      Ford|  Fusion|             1.6 Lux|2005|120000|     Otomatik|LPG & Benzin|Hatchback/5|Garantisi Yok| Galeriden| Önden Çekiş|              4|      150|              1596|            125|         2500|         1200|                   15.2|          155|                        5.5|2 değişen, 8 boyalı|\n",
            "|   544500|      Ford|  Fiesta|        1.4 Titanium|2009|158000|     Otomatik|LPG & Benzin|Hatchback/5|Garantisi Yok| Galeriden| Önden Çekiş|              4|      140|              1388|             95|         2500|         1200|                   15.2|          155|                        5.5|2 değişen, 4 boyalı|\n",
            "|   370000|   Renault|  Megane|  1.5 dCi Expression|2008|420000|          Düz|       Dizel|      Sedan|Garantisi Yok| Galeriden| Önden Çekiş|              4|      140|              1461|            100|         2500|         1200|                   15.2|          155|                        5.5|           5 boyalı|\n",
            "|   615000|       BMW|1 Serisi|       116i Standart|2010|186000|     Otomatik|      Benzin|Hatchback/5|Garantisi Var| Galeriden|Arkadan İtiş|              4|      150|              1596|            125|         2500|         1200|                   15.2|          155|                        5.5|3 değişen, 7 boyalı|\n",
            "|   515000|      Ford|  Fiesta|      1.4 TDCi Trend|2010|183000|          Düz|       Dizel|Hatchback/5|Garantisi Yok| Galeriden| Önden Çekiş|              4|      140|              1398|             95|         2500|         1200|                   15.2|          155|                        5.5|1 değişen, 1 boyalı|\n",
            "|  1110000|      Audi|      A3|A3 Sportback 1.0 ...|2016|100000|Yarı Otomatik|      Benzin|Hatchback/5|Garantisi Yok| Galeriden| Önden Çekiş|              4|      200|               999|            116|         2500|         1200|                   13.6|          175|                        5.5|     Tamamı orjinal|\n",
            "+---------+----------+--------+--------------------+----+------+-------------+------------+-----------+-------------+----------+------------+---------------+---------+------------------+---------------+-------------+-------------+-----------------------+-------------+---------------------------+-------------------+\n",
            "only showing top 20 rows\n",
            "\n"
          ]
        }
      ]
    },
    {
      "cell_type": "code",
      "source": [
        "train.select(\"average_fuel_consumption_lt\").collect()[59][0]\n"
      ],
      "metadata": {
        "colab": {
          "base_uri": "https://localhost:8080/"
        },
        "id": "yl6FClS4WddO",
        "outputId": "4df8fceb-5751-41d4-9403-6d8b27433643"
      },
      "execution_count": 71,
      "outputs": [
        {
          "output_type": "execute_result",
          "data": {
            "text/plain": [
              "5.5"
            ]
          },
          "metadata": {},
          "execution_count": 71
        }
      ]
    },
    {
      "cell_type": "markdown",
      "source": [
        "## **isNull()**"
      ],
      "metadata": {
        "id": "8e-WsKZbWjkQ"
      }
    },
    {
      "cell_type": "code",
      "source": [
        "# Find the number of missing values ​​in the max_speed_kmh column\n",
        "train.select(spark_sum(when(col(\"average_fuel_consumption_lt\").isNull(), 1).otherwise(0)).alias(\"average_fuel_consumption_lt\")).show()"
      ],
      "metadata": {
        "colab": {
          "base_uri": "https://localhost:8080/"
        },
        "id": "dTj9aUg1WljG",
        "outputId": "20d70fd2-a96a-41c2-fb10-d4af99e283b2"
      },
      "execution_count": 72,
      "outputs": [
        {
          "output_type": "stream",
          "name": "stdout",
          "text": [
            "+---------------------------+\n",
            "|average_fuel_consumption_lt|\n",
            "+---------------------------+\n",
            "|                          0|\n",
            "+---------------------------+\n",
            "\n"
          ]
        }
      ]
    },
    {
      "cell_type": "code",
      "source": [
        "train.select(\"average_fuel_consumption_lt\").distinct().collect()\n"
      ],
      "metadata": {
        "colab": {
          "base_uri": "https://localhost:8080/"
        },
        "id": "RwrR0s3-W4p_",
        "outputId": "e62b6c3b-8fe2-4d3c-c105-fb47e629408f"
      },
      "execution_count": 73,
      "outputs": [
        {
          "output_type": "execute_result",
          "data": {
            "text/plain": [
              "[Row(average_fuel_consumption_lt=5.5)]"
            ]
          },
          "metadata": {},
          "execution_count": 73
        }
      ]
    },
    {
      "cell_type": "code",
      "source": [
        "# Get the unique values ​​of the 'max_speed_kmh' column\n",
        "unique_values = train.select(\"average_fuel_consumption_lt\").distinct().collect()\n",
        "\n",
        "# Get Result of Spark DataFrame\n",
        "unique_values_list = [row[\"average_fuel_consumption_lt\"] for row in unique_values]\n",
        "unique_values_list"
      ],
      "metadata": {
        "colab": {
          "base_uri": "https://localhost:8080/"
        },
        "id": "9FpylyCnes-2",
        "outputId": "177de4c2-c98a-43bd-c01b-2602b3e52f78"
      },
      "execution_count": 74,
      "outputs": [
        {
          "output_type": "execute_result",
          "data": {
            "text/plain": [
              "[5.5]"
            ]
          },
          "metadata": {},
          "execution_count": 74
        }
      ]
    },
    {
      "cell_type": "markdown",
      "source": [
        "# ----------------"
      ],
      "metadata": {
        "id": "MNTNkxf1rNN9"
      }
    },
    {
      "cell_type": "code",
      "source": [
        "# Clear commas and punctuation marks\n",
        "train = train.withColumn(\"price_try\", col(\"price_try\").cast(\"string\"))\n",
        "train = train.withColumn(\"price_try\", col(\"price_try\").cast(\"int\"))\n",
        "\n",
        "# Result\n",
        "train.printSchema()\n"
      ],
      "metadata": {
        "colab": {
          "base_uri": "https://localhost:8080/"
        },
        "id": "aL-jHyt_rMox",
        "outputId": "0d52ca91-86d4-40d8-ff21-562bb5aff796"
      },
      "execution_count": 75,
      "outputs": [
        {
          "output_type": "stream",
          "name": "stdout",
          "text": [
            "root\n",
            " |-- price_try: integer (nullable = true)\n",
            " |-- make: string (nullable = true)\n",
            " |-- series: string (nullable = true)\n",
            " |-- model: string (nullable = true)\n",
            " |-- year: string (nullable = true)\n",
            " |-- km: integer (nullable = true)\n",
            " |-- transmission: string (nullable = true)\n",
            " |-- fuel: string (nullable = true)\n",
            " |-- body_type: string (nullable = true)\n",
            " |-- warranty: string (nullable = true)\n",
            " |-- from_: string (nullable = true)\n",
            " |-- wheel_drive: string (nullable = true)\n",
            " |-- cylinder_number: integer (nullable = true)\n",
            " |-- torque_nm: integer (nullable = true)\n",
            " |-- engine_capacity_cc: integer (nullable = true)\n",
            " |-- engine_power_hp: integer (nullable = true)\n",
            " |-- max_power_rpm: integer (nullable = true)\n",
            " |-- min_power_rpm: integer (nullable = true)\n",
            " |-- acceleration_0to100_sec: double (nullable = true)\n",
            " |-- max_speed_kmh: integer (nullable = true)\n",
            " |-- average_fuel_consumption_lt: double (nullable = true)\n",
            " |-- painted_changed: string (nullable = true)\n",
            "\n"
          ]
        }
      ]
    },
    {
      "cell_type": "code",
      "source": [
        "# grouping values of \"make\" column\n",
        "make_counts = train.groupBy(\"make\").count()\n",
        "\n",
        "# Select the brands to be included in the \"Other\" category\n",
        "other_makes = make_counts.filter(\"count <= 30\").select(\"make\").rdd.flatMap(lambda x: x).collect()\n",
        "\n",
        "# update \"make\" column\n",
        "train = train.withColumn(\"make\", when(col(\"make\").isin(other_makes), \"Other\").otherwise(col(\"make\")))\n",
        "\n",
        "# Result\n",
        "train.show()\n"
      ],
      "metadata": {
        "colab": {
          "base_uri": "https://localhost:8080/"
        },
        "id": "XHverBjSr0ts",
        "outputId": "1620b9bc-c008-41cd-c048-11a89d8f796e"
      },
      "execution_count": 76,
      "outputs": [
        {
          "output_type": "stream",
          "name": "stdout",
          "text": [
            "+---------+----------+--------+--------------------+----+------+-------------+------------+-----------+-------------+----------+------------+---------------+---------+------------------+---------------+-------------+-------------+-----------------------+-------------+---------------------------+-------------------+\n",
            "|price_try|      make|  series|               model|year|    km| transmission|        fuel|  body_type|     warranty|     from_| wheel_drive|cylinder_number|torque_nm|engine_capacity_cc|engine_power_hp|max_power_rpm|min_power_rpm|acceleration_0to100_sec|max_speed_kmh|average_fuel_consumption_lt|    painted_changed|\n",
            "+---------+----------+--------+--------------------+----+------+-------------+------------+-----------+-------------+----------+------------+---------------+---------+------------------+---------------+-------------+-------------+-----------------------+-------------+---------------------------+-------------------+\n",
            "|   769950|       BMW|5 Serisi|        520d Premium|2008|369000|     Otomatik|       Dizel|      Sedan|Garantisi Yok| Galeriden|Arkadan İtiş|              6|      200|              1995|            125|         2500|         1200|                   13.6|          175|                        5.5|     Tamamı orjinal|\n",
            "|   635000|      Ford|   Focus|    1.6 TDCi Trend X|2012|210000|          Düz|       Dizel|      Sedan|Garantisi Yok| Galeriden| Önden Çekiş|              4|      150|              1560|            100|         2500|         1200|                   15.2|          155|                        5.5|     Tamamı orjinal|\n",
            "|   475000|      Fiat|   Linea|  1.3 Multijet Urban|2013|116749|          Düz|       Dizel|      Sedan|Garantisi Yok|Sahibinden| Önden Çekiş|              4|      120|              1248|             75|         2500|         1200|                   15.2|          155|                        5.5|           8 boyalı|\n",
            "|   359500|     Other|      C3|          1.4 HDi SX|2005|190000|          Düz|       Dizel|Hatchback/5|Garantisi Yok| Galeriden| Önden Çekiş|              4|      140|              1398|             95|         2500|         1200|                   15.2|          155|                        5.5|1 değişen, 7 boyalı|\n",
            "|   699500|   Renault| Fluence|        1.5 dCi Icon|2015|180000|Yarı Otomatik|       Dizel|      Sedan|Garantisi Yok| Galeriden| Önden Çekiş|              4|      140|              1461|            100|         2500|         1200|                   15.2|          155|                        5.5|     Tamamı orjinal|\n",
            "|   598750|     Other|     208| 1.2 PureTech Active|2017| 70000|          Düz|      Benzin|Hatchback/5|Garantisi Yok| Galeriden| Önden Çekiş|              4|      110|              1199|             83|         2500|         1200|                   15.2|          155|                        5.5|1 değişen, 2 boyalı|\n",
            "|  1090950|     Other|    Leon|       1.6 TDI Style|2017|108000|Yarı Otomatik|       Dizel|Hatchback/5|Garantisi Yok| Galeriden| Önden Çekiş|              4|      150|              1598|            125|         2500|         1200|                   15.2|          155|                        5.5|     Tamamı orjinal|\n",
            "|   685000|Volkswagen|    Polo| 1.4 TDi Comfortline|2015|137000|Yarı Otomatik|       Dizel|Hatchback/5|Garantisi Yok| Galeriden| Önden Çekiş|              4|      140|              1422|            100|         2500|         1200|                   15.2|          155|                        5.5|3 değişen, 4 boyalı|\n",
            "|   670000|     Other| Corolla|1.4 D-4D Comfort ...|2012|220000|Yarı Otomatik|       Dizel|      Sedan|Garantisi Yok| Galeriden| Önden Çekiş|              4|      130|              1364|             95|         2500|         1200|                   15.2|          155|                        5.5|1 değişen, 1 boyalı|\n",
            "|  1135000|      Opel|Insignia|1.6 CDTI Grand Sp...|2017|172000|     Otomatik|       Dizel|Hatchback/5|Garantisi Yok| Galeriden| Önden Çekiş|              4|      150|              1598|            125|         2500|         1200|                   15.2|          155|                        5.5|      Belirtilmemiş|\n",
            "|   659000|     Other|C-Elysee|    1.5 BlueHDi Feel|2021| 35000|          Düz|       Dizel|      Sedan|Garantisi Yok| Galeriden| Önden Çekiş|              4|      140|              1499|            100|         2500|         1200|                   15.2|          155|                        5.5|3 değişen, 4 boyalı|\n",
            "|   579900|      Opel|   Corsa|   1.3 CDTI Essentia|2009| 60000|          Düz|       Dizel|Hatchback/5|Garantisi Yok| Galeriden| Önden Çekiş|              4|      120|              1248|             75|         2500|         1200|                   15.2|          155|                        5.5|     Tamamı orjinal|\n",
            "|   679500|     Honda|   Civic| 1.6 i-VTEC Elegance|2009|178000|     Otomatik|LPG & Benzin|      Sedan|Garantisi Yok| Galeriden| Önden Çekiş|              4|      150|              1595|            125|         2500|         1200|                   15.2|          155|                        5.5|1 değişen, 3 boyalı|\n",
            "|  1250000|Volkswagen|   VW CC|             1.4 TSi|2015|128000|Yarı Otomatik|      Benzin|      Coupe|Garantisi Yok| Galeriden| Önden Çekiş|              4|      140|              1395|             95|         2500|         1200|                   15.2|          155|                        5.5|      Belirtilmemiş|\n",
            "|   465000|      Ford|  Fusion|             1.6 Lux|2005|120000|     Otomatik|LPG & Benzin|Hatchback/5|Garantisi Yok| Galeriden| Önden Çekiş|              4|      150|              1596|            125|         2500|         1200|                   15.2|          155|                        5.5|2 değişen, 8 boyalı|\n",
            "|   544500|      Ford|  Fiesta|        1.4 Titanium|2009|158000|     Otomatik|LPG & Benzin|Hatchback/5|Garantisi Yok| Galeriden| Önden Çekiş|              4|      140|              1388|             95|         2500|         1200|                   15.2|          155|                        5.5|2 değişen, 4 boyalı|\n",
            "|   370000|   Renault|  Megane|  1.5 dCi Expression|2008|420000|          Düz|       Dizel|      Sedan|Garantisi Yok| Galeriden| Önden Çekiş|              4|      140|              1461|            100|         2500|         1200|                   15.2|          155|                        5.5|           5 boyalı|\n",
            "|   615000|       BMW|1 Serisi|       116i Standart|2010|186000|     Otomatik|      Benzin|Hatchback/5|Garantisi Var| Galeriden|Arkadan İtiş|              4|      150|              1596|            125|         2500|         1200|                   15.2|          155|                        5.5|3 değişen, 7 boyalı|\n",
            "|   515000|      Ford|  Fiesta|      1.4 TDCi Trend|2010|183000|          Düz|       Dizel|Hatchback/5|Garantisi Yok| Galeriden| Önden Çekiş|              4|      140|              1398|             95|         2500|         1200|                   15.2|          155|                        5.5|1 değişen, 1 boyalı|\n",
            "|  1110000|     Other|      A3|A3 Sportback 1.0 ...|2016|100000|Yarı Otomatik|      Benzin|Hatchback/5|Garantisi Yok| Galeriden| Önden Çekiş|              4|      200|               999|            116|         2500|         1200|                   13.6|          175|                        5.5|     Tamamı orjinal|\n",
            "+---------+----------+--------+--------------------+----+------+-------------+------------+-----------+-------------+----------+------------+---------------+---------+------------------+---------------+-------------+-------------+-----------------------+-------------+---------------------------+-------------------+\n",
            "only showing top 20 rows\n",
            "\n"
          ]
        }
      ]
    },
    {
      "cell_type": "code",
      "source": [
        "# grouping values of \"series\" column\n",
        "series_counts = train.groupBy(\"series\").count()\n",
        "\n",
        "# Filter series that repeat less than 20 times\n",
        "other_series = series_counts.filter(\"count < 20\").select(\"series\").rdd.flatMap(lambda x: x).collect()\n",
        "\n",
        "# update \"series\" column\n",
        "train = train.withColumn(\"series\", when(col(\"series\").isin(other_series), \"Other\").otherwise(col(\"series\")))\n",
        "\n",
        "# Sonucu göster\n",
        "train.show()"
      ],
      "metadata": {
        "colab": {
          "base_uri": "https://localhost:8080/"
        },
        "id": "a8pZEUpAuGKk",
        "outputId": "a372ffc4-ad35-4507-f905-f4e87feb5c69"
      },
      "execution_count": 77,
      "outputs": [
        {
          "output_type": "stream",
          "name": "stdout",
          "text": [
            "+---------+----------+--------+--------------------+----+------+-------------+------------+-----------+-------------+----------+------------+---------------+---------+------------------+---------------+-------------+-------------+-----------------------+-------------+---------------------------+-------------------+\n",
            "|price_try|      make|  series|               model|year|    km| transmission|        fuel|  body_type|     warranty|     from_| wheel_drive|cylinder_number|torque_nm|engine_capacity_cc|engine_power_hp|max_power_rpm|min_power_rpm|acceleration_0to100_sec|max_speed_kmh|average_fuel_consumption_lt|    painted_changed|\n",
            "+---------+----------+--------+--------------------+----+------+-------------+------------+-----------+-------------+----------+------------+---------------+---------+------------------+---------------+-------------+-------------+-----------------------+-------------+---------------------------+-------------------+\n",
            "|   769950|       BMW|5 Serisi|        520d Premium|2008|369000|     Otomatik|       Dizel|      Sedan|Garantisi Yok| Galeriden|Arkadan İtiş|              6|      200|              1995|            125|         2500|         1200|                   13.6|          175|                        5.5|     Tamamı orjinal|\n",
            "|   635000|      Ford|   Focus|    1.6 TDCi Trend X|2012|210000|          Düz|       Dizel|      Sedan|Garantisi Yok| Galeriden| Önden Çekiş|              4|      150|              1560|            100|         2500|         1200|                   15.2|          155|                        5.5|     Tamamı orjinal|\n",
            "|   475000|      Fiat|   Linea|  1.3 Multijet Urban|2013|116749|          Düz|       Dizel|      Sedan|Garantisi Yok|Sahibinden| Önden Çekiş|              4|      120|              1248|             75|         2500|         1200|                   15.2|          155|                        5.5|           8 boyalı|\n",
            "|   359500|     Other|   Other|          1.4 HDi SX|2005|190000|          Düz|       Dizel|Hatchback/5|Garantisi Yok| Galeriden| Önden Çekiş|              4|      140|              1398|             95|         2500|         1200|                   15.2|          155|                        5.5|1 değişen, 7 boyalı|\n",
            "|   699500|   Renault| Fluence|        1.5 dCi Icon|2015|180000|Yarı Otomatik|       Dizel|      Sedan|Garantisi Yok| Galeriden| Önden Çekiş|              4|      140|              1461|            100|         2500|         1200|                   15.2|          155|                        5.5|     Tamamı orjinal|\n",
            "|   598750|     Other|   Other| 1.2 PureTech Active|2017| 70000|          Düz|      Benzin|Hatchback/5|Garantisi Yok| Galeriden| Önden Çekiş|              4|      110|              1199|             83|         2500|         1200|                   15.2|          155|                        5.5|1 değişen, 2 boyalı|\n",
            "|  1090950|     Other|   Other|       1.6 TDI Style|2017|108000|Yarı Otomatik|       Dizel|Hatchback/5|Garantisi Yok| Galeriden| Önden Çekiş|              4|      150|              1598|            125|         2500|         1200|                   15.2|          155|                        5.5|     Tamamı orjinal|\n",
            "|   685000|Volkswagen|   Other| 1.4 TDi Comfortline|2015|137000|Yarı Otomatik|       Dizel|Hatchback/5|Garantisi Yok| Galeriden| Önden Çekiş|              4|      140|              1422|            100|         2500|         1200|                   15.2|          155|                        5.5|3 değişen, 4 boyalı|\n",
            "|   670000|     Other|   Other|1.4 D-4D Comfort ...|2012|220000|Yarı Otomatik|       Dizel|      Sedan|Garantisi Yok| Galeriden| Önden Çekiş|              4|      130|              1364|             95|         2500|         1200|                   15.2|          155|                        5.5|1 değişen, 1 boyalı|\n",
            "|  1135000|      Opel|   Other|1.6 CDTI Grand Sp...|2017|172000|     Otomatik|       Dizel|Hatchback/5|Garantisi Yok| Galeriden| Önden Çekiş|              4|      150|              1598|            125|         2500|         1200|                   15.2|          155|                        5.5|      Belirtilmemiş|\n",
            "|   659000|     Other|   Other|    1.5 BlueHDi Feel|2021| 35000|          Düz|       Dizel|      Sedan|Garantisi Yok| Galeriden| Önden Çekiş|              4|      140|              1499|            100|         2500|         1200|                   15.2|          155|                        5.5|3 değişen, 4 boyalı|\n",
            "|   579900|      Opel|   Other|   1.3 CDTI Essentia|2009| 60000|          Düz|       Dizel|Hatchback/5|Garantisi Yok| Galeriden| Önden Çekiş|              4|      120|              1248|             75|         2500|         1200|                   15.2|          155|                        5.5|     Tamamı orjinal|\n",
            "|   679500|     Honda|   Civic| 1.6 i-VTEC Elegance|2009|178000|     Otomatik|LPG & Benzin|      Sedan|Garantisi Yok| Galeriden| Önden Çekiş|              4|      150|              1595|            125|         2500|         1200|                   15.2|          155|                        5.5|1 değişen, 3 boyalı|\n",
            "|  1250000|Volkswagen|   Other|             1.4 TSi|2015|128000|Yarı Otomatik|      Benzin|      Coupe|Garantisi Yok| Galeriden| Önden Çekiş|              4|      140|              1395|             95|         2500|         1200|                   15.2|          155|                        5.5|      Belirtilmemiş|\n",
            "|   465000|      Ford|   Other|             1.6 Lux|2005|120000|     Otomatik|LPG & Benzin|Hatchback/5|Garantisi Yok| Galeriden| Önden Çekiş|              4|      150|              1596|            125|         2500|         1200|                   15.2|          155|                        5.5|2 değişen, 8 boyalı|\n",
            "|   544500|      Ford|   Other|        1.4 Titanium|2009|158000|     Otomatik|LPG & Benzin|Hatchback/5|Garantisi Yok| Galeriden| Önden Çekiş|              4|      140|              1388|             95|         2500|         1200|                   15.2|          155|                        5.5|2 değişen, 4 boyalı|\n",
            "|   370000|   Renault|  Megane|  1.5 dCi Expression|2008|420000|          Düz|       Dizel|      Sedan|Garantisi Yok| Galeriden| Önden Çekiş|              4|      140|              1461|            100|         2500|         1200|                   15.2|          155|                        5.5|           5 boyalı|\n",
            "|   615000|       BMW|   Other|       116i Standart|2010|186000|     Otomatik|      Benzin|Hatchback/5|Garantisi Var| Galeriden|Arkadan İtiş|              4|      150|              1596|            125|         2500|         1200|                   15.2|          155|                        5.5|3 değişen, 7 boyalı|\n",
            "|   515000|      Ford|   Other|      1.4 TDCi Trend|2010|183000|          Düz|       Dizel|Hatchback/5|Garantisi Yok| Galeriden| Önden Çekiş|              4|      140|              1398|             95|         2500|         1200|                   15.2|          155|                        5.5|1 değişen, 1 boyalı|\n",
            "|  1110000|     Other|   Other|A3 Sportback 1.0 ...|2016|100000|Yarı Otomatik|      Benzin|Hatchback/5|Garantisi Yok| Galeriden| Önden Çekiş|              4|      200|               999|            116|         2500|         1200|                   13.6|          175|                        5.5|     Tamamı orjinal|\n",
            "+---------+----------+--------+--------------------+----+------+-------------+------------+-----------+-------------+----------+------------+---------------+---------+------------------+---------------+-------------+-------------+-----------------------+-------------+---------------------------+-------------------+\n",
            "only showing top 20 rows\n",
            "\n"
          ]
        }
      ]
    },
    {
      "cell_type": "code",
      "source": [
        "# update \"series\" column\n",
        "train = train.withColumn(\"series\", when(col(\"series\") == \"Other\", \"Other \" + col(\"make\")).otherwise(col(\"series\")))\n",
        "\n",
        "# Result\n",
        "train.show()"
      ],
      "metadata": {
        "colab": {
          "base_uri": "https://localhost:8080/"
        },
        "id": "XRyIgg2qucsQ",
        "outputId": "07188390-1e74-4644-8336-355512340c0c"
      },
      "execution_count": 78,
      "outputs": [
        {
          "output_type": "stream",
          "name": "stdout",
          "text": [
            "+---------+----------+--------+--------------------+----+------+-------------+------------+-----------+-------------+----------+------------+---------------+---------+------------------+---------------+-------------+-------------+-----------------------+-------------+---------------------------+-------------------+\n",
            "|price_try|      make|  series|               model|year|    km| transmission|        fuel|  body_type|     warranty|     from_| wheel_drive|cylinder_number|torque_nm|engine_capacity_cc|engine_power_hp|max_power_rpm|min_power_rpm|acceleration_0to100_sec|max_speed_kmh|average_fuel_consumption_lt|    painted_changed|\n",
            "+---------+----------+--------+--------------------+----+------+-------------+------------+-----------+-------------+----------+------------+---------------+---------+------------------+---------------+-------------+-------------+-----------------------+-------------+---------------------------+-------------------+\n",
            "|   769950|       BMW|5 Serisi|        520d Premium|2008|369000|     Otomatik|       Dizel|      Sedan|Garantisi Yok| Galeriden|Arkadan İtiş|              6|      200|              1995|            125|         2500|         1200|                   13.6|          175|                        5.5|     Tamamı orjinal|\n",
            "|   635000|      Ford|   Focus|    1.6 TDCi Trend X|2012|210000|          Düz|       Dizel|      Sedan|Garantisi Yok| Galeriden| Önden Çekiş|              4|      150|              1560|            100|         2500|         1200|                   15.2|          155|                        5.5|     Tamamı orjinal|\n",
            "|   475000|      Fiat|   Linea|  1.3 Multijet Urban|2013|116749|          Düz|       Dizel|      Sedan|Garantisi Yok|Sahibinden| Önden Çekiş|              4|      120|              1248|             75|         2500|         1200|                   15.2|          155|                        5.5|           8 boyalı|\n",
            "|   359500|     Other|    NULL|          1.4 HDi SX|2005|190000|          Düz|       Dizel|Hatchback/5|Garantisi Yok| Galeriden| Önden Çekiş|              4|      140|              1398|             95|         2500|         1200|                   15.2|          155|                        5.5|1 değişen, 7 boyalı|\n",
            "|   699500|   Renault| Fluence|        1.5 dCi Icon|2015|180000|Yarı Otomatik|       Dizel|      Sedan|Garantisi Yok| Galeriden| Önden Çekiş|              4|      140|              1461|            100|         2500|         1200|                   15.2|          155|                        5.5|     Tamamı orjinal|\n",
            "|   598750|     Other|    NULL| 1.2 PureTech Active|2017| 70000|          Düz|      Benzin|Hatchback/5|Garantisi Yok| Galeriden| Önden Çekiş|              4|      110|              1199|             83|         2500|         1200|                   15.2|          155|                        5.5|1 değişen, 2 boyalı|\n",
            "|  1090950|     Other|    NULL|       1.6 TDI Style|2017|108000|Yarı Otomatik|       Dizel|Hatchback/5|Garantisi Yok| Galeriden| Önden Çekiş|              4|      150|              1598|            125|         2500|         1200|                   15.2|          155|                        5.5|     Tamamı orjinal|\n",
            "|   685000|Volkswagen|    NULL| 1.4 TDi Comfortline|2015|137000|Yarı Otomatik|       Dizel|Hatchback/5|Garantisi Yok| Galeriden| Önden Çekiş|              4|      140|              1422|            100|         2500|         1200|                   15.2|          155|                        5.5|3 değişen, 4 boyalı|\n",
            "|   670000|     Other|    NULL|1.4 D-4D Comfort ...|2012|220000|Yarı Otomatik|       Dizel|      Sedan|Garantisi Yok| Galeriden| Önden Çekiş|              4|      130|              1364|             95|         2500|         1200|                   15.2|          155|                        5.5|1 değişen, 1 boyalı|\n",
            "|  1135000|      Opel|    NULL|1.6 CDTI Grand Sp...|2017|172000|     Otomatik|       Dizel|Hatchback/5|Garantisi Yok| Galeriden| Önden Çekiş|              4|      150|              1598|            125|         2500|         1200|                   15.2|          155|                        5.5|      Belirtilmemiş|\n",
            "|   659000|     Other|    NULL|    1.5 BlueHDi Feel|2021| 35000|          Düz|       Dizel|      Sedan|Garantisi Yok| Galeriden| Önden Çekiş|              4|      140|              1499|            100|         2500|         1200|                   15.2|          155|                        5.5|3 değişen, 4 boyalı|\n",
            "|   579900|      Opel|    NULL|   1.3 CDTI Essentia|2009| 60000|          Düz|       Dizel|Hatchback/5|Garantisi Yok| Galeriden| Önden Çekiş|              4|      120|              1248|             75|         2500|         1200|                   15.2|          155|                        5.5|     Tamamı orjinal|\n",
            "|   679500|     Honda|   Civic| 1.6 i-VTEC Elegance|2009|178000|     Otomatik|LPG & Benzin|      Sedan|Garantisi Yok| Galeriden| Önden Çekiş|              4|      150|              1595|            125|         2500|         1200|                   15.2|          155|                        5.5|1 değişen, 3 boyalı|\n",
            "|  1250000|Volkswagen|    NULL|             1.4 TSi|2015|128000|Yarı Otomatik|      Benzin|      Coupe|Garantisi Yok| Galeriden| Önden Çekiş|              4|      140|              1395|             95|         2500|         1200|                   15.2|          155|                        5.5|      Belirtilmemiş|\n",
            "|   465000|      Ford|    NULL|             1.6 Lux|2005|120000|     Otomatik|LPG & Benzin|Hatchback/5|Garantisi Yok| Galeriden| Önden Çekiş|              4|      150|              1596|            125|         2500|         1200|                   15.2|          155|                        5.5|2 değişen, 8 boyalı|\n",
            "|   544500|      Ford|    NULL|        1.4 Titanium|2009|158000|     Otomatik|LPG & Benzin|Hatchback/5|Garantisi Yok| Galeriden| Önden Çekiş|              4|      140|              1388|             95|         2500|         1200|                   15.2|          155|                        5.5|2 değişen, 4 boyalı|\n",
            "|   370000|   Renault|  Megane|  1.5 dCi Expression|2008|420000|          Düz|       Dizel|      Sedan|Garantisi Yok| Galeriden| Önden Çekiş|              4|      140|              1461|            100|         2500|         1200|                   15.2|          155|                        5.5|           5 boyalı|\n",
            "|   615000|       BMW|    NULL|       116i Standart|2010|186000|     Otomatik|      Benzin|Hatchback/5|Garantisi Var| Galeriden|Arkadan İtiş|              4|      150|              1596|            125|         2500|         1200|                   15.2|          155|                        5.5|3 değişen, 7 boyalı|\n",
            "|   515000|      Ford|    NULL|      1.4 TDCi Trend|2010|183000|          Düz|       Dizel|Hatchback/5|Garantisi Yok| Galeriden| Önden Çekiş|              4|      140|              1398|             95|         2500|         1200|                   15.2|          155|                        5.5|1 değişen, 1 boyalı|\n",
            "|  1110000|     Other|    NULL|A3 Sportback 1.0 ...|2016|100000|Yarı Otomatik|      Benzin|Hatchback/5|Garantisi Yok| Galeriden| Önden Çekiş|              4|      200|               999|            116|         2500|         1200|                   13.6|          175|                        5.5|     Tamamı orjinal|\n",
            "+---------+----------+--------+--------------------+----+------+-------------+------------+-----------+-------------+----------+------------+---------------+---------+------------------+---------------+-------------+-------------+-----------------------+-------------+---------------------------+-------------------+\n",
            "only showing top 20 rows\n",
            "\n"
          ]
        }
      ]
    },
    {
      "cell_type": "code",
      "source": [
        "# update \"series\" column\n",
        "train = (\n",
        "    train\n",
        "    .withColumn(\"series\", when(col(\"series\") == \"3 Serisi\", \"3 Series\").otherwise(col(\"series\")))\n",
        "    .withColumn(\"series\", when(col(\"series\") == \"5 Serisi\", \"5 Series\").otherwise(col(\"series\")))\n",
        ")\n",
        "\n",
        "# Result\n",
        "train.show()"
      ],
      "metadata": {
        "colab": {
          "base_uri": "https://localhost:8080/"
        },
        "id": "McVMs1pnuqmT",
        "outputId": "60b30c6c-fc97-4ffc-f463-36e3a6a05337"
      },
      "execution_count": 79,
      "outputs": [
        {
          "output_type": "stream",
          "name": "stdout",
          "text": [
            "+---------+----------+--------+--------------------+----+------+-------------+------------+-----------+-------------+----------+------------+---------------+---------+------------------+---------------+-------------+-------------+-----------------------+-------------+---------------------------+-------------------+\n",
            "|price_try|      make|  series|               model|year|    km| transmission|        fuel|  body_type|     warranty|     from_| wheel_drive|cylinder_number|torque_nm|engine_capacity_cc|engine_power_hp|max_power_rpm|min_power_rpm|acceleration_0to100_sec|max_speed_kmh|average_fuel_consumption_lt|    painted_changed|\n",
            "+---------+----------+--------+--------------------+----+------+-------------+------------+-----------+-------------+----------+------------+---------------+---------+------------------+---------------+-------------+-------------+-----------------------+-------------+---------------------------+-------------------+\n",
            "|   769950|       BMW|5 Series|        520d Premium|2008|369000|     Otomatik|       Dizel|      Sedan|Garantisi Yok| Galeriden|Arkadan İtiş|              6|      200|              1995|            125|         2500|         1200|                   13.6|          175|                        5.5|     Tamamı orjinal|\n",
            "|   635000|      Ford|   Focus|    1.6 TDCi Trend X|2012|210000|          Düz|       Dizel|      Sedan|Garantisi Yok| Galeriden| Önden Çekiş|              4|      150|              1560|            100|         2500|         1200|                   15.2|          155|                        5.5|     Tamamı orjinal|\n",
            "|   475000|      Fiat|   Linea|  1.3 Multijet Urban|2013|116749|          Düz|       Dizel|      Sedan|Garantisi Yok|Sahibinden| Önden Çekiş|              4|      120|              1248|             75|         2500|         1200|                   15.2|          155|                        5.5|           8 boyalı|\n",
            "|   359500|     Other|    NULL|          1.4 HDi SX|2005|190000|          Düz|       Dizel|Hatchback/5|Garantisi Yok| Galeriden| Önden Çekiş|              4|      140|              1398|             95|         2500|         1200|                   15.2|          155|                        5.5|1 değişen, 7 boyalı|\n",
            "|   699500|   Renault| Fluence|        1.5 dCi Icon|2015|180000|Yarı Otomatik|       Dizel|      Sedan|Garantisi Yok| Galeriden| Önden Çekiş|              4|      140|              1461|            100|         2500|         1200|                   15.2|          155|                        5.5|     Tamamı orjinal|\n",
            "|   598750|     Other|    NULL| 1.2 PureTech Active|2017| 70000|          Düz|      Benzin|Hatchback/5|Garantisi Yok| Galeriden| Önden Çekiş|              4|      110|              1199|             83|         2500|         1200|                   15.2|          155|                        5.5|1 değişen, 2 boyalı|\n",
            "|  1090950|     Other|    NULL|       1.6 TDI Style|2017|108000|Yarı Otomatik|       Dizel|Hatchback/5|Garantisi Yok| Galeriden| Önden Çekiş|              4|      150|              1598|            125|         2500|         1200|                   15.2|          155|                        5.5|     Tamamı orjinal|\n",
            "|   685000|Volkswagen|    NULL| 1.4 TDi Comfortline|2015|137000|Yarı Otomatik|       Dizel|Hatchback/5|Garantisi Yok| Galeriden| Önden Çekiş|              4|      140|              1422|            100|         2500|         1200|                   15.2|          155|                        5.5|3 değişen, 4 boyalı|\n",
            "|   670000|     Other|    NULL|1.4 D-4D Comfort ...|2012|220000|Yarı Otomatik|       Dizel|      Sedan|Garantisi Yok| Galeriden| Önden Çekiş|              4|      130|              1364|             95|         2500|         1200|                   15.2|          155|                        5.5|1 değişen, 1 boyalı|\n",
            "|  1135000|      Opel|    NULL|1.6 CDTI Grand Sp...|2017|172000|     Otomatik|       Dizel|Hatchback/5|Garantisi Yok| Galeriden| Önden Çekiş|              4|      150|              1598|            125|         2500|         1200|                   15.2|          155|                        5.5|      Belirtilmemiş|\n",
            "|   659000|     Other|    NULL|    1.5 BlueHDi Feel|2021| 35000|          Düz|       Dizel|      Sedan|Garantisi Yok| Galeriden| Önden Çekiş|              4|      140|              1499|            100|         2500|         1200|                   15.2|          155|                        5.5|3 değişen, 4 boyalı|\n",
            "|   579900|      Opel|    NULL|   1.3 CDTI Essentia|2009| 60000|          Düz|       Dizel|Hatchback/5|Garantisi Yok| Galeriden| Önden Çekiş|              4|      120|              1248|             75|         2500|         1200|                   15.2|          155|                        5.5|     Tamamı orjinal|\n",
            "|   679500|     Honda|   Civic| 1.6 i-VTEC Elegance|2009|178000|     Otomatik|LPG & Benzin|      Sedan|Garantisi Yok| Galeriden| Önden Çekiş|              4|      150|              1595|            125|         2500|         1200|                   15.2|          155|                        5.5|1 değişen, 3 boyalı|\n",
            "|  1250000|Volkswagen|    NULL|             1.4 TSi|2015|128000|Yarı Otomatik|      Benzin|      Coupe|Garantisi Yok| Galeriden| Önden Çekiş|              4|      140|              1395|             95|         2500|         1200|                   15.2|          155|                        5.5|      Belirtilmemiş|\n",
            "|   465000|      Ford|    NULL|             1.6 Lux|2005|120000|     Otomatik|LPG & Benzin|Hatchback/5|Garantisi Yok| Galeriden| Önden Çekiş|              4|      150|              1596|            125|         2500|         1200|                   15.2|          155|                        5.5|2 değişen, 8 boyalı|\n",
            "|   544500|      Ford|    NULL|        1.4 Titanium|2009|158000|     Otomatik|LPG & Benzin|Hatchback/5|Garantisi Yok| Galeriden| Önden Çekiş|              4|      140|              1388|             95|         2500|         1200|                   15.2|          155|                        5.5|2 değişen, 4 boyalı|\n",
            "|   370000|   Renault|  Megane|  1.5 dCi Expression|2008|420000|          Düz|       Dizel|      Sedan|Garantisi Yok| Galeriden| Önden Çekiş|              4|      140|              1461|            100|         2500|         1200|                   15.2|          155|                        5.5|           5 boyalı|\n",
            "|   615000|       BMW|    NULL|       116i Standart|2010|186000|     Otomatik|      Benzin|Hatchback/5|Garantisi Var| Galeriden|Arkadan İtiş|              4|      150|              1596|            125|         2500|         1200|                   15.2|          155|                        5.5|3 değişen, 7 boyalı|\n",
            "|   515000|      Ford|    NULL|      1.4 TDCi Trend|2010|183000|          Düz|       Dizel|Hatchback/5|Garantisi Yok| Galeriden| Önden Çekiş|              4|      140|              1398|             95|         2500|         1200|                   15.2|          155|                        5.5|1 değişen, 1 boyalı|\n",
            "|  1110000|     Other|    NULL|A3 Sportback 1.0 ...|2016|100000|Yarı Otomatik|      Benzin|Hatchback/5|Garantisi Yok| Galeriden| Önden Çekiş|              4|      200|               999|            116|         2500|         1200|                   13.6|          175|                        5.5|     Tamamı orjinal|\n",
            "+---------+----------+--------+--------------------+----+------+-------------+------------+-----------+-------------+----------+------------+---------------+---------+------------------+---------------+-------------+-------------+-----------------------+-------------+---------------------------+-------------------+\n",
            "only showing top 20 rows\n",
            "\n"
          ]
        }
      ]
    },
    {
      "cell_type": "code",
      "source": [
        "# drop \"model\" column\n",
        "train = train.drop(\"model\")\n",
        "\n",
        "# result\n",
        "train.show()"
      ],
      "metadata": {
        "colab": {
          "base_uri": "https://localhost:8080/"
        },
        "id": "t762GMLWu4am",
        "outputId": "9c671faa-b833-4f12-83a5-634195798540"
      },
      "execution_count": 80,
      "outputs": [
        {
          "output_type": "stream",
          "name": "stdout",
          "text": [
            "+---------+----------+--------+----+------+-------------+------------+-----------+-------------+----------+------------+---------------+---------+------------------+---------------+-------------+-------------+-----------------------+-------------+---------------------------+-------------------+\n",
            "|price_try|      make|  series|year|    km| transmission|        fuel|  body_type|     warranty|     from_| wheel_drive|cylinder_number|torque_nm|engine_capacity_cc|engine_power_hp|max_power_rpm|min_power_rpm|acceleration_0to100_sec|max_speed_kmh|average_fuel_consumption_lt|    painted_changed|\n",
            "+---------+----------+--------+----+------+-------------+------------+-----------+-------------+----------+------------+---------------+---------+------------------+---------------+-------------+-------------+-----------------------+-------------+---------------------------+-------------------+\n",
            "|   769950|       BMW|5 Series|2008|369000|     Otomatik|       Dizel|      Sedan|Garantisi Yok| Galeriden|Arkadan İtiş|              6|      200|              1995|            125|         2500|         1200|                   13.6|          175|                        5.5|     Tamamı orjinal|\n",
            "|   635000|      Ford|   Focus|2012|210000|          Düz|       Dizel|      Sedan|Garantisi Yok| Galeriden| Önden Çekiş|              4|      150|              1560|            100|         2500|         1200|                   15.2|          155|                        5.5|     Tamamı orjinal|\n",
            "|   475000|      Fiat|   Linea|2013|116749|          Düz|       Dizel|      Sedan|Garantisi Yok|Sahibinden| Önden Çekiş|              4|      120|              1248|             75|         2500|         1200|                   15.2|          155|                        5.5|           8 boyalı|\n",
            "|   359500|     Other|    NULL|2005|190000|          Düz|       Dizel|Hatchback/5|Garantisi Yok| Galeriden| Önden Çekiş|              4|      140|              1398|             95|         2500|         1200|                   15.2|          155|                        5.5|1 değişen, 7 boyalı|\n",
            "|   699500|   Renault| Fluence|2015|180000|Yarı Otomatik|       Dizel|      Sedan|Garantisi Yok| Galeriden| Önden Çekiş|              4|      140|              1461|            100|         2500|         1200|                   15.2|          155|                        5.5|     Tamamı orjinal|\n",
            "|   598750|     Other|    NULL|2017| 70000|          Düz|      Benzin|Hatchback/5|Garantisi Yok| Galeriden| Önden Çekiş|              4|      110|              1199|             83|         2500|         1200|                   15.2|          155|                        5.5|1 değişen, 2 boyalı|\n",
            "|  1090950|     Other|    NULL|2017|108000|Yarı Otomatik|       Dizel|Hatchback/5|Garantisi Yok| Galeriden| Önden Çekiş|              4|      150|              1598|            125|         2500|         1200|                   15.2|          155|                        5.5|     Tamamı orjinal|\n",
            "|   685000|Volkswagen|    NULL|2015|137000|Yarı Otomatik|       Dizel|Hatchback/5|Garantisi Yok| Galeriden| Önden Çekiş|              4|      140|              1422|            100|         2500|         1200|                   15.2|          155|                        5.5|3 değişen, 4 boyalı|\n",
            "|   670000|     Other|    NULL|2012|220000|Yarı Otomatik|       Dizel|      Sedan|Garantisi Yok| Galeriden| Önden Çekiş|              4|      130|              1364|             95|         2500|         1200|                   15.2|          155|                        5.5|1 değişen, 1 boyalı|\n",
            "|  1135000|      Opel|    NULL|2017|172000|     Otomatik|       Dizel|Hatchback/5|Garantisi Yok| Galeriden| Önden Çekiş|              4|      150|              1598|            125|         2500|         1200|                   15.2|          155|                        5.5|      Belirtilmemiş|\n",
            "|   659000|     Other|    NULL|2021| 35000|          Düz|       Dizel|      Sedan|Garantisi Yok| Galeriden| Önden Çekiş|              4|      140|              1499|            100|         2500|         1200|                   15.2|          155|                        5.5|3 değişen, 4 boyalı|\n",
            "|   579900|      Opel|    NULL|2009| 60000|          Düz|       Dizel|Hatchback/5|Garantisi Yok| Galeriden| Önden Çekiş|              4|      120|              1248|             75|         2500|         1200|                   15.2|          155|                        5.5|     Tamamı orjinal|\n",
            "|   679500|     Honda|   Civic|2009|178000|     Otomatik|LPG & Benzin|      Sedan|Garantisi Yok| Galeriden| Önden Çekiş|              4|      150|              1595|            125|         2500|         1200|                   15.2|          155|                        5.5|1 değişen, 3 boyalı|\n",
            "|  1250000|Volkswagen|    NULL|2015|128000|Yarı Otomatik|      Benzin|      Coupe|Garantisi Yok| Galeriden| Önden Çekiş|              4|      140|              1395|             95|         2500|         1200|                   15.2|          155|                        5.5|      Belirtilmemiş|\n",
            "|   465000|      Ford|    NULL|2005|120000|     Otomatik|LPG & Benzin|Hatchback/5|Garantisi Yok| Galeriden| Önden Çekiş|              4|      150|              1596|            125|         2500|         1200|                   15.2|          155|                        5.5|2 değişen, 8 boyalı|\n",
            "|   544500|      Ford|    NULL|2009|158000|     Otomatik|LPG & Benzin|Hatchback/5|Garantisi Yok| Galeriden| Önden Çekiş|              4|      140|              1388|             95|         2500|         1200|                   15.2|          155|                        5.5|2 değişen, 4 boyalı|\n",
            "|   370000|   Renault|  Megane|2008|420000|          Düz|       Dizel|      Sedan|Garantisi Yok| Galeriden| Önden Çekiş|              4|      140|              1461|            100|         2500|         1200|                   15.2|          155|                        5.5|           5 boyalı|\n",
            "|   615000|       BMW|    NULL|2010|186000|     Otomatik|      Benzin|Hatchback/5|Garantisi Var| Galeriden|Arkadan İtiş|              4|      150|              1596|            125|         2500|         1200|                   15.2|          155|                        5.5|3 değişen, 7 boyalı|\n",
            "|   515000|      Ford|    NULL|2010|183000|          Düz|       Dizel|Hatchback/5|Garantisi Yok| Galeriden| Önden Çekiş|              4|      140|              1398|             95|         2500|         1200|                   15.2|          155|                        5.5|1 değişen, 1 boyalı|\n",
            "|  1110000|     Other|    NULL|2016|100000|Yarı Otomatik|      Benzin|Hatchback/5|Garantisi Yok| Galeriden| Önden Çekiş|              4|      200|               999|            116|         2500|         1200|                   13.6|          175|                        5.5|     Tamamı orjinal|\n",
            "+---------+----------+--------+----+------+-------------+------------+-----------+-------------+----------+------------+---------------+---------+------------------+---------------+-------------+-------------+-----------------------+-------------+---------------------------+-------------------+\n",
            "only showing top 20 rows\n",
            "\n"
          ]
        }
      ]
    },
    {
      "cell_type": "code",
      "source": [
        "# update \"year\" column\n",
        "train = (\n",
        "    train\n",
        "    .withColumn(\"year\", col(\"year\").cast(\"int\"))\n",
        ")\n",
        "\n",
        "# Result\n",
        "train.show()"
      ],
      "metadata": {
        "colab": {
          "base_uri": "https://localhost:8080/"
        },
        "id": "lFMweEq4vELm",
        "outputId": "f6f1a151-0a3b-4371-b714-b90862638401"
      },
      "execution_count": 81,
      "outputs": [
        {
          "output_type": "stream",
          "name": "stdout",
          "text": [
            "+---------+----------+--------+----+------+-------------+------------+-----------+-------------+----------+------------+---------------+---------+------------------+---------------+-------------+-------------+-----------------------+-------------+---------------------------+-------------------+\n",
            "|price_try|      make|  series|year|    km| transmission|        fuel|  body_type|     warranty|     from_| wheel_drive|cylinder_number|torque_nm|engine_capacity_cc|engine_power_hp|max_power_rpm|min_power_rpm|acceleration_0to100_sec|max_speed_kmh|average_fuel_consumption_lt|    painted_changed|\n",
            "+---------+----------+--------+----+------+-------------+------------+-----------+-------------+----------+------------+---------------+---------+------------------+---------------+-------------+-------------+-----------------------+-------------+---------------------------+-------------------+\n",
            "|   769950|       BMW|5 Series|2008|369000|     Otomatik|       Dizel|      Sedan|Garantisi Yok| Galeriden|Arkadan İtiş|              6|      200|              1995|            125|         2500|         1200|                   13.6|          175|                        5.5|     Tamamı orjinal|\n",
            "|   635000|      Ford|   Focus|2012|210000|          Düz|       Dizel|      Sedan|Garantisi Yok| Galeriden| Önden Çekiş|              4|      150|              1560|            100|         2500|         1200|                   15.2|          155|                        5.5|     Tamamı orjinal|\n",
            "|   475000|      Fiat|   Linea|2013|116749|          Düz|       Dizel|      Sedan|Garantisi Yok|Sahibinden| Önden Çekiş|              4|      120|              1248|             75|         2500|         1200|                   15.2|          155|                        5.5|           8 boyalı|\n",
            "|   359500|     Other|    NULL|2005|190000|          Düz|       Dizel|Hatchback/5|Garantisi Yok| Galeriden| Önden Çekiş|              4|      140|              1398|             95|         2500|         1200|                   15.2|          155|                        5.5|1 değişen, 7 boyalı|\n",
            "|   699500|   Renault| Fluence|2015|180000|Yarı Otomatik|       Dizel|      Sedan|Garantisi Yok| Galeriden| Önden Çekiş|              4|      140|              1461|            100|         2500|         1200|                   15.2|          155|                        5.5|     Tamamı orjinal|\n",
            "|   598750|     Other|    NULL|2017| 70000|          Düz|      Benzin|Hatchback/5|Garantisi Yok| Galeriden| Önden Çekiş|              4|      110|              1199|             83|         2500|         1200|                   15.2|          155|                        5.5|1 değişen, 2 boyalı|\n",
            "|  1090950|     Other|    NULL|2017|108000|Yarı Otomatik|       Dizel|Hatchback/5|Garantisi Yok| Galeriden| Önden Çekiş|              4|      150|              1598|            125|         2500|         1200|                   15.2|          155|                        5.5|     Tamamı orjinal|\n",
            "|   685000|Volkswagen|    NULL|2015|137000|Yarı Otomatik|       Dizel|Hatchback/5|Garantisi Yok| Galeriden| Önden Çekiş|              4|      140|              1422|            100|         2500|         1200|                   15.2|          155|                        5.5|3 değişen, 4 boyalı|\n",
            "|   670000|     Other|    NULL|2012|220000|Yarı Otomatik|       Dizel|      Sedan|Garantisi Yok| Galeriden| Önden Çekiş|              4|      130|              1364|             95|         2500|         1200|                   15.2|          155|                        5.5|1 değişen, 1 boyalı|\n",
            "|  1135000|      Opel|    NULL|2017|172000|     Otomatik|       Dizel|Hatchback/5|Garantisi Yok| Galeriden| Önden Çekiş|              4|      150|              1598|            125|         2500|         1200|                   15.2|          155|                        5.5|      Belirtilmemiş|\n",
            "|   659000|     Other|    NULL|2021| 35000|          Düz|       Dizel|      Sedan|Garantisi Yok| Galeriden| Önden Çekiş|              4|      140|              1499|            100|         2500|         1200|                   15.2|          155|                        5.5|3 değişen, 4 boyalı|\n",
            "|   579900|      Opel|    NULL|2009| 60000|          Düz|       Dizel|Hatchback/5|Garantisi Yok| Galeriden| Önden Çekiş|              4|      120|              1248|             75|         2500|         1200|                   15.2|          155|                        5.5|     Tamamı orjinal|\n",
            "|   679500|     Honda|   Civic|2009|178000|     Otomatik|LPG & Benzin|      Sedan|Garantisi Yok| Galeriden| Önden Çekiş|              4|      150|              1595|            125|         2500|         1200|                   15.2|          155|                        5.5|1 değişen, 3 boyalı|\n",
            "|  1250000|Volkswagen|    NULL|2015|128000|Yarı Otomatik|      Benzin|      Coupe|Garantisi Yok| Galeriden| Önden Çekiş|              4|      140|              1395|             95|         2500|         1200|                   15.2|          155|                        5.5|      Belirtilmemiş|\n",
            "|   465000|      Ford|    NULL|2005|120000|     Otomatik|LPG & Benzin|Hatchback/5|Garantisi Yok| Galeriden| Önden Çekiş|              4|      150|              1596|            125|         2500|         1200|                   15.2|          155|                        5.5|2 değişen, 8 boyalı|\n",
            "|   544500|      Ford|    NULL|2009|158000|     Otomatik|LPG & Benzin|Hatchback/5|Garantisi Yok| Galeriden| Önden Çekiş|              4|      140|              1388|             95|         2500|         1200|                   15.2|          155|                        5.5|2 değişen, 4 boyalı|\n",
            "|   370000|   Renault|  Megane|2008|420000|          Düz|       Dizel|      Sedan|Garantisi Yok| Galeriden| Önden Çekiş|              4|      140|              1461|            100|         2500|         1200|                   15.2|          155|                        5.5|           5 boyalı|\n",
            "|   615000|       BMW|    NULL|2010|186000|     Otomatik|      Benzin|Hatchback/5|Garantisi Var| Galeriden|Arkadan İtiş|              4|      150|              1596|            125|         2500|         1200|                   15.2|          155|                        5.5|3 değişen, 7 boyalı|\n",
            "|   515000|      Ford|    NULL|2010|183000|          Düz|       Dizel|Hatchback/5|Garantisi Yok| Galeriden| Önden Çekiş|              4|      140|              1398|             95|         2500|         1200|                   15.2|          155|                        5.5|1 değişen, 1 boyalı|\n",
            "|  1110000|     Other|    NULL|2016|100000|Yarı Otomatik|      Benzin|Hatchback/5|Garantisi Yok| Galeriden| Önden Çekiş|              4|      200|               999|            116|         2500|         1200|                   13.6|          175|                        5.5|     Tamamı orjinal|\n",
            "+---------+----------+--------+----+------+-------------+------------+-----------+-------------+----------+------------+---------------+---------+------------------+---------------+-------------+-------------+-----------------------+-------------+---------------------------+-------------------+\n",
            "only showing top 20 rows\n",
            "\n"
          ]
        }
      ]
    },
    {
      "cell_type": "code",
      "source": [
        "# update \"km\" column\n",
        "train = (\n",
        "    train\n",
        "    .withColumn(\"km\", col(\"km\").cast(\"int\"))\n",
        ")\n",
        "\n",
        "# Result\n",
        "train.show()"
      ],
      "metadata": {
        "colab": {
          "base_uri": "https://localhost:8080/"
        },
        "id": "k8A_MhDOvPUq",
        "outputId": "9069c021-f2ac-411d-f9cc-47f55ad84849"
      },
      "execution_count": 82,
      "outputs": [
        {
          "output_type": "stream",
          "name": "stdout",
          "text": [
            "+---------+----------+--------+----+------+-------------+------------+-----------+-------------+----------+------------+---------------+---------+------------------+---------------+-------------+-------------+-----------------------+-------------+---------------------------+-------------------+\n",
            "|price_try|      make|  series|year|    km| transmission|        fuel|  body_type|     warranty|     from_| wheel_drive|cylinder_number|torque_nm|engine_capacity_cc|engine_power_hp|max_power_rpm|min_power_rpm|acceleration_0to100_sec|max_speed_kmh|average_fuel_consumption_lt|    painted_changed|\n",
            "+---------+----------+--------+----+------+-------------+------------+-----------+-------------+----------+------------+---------------+---------+------------------+---------------+-------------+-------------+-----------------------+-------------+---------------------------+-------------------+\n",
            "|   769950|       BMW|5 Series|2008|369000|     Otomatik|       Dizel|      Sedan|Garantisi Yok| Galeriden|Arkadan İtiş|              6|      200|              1995|            125|         2500|         1200|                   13.6|          175|                        5.5|     Tamamı orjinal|\n",
            "|   635000|      Ford|   Focus|2012|210000|          Düz|       Dizel|      Sedan|Garantisi Yok| Galeriden| Önden Çekiş|              4|      150|              1560|            100|         2500|         1200|                   15.2|          155|                        5.5|     Tamamı orjinal|\n",
            "|   475000|      Fiat|   Linea|2013|116749|          Düz|       Dizel|      Sedan|Garantisi Yok|Sahibinden| Önden Çekiş|              4|      120|              1248|             75|         2500|         1200|                   15.2|          155|                        5.5|           8 boyalı|\n",
            "|   359500|     Other|    NULL|2005|190000|          Düz|       Dizel|Hatchback/5|Garantisi Yok| Galeriden| Önden Çekiş|              4|      140|              1398|             95|         2500|         1200|                   15.2|          155|                        5.5|1 değişen, 7 boyalı|\n",
            "|   699500|   Renault| Fluence|2015|180000|Yarı Otomatik|       Dizel|      Sedan|Garantisi Yok| Galeriden| Önden Çekiş|              4|      140|              1461|            100|         2500|         1200|                   15.2|          155|                        5.5|     Tamamı orjinal|\n",
            "|   598750|     Other|    NULL|2017| 70000|          Düz|      Benzin|Hatchback/5|Garantisi Yok| Galeriden| Önden Çekiş|              4|      110|              1199|             83|         2500|         1200|                   15.2|          155|                        5.5|1 değişen, 2 boyalı|\n",
            "|  1090950|     Other|    NULL|2017|108000|Yarı Otomatik|       Dizel|Hatchback/5|Garantisi Yok| Galeriden| Önden Çekiş|              4|      150|              1598|            125|         2500|         1200|                   15.2|          155|                        5.5|     Tamamı orjinal|\n",
            "|   685000|Volkswagen|    NULL|2015|137000|Yarı Otomatik|       Dizel|Hatchback/5|Garantisi Yok| Galeriden| Önden Çekiş|              4|      140|              1422|            100|         2500|         1200|                   15.2|          155|                        5.5|3 değişen, 4 boyalı|\n",
            "|   670000|     Other|    NULL|2012|220000|Yarı Otomatik|       Dizel|      Sedan|Garantisi Yok| Galeriden| Önden Çekiş|              4|      130|              1364|             95|         2500|         1200|                   15.2|          155|                        5.5|1 değişen, 1 boyalı|\n",
            "|  1135000|      Opel|    NULL|2017|172000|     Otomatik|       Dizel|Hatchback/5|Garantisi Yok| Galeriden| Önden Çekiş|              4|      150|              1598|            125|         2500|         1200|                   15.2|          155|                        5.5|      Belirtilmemiş|\n",
            "|   659000|     Other|    NULL|2021| 35000|          Düz|       Dizel|      Sedan|Garantisi Yok| Galeriden| Önden Çekiş|              4|      140|              1499|            100|         2500|         1200|                   15.2|          155|                        5.5|3 değişen, 4 boyalı|\n",
            "|   579900|      Opel|    NULL|2009| 60000|          Düz|       Dizel|Hatchback/5|Garantisi Yok| Galeriden| Önden Çekiş|              4|      120|              1248|             75|         2500|         1200|                   15.2|          155|                        5.5|     Tamamı orjinal|\n",
            "|   679500|     Honda|   Civic|2009|178000|     Otomatik|LPG & Benzin|      Sedan|Garantisi Yok| Galeriden| Önden Çekiş|              4|      150|              1595|            125|         2500|         1200|                   15.2|          155|                        5.5|1 değişen, 3 boyalı|\n",
            "|  1250000|Volkswagen|    NULL|2015|128000|Yarı Otomatik|      Benzin|      Coupe|Garantisi Yok| Galeriden| Önden Çekiş|              4|      140|              1395|             95|         2500|         1200|                   15.2|          155|                        5.5|      Belirtilmemiş|\n",
            "|   465000|      Ford|    NULL|2005|120000|     Otomatik|LPG & Benzin|Hatchback/5|Garantisi Yok| Galeriden| Önden Çekiş|              4|      150|              1596|            125|         2500|         1200|                   15.2|          155|                        5.5|2 değişen, 8 boyalı|\n",
            "|   544500|      Ford|    NULL|2009|158000|     Otomatik|LPG & Benzin|Hatchback/5|Garantisi Yok| Galeriden| Önden Çekiş|              4|      140|              1388|             95|         2500|         1200|                   15.2|          155|                        5.5|2 değişen, 4 boyalı|\n",
            "|   370000|   Renault|  Megane|2008|420000|          Düz|       Dizel|      Sedan|Garantisi Yok| Galeriden| Önden Çekiş|              4|      140|              1461|            100|         2500|         1200|                   15.2|          155|                        5.5|           5 boyalı|\n",
            "|   615000|       BMW|    NULL|2010|186000|     Otomatik|      Benzin|Hatchback/5|Garantisi Var| Galeriden|Arkadan İtiş|              4|      150|              1596|            125|         2500|         1200|                   15.2|          155|                        5.5|3 değişen, 7 boyalı|\n",
            "|   515000|      Ford|    NULL|2010|183000|          Düz|       Dizel|Hatchback/5|Garantisi Yok| Galeriden| Önden Çekiş|              4|      140|              1398|             95|         2500|         1200|                   15.2|          155|                        5.5|1 değişen, 1 boyalı|\n",
            "|  1110000|     Other|    NULL|2016|100000|Yarı Otomatik|      Benzin|Hatchback/5|Garantisi Yok| Galeriden| Önden Çekiş|              4|      200|               999|            116|         2500|         1200|                   13.6|          175|                        5.5|     Tamamı orjinal|\n",
            "+---------+----------+--------+----+------+-------------+------------+-----------+-------------+----------+------------+---------------+---------+------------------+---------------+-------------+-------------+-----------------------+-------------+---------------------------+-------------------+\n",
            "only showing top 20 rows\n",
            "\n"
          ]
        }
      ]
    },
    {
      "cell_type": "code",
      "source": [
        "# dict\n",
        "transmission_dict = {\n",
        "    'Düz': 'Manual',\n",
        "    'Otomatik': 'Automatic',\n",
        "    'Yarı Otomatik': 'Semiautomatic'\n",
        "}\n",
        "\n",
        "# Update \"transmission\" column\n",
        "train = (\n",
        "    train\n",
        "    .withColumn(\"transmission\",\n",
        "                when(col(\"transmission\") == \"Düz\", \"Manual\")\n",
        "                .when(col(\"transmission\") == \"Otomatik\", \"Automatic\")\n",
        "                .when(col(\"transmission\") == \"Yarı Otomatik\", \"Semiautomatic\")\n",
        "                .otherwise(col(\"transmission\")))\n",
        ")\n",
        "\n",
        "# Result\n",
        "train.show()"
      ],
      "metadata": {
        "colab": {
          "base_uri": "https://localhost:8080/"
        },
        "id": "ICD3SrzEvbZZ",
        "outputId": "8183ed71-7a3b-40b1-a326-6cb05e427054"
      },
      "execution_count": 83,
      "outputs": [
        {
          "output_type": "stream",
          "name": "stdout",
          "text": [
            "+---------+----------+--------+----+------+-------------+------------+-----------+-------------+----------+------------+---------------+---------+------------------+---------------+-------------+-------------+-----------------------+-------------+---------------------------+-------------------+\n",
            "|price_try|      make|  series|year|    km| transmission|        fuel|  body_type|     warranty|     from_| wheel_drive|cylinder_number|torque_nm|engine_capacity_cc|engine_power_hp|max_power_rpm|min_power_rpm|acceleration_0to100_sec|max_speed_kmh|average_fuel_consumption_lt|    painted_changed|\n",
            "+---------+----------+--------+----+------+-------------+------------+-----------+-------------+----------+------------+---------------+---------+------------------+---------------+-------------+-------------+-----------------------+-------------+---------------------------+-------------------+\n",
            "|   769950|       BMW|5 Series|2008|369000|    Automatic|       Dizel|      Sedan|Garantisi Yok| Galeriden|Arkadan İtiş|              6|      200|              1995|            125|         2500|         1200|                   13.6|          175|                        5.5|     Tamamı orjinal|\n",
            "|   635000|      Ford|   Focus|2012|210000|       Manual|       Dizel|      Sedan|Garantisi Yok| Galeriden| Önden Çekiş|              4|      150|              1560|            100|         2500|         1200|                   15.2|          155|                        5.5|     Tamamı orjinal|\n",
            "|   475000|      Fiat|   Linea|2013|116749|       Manual|       Dizel|      Sedan|Garantisi Yok|Sahibinden| Önden Çekiş|              4|      120|              1248|             75|         2500|         1200|                   15.2|          155|                        5.5|           8 boyalı|\n",
            "|   359500|     Other|    NULL|2005|190000|       Manual|       Dizel|Hatchback/5|Garantisi Yok| Galeriden| Önden Çekiş|              4|      140|              1398|             95|         2500|         1200|                   15.2|          155|                        5.5|1 değişen, 7 boyalı|\n",
            "|   699500|   Renault| Fluence|2015|180000|Semiautomatic|       Dizel|      Sedan|Garantisi Yok| Galeriden| Önden Çekiş|              4|      140|              1461|            100|         2500|         1200|                   15.2|          155|                        5.5|     Tamamı orjinal|\n",
            "|   598750|     Other|    NULL|2017| 70000|       Manual|      Benzin|Hatchback/5|Garantisi Yok| Galeriden| Önden Çekiş|              4|      110|              1199|             83|         2500|         1200|                   15.2|          155|                        5.5|1 değişen, 2 boyalı|\n",
            "|  1090950|     Other|    NULL|2017|108000|Semiautomatic|       Dizel|Hatchback/5|Garantisi Yok| Galeriden| Önden Çekiş|              4|      150|              1598|            125|         2500|         1200|                   15.2|          155|                        5.5|     Tamamı orjinal|\n",
            "|   685000|Volkswagen|    NULL|2015|137000|Semiautomatic|       Dizel|Hatchback/5|Garantisi Yok| Galeriden| Önden Çekiş|              4|      140|              1422|            100|         2500|         1200|                   15.2|          155|                        5.5|3 değişen, 4 boyalı|\n",
            "|   670000|     Other|    NULL|2012|220000|Semiautomatic|       Dizel|      Sedan|Garantisi Yok| Galeriden| Önden Çekiş|              4|      130|              1364|             95|         2500|         1200|                   15.2|          155|                        5.5|1 değişen, 1 boyalı|\n",
            "|  1135000|      Opel|    NULL|2017|172000|    Automatic|       Dizel|Hatchback/5|Garantisi Yok| Galeriden| Önden Çekiş|              4|      150|              1598|            125|         2500|         1200|                   15.2|          155|                        5.5|      Belirtilmemiş|\n",
            "|   659000|     Other|    NULL|2021| 35000|       Manual|       Dizel|      Sedan|Garantisi Yok| Galeriden| Önden Çekiş|              4|      140|              1499|            100|         2500|         1200|                   15.2|          155|                        5.5|3 değişen, 4 boyalı|\n",
            "|   579900|      Opel|    NULL|2009| 60000|       Manual|       Dizel|Hatchback/5|Garantisi Yok| Galeriden| Önden Çekiş|              4|      120|              1248|             75|         2500|         1200|                   15.2|          155|                        5.5|     Tamamı orjinal|\n",
            "|   679500|     Honda|   Civic|2009|178000|    Automatic|LPG & Benzin|      Sedan|Garantisi Yok| Galeriden| Önden Çekiş|              4|      150|              1595|            125|         2500|         1200|                   15.2|          155|                        5.5|1 değişen, 3 boyalı|\n",
            "|  1250000|Volkswagen|    NULL|2015|128000|Semiautomatic|      Benzin|      Coupe|Garantisi Yok| Galeriden| Önden Çekiş|              4|      140|              1395|             95|         2500|         1200|                   15.2|          155|                        5.5|      Belirtilmemiş|\n",
            "|   465000|      Ford|    NULL|2005|120000|    Automatic|LPG & Benzin|Hatchback/5|Garantisi Yok| Galeriden| Önden Çekiş|              4|      150|              1596|            125|         2500|         1200|                   15.2|          155|                        5.5|2 değişen, 8 boyalı|\n",
            "|   544500|      Ford|    NULL|2009|158000|    Automatic|LPG & Benzin|Hatchback/5|Garantisi Yok| Galeriden| Önden Çekiş|              4|      140|              1388|             95|         2500|         1200|                   15.2|          155|                        5.5|2 değişen, 4 boyalı|\n",
            "|   370000|   Renault|  Megane|2008|420000|       Manual|       Dizel|      Sedan|Garantisi Yok| Galeriden| Önden Çekiş|              4|      140|              1461|            100|         2500|         1200|                   15.2|          155|                        5.5|           5 boyalı|\n",
            "|   615000|       BMW|    NULL|2010|186000|    Automatic|      Benzin|Hatchback/5|Garantisi Var| Galeriden|Arkadan İtiş|              4|      150|              1596|            125|         2500|         1200|                   15.2|          155|                        5.5|3 değişen, 7 boyalı|\n",
            "|   515000|      Ford|    NULL|2010|183000|       Manual|       Dizel|Hatchback/5|Garantisi Yok| Galeriden| Önden Çekiş|              4|      140|              1398|             95|         2500|         1200|                   15.2|          155|                        5.5|1 değişen, 1 boyalı|\n",
            "|  1110000|     Other|    NULL|2016|100000|Semiautomatic|      Benzin|Hatchback/5|Garantisi Yok| Galeriden| Önden Çekiş|              4|      200|               999|            116|         2500|         1200|                   13.6|          175|                        5.5|     Tamamı orjinal|\n",
            "+---------+----------+--------+----+------+-------------+------------+-----------+-------------+----------+------------+---------------+---------+------------------+---------------+-------------+-------------+-----------------------+-------------+---------------------------+-------------------+\n",
            "only showing top 20 rows\n",
            "\n"
          ]
        }
      ]
    },
    {
      "cell_type": "code",
      "source": [
        "# Dict\n",
        "fuel_dict = {\n",
        "    'Dizel': 'Diesel',\n",
        "    'LPG & Benzin': 'LPG & Gasoline',\n",
        "    'Benzin': 'Gasoline',\n",
        "    'Elektrik': 'Electric'\n",
        "}\n",
        "\n",
        "# Update \"fuel\" column\n",
        "train = (\n",
        "    train\n",
        "    .withColumn(\"fuel\",\n",
        "                when(col(\"fuel\") == \"Dizel\", \"Diesel\")\n",
        "                .when(col(\"fuel\") == \"LPG & Benzin\", \"LPG & Gasoline\")\n",
        "                .when(col(\"fuel\") == \"Benzin\", \"Gasoline\")\n",
        "                .when(col(\"fuel\") == \"Elektrik\", \"Electric\")\n",
        "                .otherwise(col(\"fuel\")))\n",
        ")\n",
        "\n",
        "# Result\n",
        "train.show()\n"
      ],
      "metadata": {
        "colab": {
          "base_uri": "https://localhost:8080/"
        },
        "id": "HWUldMEVvv2R",
        "outputId": "e5143d9e-c1ef-4fd2-8f8b-4a142a4884d1"
      },
      "execution_count": 84,
      "outputs": [
        {
          "output_type": "stream",
          "name": "stdout",
          "text": [
            "+---------+----------+--------+----+------+-------------+--------------+-----------+-------------+----------+------------+---------------+---------+------------------+---------------+-------------+-------------+-----------------------+-------------+---------------------------+-------------------+\n",
            "|price_try|      make|  series|year|    km| transmission|          fuel|  body_type|     warranty|     from_| wheel_drive|cylinder_number|torque_nm|engine_capacity_cc|engine_power_hp|max_power_rpm|min_power_rpm|acceleration_0to100_sec|max_speed_kmh|average_fuel_consumption_lt|    painted_changed|\n",
            "+---------+----------+--------+----+------+-------------+--------------+-----------+-------------+----------+------------+---------------+---------+------------------+---------------+-------------+-------------+-----------------------+-------------+---------------------------+-------------------+\n",
            "|   769950|       BMW|5 Series|2008|369000|    Automatic|        Diesel|      Sedan|Garantisi Yok| Galeriden|Arkadan İtiş|              6|      200|              1995|            125|         2500|         1200|                   13.6|          175|                        5.5|     Tamamı orjinal|\n",
            "|   635000|      Ford|   Focus|2012|210000|       Manual|        Diesel|      Sedan|Garantisi Yok| Galeriden| Önden Çekiş|              4|      150|              1560|            100|         2500|         1200|                   15.2|          155|                        5.5|     Tamamı orjinal|\n",
            "|   475000|      Fiat|   Linea|2013|116749|       Manual|        Diesel|      Sedan|Garantisi Yok|Sahibinden| Önden Çekiş|              4|      120|              1248|             75|         2500|         1200|                   15.2|          155|                        5.5|           8 boyalı|\n",
            "|   359500|     Other|    NULL|2005|190000|       Manual|        Diesel|Hatchback/5|Garantisi Yok| Galeriden| Önden Çekiş|              4|      140|              1398|             95|         2500|         1200|                   15.2|          155|                        5.5|1 değişen, 7 boyalı|\n",
            "|   699500|   Renault| Fluence|2015|180000|Semiautomatic|        Diesel|      Sedan|Garantisi Yok| Galeriden| Önden Çekiş|              4|      140|              1461|            100|         2500|         1200|                   15.2|          155|                        5.5|     Tamamı orjinal|\n",
            "|   598750|     Other|    NULL|2017| 70000|       Manual|      Gasoline|Hatchback/5|Garantisi Yok| Galeriden| Önden Çekiş|              4|      110|              1199|             83|         2500|         1200|                   15.2|          155|                        5.5|1 değişen, 2 boyalı|\n",
            "|  1090950|     Other|    NULL|2017|108000|Semiautomatic|        Diesel|Hatchback/5|Garantisi Yok| Galeriden| Önden Çekiş|              4|      150|              1598|            125|         2500|         1200|                   15.2|          155|                        5.5|     Tamamı orjinal|\n",
            "|   685000|Volkswagen|    NULL|2015|137000|Semiautomatic|        Diesel|Hatchback/5|Garantisi Yok| Galeriden| Önden Çekiş|              4|      140|              1422|            100|         2500|         1200|                   15.2|          155|                        5.5|3 değişen, 4 boyalı|\n",
            "|   670000|     Other|    NULL|2012|220000|Semiautomatic|        Diesel|      Sedan|Garantisi Yok| Galeriden| Önden Çekiş|              4|      130|              1364|             95|         2500|         1200|                   15.2|          155|                        5.5|1 değişen, 1 boyalı|\n",
            "|  1135000|      Opel|    NULL|2017|172000|    Automatic|        Diesel|Hatchback/5|Garantisi Yok| Galeriden| Önden Çekiş|              4|      150|              1598|            125|         2500|         1200|                   15.2|          155|                        5.5|      Belirtilmemiş|\n",
            "|   659000|     Other|    NULL|2021| 35000|       Manual|        Diesel|      Sedan|Garantisi Yok| Galeriden| Önden Çekiş|              4|      140|              1499|            100|         2500|         1200|                   15.2|          155|                        5.5|3 değişen, 4 boyalı|\n",
            "|   579900|      Opel|    NULL|2009| 60000|       Manual|        Diesel|Hatchback/5|Garantisi Yok| Galeriden| Önden Çekiş|              4|      120|              1248|             75|         2500|         1200|                   15.2|          155|                        5.5|     Tamamı orjinal|\n",
            "|   679500|     Honda|   Civic|2009|178000|    Automatic|LPG & Gasoline|      Sedan|Garantisi Yok| Galeriden| Önden Çekiş|              4|      150|              1595|            125|         2500|         1200|                   15.2|          155|                        5.5|1 değişen, 3 boyalı|\n",
            "|  1250000|Volkswagen|    NULL|2015|128000|Semiautomatic|      Gasoline|      Coupe|Garantisi Yok| Galeriden| Önden Çekiş|              4|      140|              1395|             95|         2500|         1200|                   15.2|          155|                        5.5|      Belirtilmemiş|\n",
            "|   465000|      Ford|    NULL|2005|120000|    Automatic|LPG & Gasoline|Hatchback/5|Garantisi Yok| Galeriden| Önden Çekiş|              4|      150|              1596|            125|         2500|         1200|                   15.2|          155|                        5.5|2 değişen, 8 boyalı|\n",
            "|   544500|      Ford|    NULL|2009|158000|    Automatic|LPG & Gasoline|Hatchback/5|Garantisi Yok| Galeriden| Önden Çekiş|              4|      140|              1388|             95|         2500|         1200|                   15.2|          155|                        5.5|2 değişen, 4 boyalı|\n",
            "|   370000|   Renault|  Megane|2008|420000|       Manual|        Diesel|      Sedan|Garantisi Yok| Galeriden| Önden Çekiş|              4|      140|              1461|            100|         2500|         1200|                   15.2|          155|                        5.5|           5 boyalı|\n",
            "|   615000|       BMW|    NULL|2010|186000|    Automatic|      Gasoline|Hatchback/5|Garantisi Var| Galeriden|Arkadan İtiş|              4|      150|              1596|            125|         2500|         1200|                   15.2|          155|                        5.5|3 değişen, 7 boyalı|\n",
            "|   515000|      Ford|    NULL|2010|183000|       Manual|        Diesel|Hatchback/5|Garantisi Yok| Galeriden| Önden Çekiş|              4|      140|              1398|             95|         2500|         1200|                   15.2|          155|                        5.5|1 değişen, 1 boyalı|\n",
            "|  1110000|     Other|    NULL|2016|100000|Semiautomatic|      Gasoline|Hatchback/5|Garantisi Yok| Galeriden| Önden Çekiş|              4|      200|               999|            116|         2500|         1200|                   13.6|          175|                        5.5|     Tamamı orjinal|\n",
            "+---------+----------+--------+----+------+-------------+--------------+-----------+-------------+----------+------------+---------------+---------+------------------+---------------+-------------+-------------+-----------------------+-------------+---------------------------+-------------------+\n",
            "only showing top 20 rows\n",
            "\n"
          ]
        }
      ]
    },
    {
      "cell_type": "code",
      "source": [
        "# Fill in the missing values ​​in the \"fuel\" column\n",
        "train = train.na.fill(\"Gasoline\", subset=[\"fuel\"])"
      ],
      "metadata": {
        "id": "ZrtG_pfdv828"
      },
      "execution_count": 85,
      "outputs": []
    },
    {
      "cell_type": "code",
      "source": [
        "# select \"body_type\" column and apply the conversion\n",
        "train = (\n",
        "    train\n",
        "    .select(\"*\",\n",
        "            when(col(\"body_type\") == \"Sedan\", \"Sedan\")\n",
        "            .when(col(\"body_type\") == \"Hatchback/5\", \"Hatchback\")\n",
        "            .when(col(\"body_type\") == \"Station wagon\", \"Other\")\n",
        "            .when(col(\"body_type\") == \"Hatchback/3\", \"Hatchback\")\n",
        "            .when(col(\"body_type\") == \"Coupe\", \"Other\")\n",
        "            .when(col(\"body_type\") == \"MPV\", \"Other\")\n",
        "            .when(col(\"body_type\") == \"Cabrio\", \"Other\")\n",
        "            .when(col(\"body_type\") == \"-\", \"Other\")\n",
        "            .otherwise(col(\"body_type\")).alias(\"body_type\")\n",
        "           )\n",
        ")"
      ],
      "metadata": {
        "id": "2DD3YCFjXCpM"
      },
      "execution_count": 89,
      "outputs": []
    },
    {
      "cell_type": "code",
      "source": [
        "# update \"warranty\" column\n",
        "train = (\n",
        "    train\n",
        "    .withColumn(\"warranty\",\n",
        "                when(col(\"warranty\") == \"Garantisi Yok\", \"Warrantless\")\n",
        "                .when(col(\"warranty\") == \"Garantisi Var\", \"Warranted\")\n",
        "                .when(col(\"warranty\") == \"-\", \"Warrantless\")\n",
        "                .otherwise(col(\"warranty\")))\n",
        ")\n",
        "\n",
        "# Result\n",
        "train.show()"
      ],
      "metadata": {
        "colab": {
          "base_uri": "https://localhost:8080/"
        },
        "id": "a0HyvQlzX865",
        "outputId": "27110036-f716-49df-de6f-31f689c52543"
      },
      "execution_count": 90,
      "outputs": [
        {
          "output_type": "stream",
          "name": "stdout",
          "text": [
            "+---------+----------+--------+----+------+-------------+--------------+-----------+-----------+----------+------------+---------------+---------+------------------+---------------+-------------+-------------+-----------------------+-------------+---------------------------+-------------------+---------+\n",
            "|price_try|      make|  series|year|    km| transmission|          fuel|  body_type|   warranty|     from_| wheel_drive|cylinder_number|torque_nm|engine_capacity_cc|engine_power_hp|max_power_rpm|min_power_rpm|acceleration_0to100_sec|max_speed_kmh|average_fuel_consumption_lt|    painted_changed|body_type|\n",
            "+---------+----------+--------+----+------+-------------+--------------+-----------+-----------+----------+------------+---------------+---------+------------------+---------------+-------------+-------------+-----------------------+-------------+---------------------------+-------------------+---------+\n",
            "|   769950|       BMW|5 Series|2008|369000|    Automatic|        Diesel|      Sedan|Warrantless| Galeriden|Arkadan İtiş|              6|      200|              1995|            125|         2500|         1200|                   13.6|          175|                        5.5|     Tamamı orjinal|    Sedan|\n",
            "|   635000|      Ford|   Focus|2012|210000|       Manual|        Diesel|      Sedan|Warrantless| Galeriden| Önden Çekiş|              4|      150|              1560|            100|         2500|         1200|                   15.2|          155|                        5.5|     Tamamı orjinal|    Sedan|\n",
            "|   475000|      Fiat|   Linea|2013|116749|       Manual|        Diesel|      Sedan|Warrantless|Sahibinden| Önden Çekiş|              4|      120|              1248|             75|         2500|         1200|                   15.2|          155|                        5.5|           8 boyalı|    Sedan|\n",
            "|   359500|     Other|    NULL|2005|190000|       Manual|        Diesel|Hatchback/5|Warrantless| Galeriden| Önden Çekiş|              4|      140|              1398|             95|         2500|         1200|                   15.2|          155|                        5.5|1 değişen, 7 boyalı|Hatchback|\n",
            "|   699500|   Renault| Fluence|2015|180000|Semiautomatic|        Diesel|      Sedan|Warrantless| Galeriden| Önden Çekiş|              4|      140|              1461|            100|         2500|         1200|                   15.2|          155|                        5.5|     Tamamı orjinal|    Sedan|\n",
            "|   598750|     Other|    NULL|2017| 70000|       Manual|      Gasoline|Hatchback/5|Warrantless| Galeriden| Önden Çekiş|              4|      110|              1199|             83|         2500|         1200|                   15.2|          155|                        5.5|1 değişen, 2 boyalı|Hatchback|\n",
            "|  1090950|     Other|    NULL|2017|108000|Semiautomatic|        Diesel|Hatchback/5|Warrantless| Galeriden| Önden Çekiş|              4|      150|              1598|            125|         2500|         1200|                   15.2|          155|                        5.5|     Tamamı orjinal|Hatchback|\n",
            "|   685000|Volkswagen|    NULL|2015|137000|Semiautomatic|        Diesel|Hatchback/5|Warrantless| Galeriden| Önden Çekiş|              4|      140|              1422|            100|         2500|         1200|                   15.2|          155|                        5.5|3 değişen, 4 boyalı|Hatchback|\n",
            "|   670000|     Other|    NULL|2012|220000|Semiautomatic|        Diesel|      Sedan|Warrantless| Galeriden| Önden Çekiş|              4|      130|              1364|             95|         2500|         1200|                   15.2|          155|                        5.5|1 değişen, 1 boyalı|    Sedan|\n",
            "|  1135000|      Opel|    NULL|2017|172000|    Automatic|        Diesel|Hatchback/5|Warrantless| Galeriden| Önden Çekiş|              4|      150|              1598|            125|         2500|         1200|                   15.2|          155|                        5.5|      Belirtilmemiş|Hatchback|\n",
            "|   659000|     Other|    NULL|2021| 35000|       Manual|        Diesel|      Sedan|Warrantless| Galeriden| Önden Çekiş|              4|      140|              1499|            100|         2500|         1200|                   15.2|          155|                        5.5|3 değişen, 4 boyalı|    Sedan|\n",
            "|   579900|      Opel|    NULL|2009| 60000|       Manual|        Diesel|Hatchback/5|Warrantless| Galeriden| Önden Çekiş|              4|      120|              1248|             75|         2500|         1200|                   15.2|          155|                        5.5|     Tamamı orjinal|Hatchback|\n",
            "|   679500|     Honda|   Civic|2009|178000|    Automatic|LPG & Gasoline|      Sedan|Warrantless| Galeriden| Önden Çekiş|              4|      150|              1595|            125|         2500|         1200|                   15.2|          155|                        5.5|1 değişen, 3 boyalı|    Sedan|\n",
            "|  1250000|Volkswagen|    NULL|2015|128000|Semiautomatic|      Gasoline|      Coupe|Warrantless| Galeriden| Önden Çekiş|              4|      140|              1395|             95|         2500|         1200|                   15.2|          155|                        5.5|      Belirtilmemiş|    Other|\n",
            "|   465000|      Ford|    NULL|2005|120000|    Automatic|LPG & Gasoline|Hatchback/5|Warrantless| Galeriden| Önden Çekiş|              4|      150|              1596|            125|         2500|         1200|                   15.2|          155|                        5.5|2 değişen, 8 boyalı|Hatchback|\n",
            "|   544500|      Ford|    NULL|2009|158000|    Automatic|LPG & Gasoline|Hatchback/5|Warrantless| Galeriden| Önden Çekiş|              4|      140|              1388|             95|         2500|         1200|                   15.2|          155|                        5.5|2 değişen, 4 boyalı|Hatchback|\n",
            "|   370000|   Renault|  Megane|2008|420000|       Manual|        Diesel|      Sedan|Warrantless| Galeriden| Önden Çekiş|              4|      140|              1461|            100|         2500|         1200|                   15.2|          155|                        5.5|           5 boyalı|    Sedan|\n",
            "|   615000|       BMW|    NULL|2010|186000|    Automatic|      Gasoline|Hatchback/5|  Warranted| Galeriden|Arkadan İtiş|              4|      150|              1596|            125|         2500|         1200|                   15.2|          155|                        5.5|3 değişen, 7 boyalı|Hatchback|\n",
            "|   515000|      Ford|    NULL|2010|183000|       Manual|        Diesel|Hatchback/5|Warrantless| Galeriden| Önden Çekiş|              4|      140|              1398|             95|         2500|         1200|                   15.2|          155|                        5.5|1 değişen, 1 boyalı|Hatchback|\n",
            "|  1110000|     Other|    NULL|2016|100000|Semiautomatic|      Gasoline|Hatchback/5|Warrantless| Galeriden| Önden Çekiş|              4|      200|               999|            116|         2500|         1200|                   13.6|          175|                        5.5|     Tamamı orjinal|Hatchback|\n",
            "+---------+----------+--------+----+------+-------------+--------------+-----------+-----------+----------+------------+---------------+---------+------------------+---------------+-------------+-------------+-----------------------+-------------+---------------------------+-------------------+---------+\n",
            "only showing top 20 rows\n",
            "\n"
          ]
        }
      ]
    },
    {
      "cell_type": "code",
      "source": [
        "# Fill in the missing values ​​in the \"warranty\" column\n",
        "train = train.na.fill(\"Warrantless\", subset=[\"warranty\"])\n",
        "\n",
        "# Result\n",
        "train.show()"
      ],
      "metadata": {
        "colab": {
          "base_uri": "https://localhost:8080/"
        },
        "id": "RfLclHFmYfuY",
        "outputId": "a3f830f7-d812-49dd-d308-f5bbfe0c5f8d"
      },
      "execution_count": 91,
      "outputs": [
        {
          "output_type": "stream",
          "name": "stdout",
          "text": [
            "+---------+----------+--------+----+------+-------------+--------------+-----------+-----------+----------+------------+---------------+---------+------------------+---------------+-------------+-------------+-----------------------+-------------+---------------------------+-------------------+---------+\n",
            "|price_try|      make|  series|year|    km| transmission|          fuel|  body_type|   warranty|     from_| wheel_drive|cylinder_number|torque_nm|engine_capacity_cc|engine_power_hp|max_power_rpm|min_power_rpm|acceleration_0to100_sec|max_speed_kmh|average_fuel_consumption_lt|    painted_changed|body_type|\n",
            "+---------+----------+--------+----+------+-------------+--------------+-----------+-----------+----------+------------+---------------+---------+------------------+---------------+-------------+-------------+-----------------------+-------------+---------------------------+-------------------+---------+\n",
            "|   769950|       BMW|5 Series|2008|369000|    Automatic|        Diesel|      Sedan|Warrantless| Galeriden|Arkadan İtiş|              6|      200|              1995|            125|         2500|         1200|                   13.6|          175|                        5.5|     Tamamı orjinal|    Sedan|\n",
            "|   635000|      Ford|   Focus|2012|210000|       Manual|        Diesel|      Sedan|Warrantless| Galeriden| Önden Çekiş|              4|      150|              1560|            100|         2500|         1200|                   15.2|          155|                        5.5|     Tamamı orjinal|    Sedan|\n",
            "|   475000|      Fiat|   Linea|2013|116749|       Manual|        Diesel|      Sedan|Warrantless|Sahibinden| Önden Çekiş|              4|      120|              1248|             75|         2500|         1200|                   15.2|          155|                        5.5|           8 boyalı|    Sedan|\n",
            "|   359500|     Other|    NULL|2005|190000|       Manual|        Diesel|Hatchback/5|Warrantless| Galeriden| Önden Çekiş|              4|      140|              1398|             95|         2500|         1200|                   15.2|          155|                        5.5|1 değişen, 7 boyalı|Hatchback|\n",
            "|   699500|   Renault| Fluence|2015|180000|Semiautomatic|        Diesel|      Sedan|Warrantless| Galeriden| Önden Çekiş|              4|      140|              1461|            100|         2500|         1200|                   15.2|          155|                        5.5|     Tamamı orjinal|    Sedan|\n",
            "|   598750|     Other|    NULL|2017| 70000|       Manual|      Gasoline|Hatchback/5|Warrantless| Galeriden| Önden Çekiş|              4|      110|              1199|             83|         2500|         1200|                   15.2|          155|                        5.5|1 değişen, 2 boyalı|Hatchback|\n",
            "|  1090950|     Other|    NULL|2017|108000|Semiautomatic|        Diesel|Hatchback/5|Warrantless| Galeriden| Önden Çekiş|              4|      150|              1598|            125|         2500|         1200|                   15.2|          155|                        5.5|     Tamamı orjinal|Hatchback|\n",
            "|   685000|Volkswagen|    NULL|2015|137000|Semiautomatic|        Diesel|Hatchback/5|Warrantless| Galeriden| Önden Çekiş|              4|      140|              1422|            100|         2500|         1200|                   15.2|          155|                        5.5|3 değişen, 4 boyalı|Hatchback|\n",
            "|   670000|     Other|    NULL|2012|220000|Semiautomatic|        Diesel|      Sedan|Warrantless| Galeriden| Önden Çekiş|              4|      130|              1364|             95|         2500|         1200|                   15.2|          155|                        5.5|1 değişen, 1 boyalı|    Sedan|\n",
            "|  1135000|      Opel|    NULL|2017|172000|    Automatic|        Diesel|Hatchback/5|Warrantless| Galeriden| Önden Çekiş|              4|      150|              1598|            125|         2500|         1200|                   15.2|          155|                        5.5|      Belirtilmemiş|Hatchback|\n",
            "|   659000|     Other|    NULL|2021| 35000|       Manual|        Diesel|      Sedan|Warrantless| Galeriden| Önden Çekiş|              4|      140|              1499|            100|         2500|         1200|                   15.2|          155|                        5.5|3 değişen, 4 boyalı|    Sedan|\n",
            "|   579900|      Opel|    NULL|2009| 60000|       Manual|        Diesel|Hatchback/5|Warrantless| Galeriden| Önden Çekiş|              4|      120|              1248|             75|         2500|         1200|                   15.2|          155|                        5.5|     Tamamı orjinal|Hatchback|\n",
            "|   679500|     Honda|   Civic|2009|178000|    Automatic|LPG & Gasoline|      Sedan|Warrantless| Galeriden| Önden Çekiş|              4|      150|              1595|            125|         2500|         1200|                   15.2|          155|                        5.5|1 değişen, 3 boyalı|    Sedan|\n",
            "|  1250000|Volkswagen|    NULL|2015|128000|Semiautomatic|      Gasoline|      Coupe|Warrantless| Galeriden| Önden Çekiş|              4|      140|              1395|             95|         2500|         1200|                   15.2|          155|                        5.5|      Belirtilmemiş|    Other|\n",
            "|   465000|      Ford|    NULL|2005|120000|    Automatic|LPG & Gasoline|Hatchback/5|Warrantless| Galeriden| Önden Çekiş|              4|      150|              1596|            125|         2500|         1200|                   15.2|          155|                        5.5|2 değişen, 8 boyalı|Hatchback|\n",
            "|   544500|      Ford|    NULL|2009|158000|    Automatic|LPG & Gasoline|Hatchback/5|Warrantless| Galeriden| Önden Çekiş|              4|      140|              1388|             95|         2500|         1200|                   15.2|          155|                        5.5|2 değişen, 4 boyalı|Hatchback|\n",
            "|   370000|   Renault|  Megane|2008|420000|       Manual|        Diesel|      Sedan|Warrantless| Galeriden| Önden Çekiş|              4|      140|              1461|            100|         2500|         1200|                   15.2|          155|                        5.5|           5 boyalı|    Sedan|\n",
            "|   615000|       BMW|    NULL|2010|186000|    Automatic|      Gasoline|Hatchback/5|  Warranted| Galeriden|Arkadan İtiş|              4|      150|              1596|            125|         2500|         1200|                   15.2|          155|                        5.5|3 değişen, 7 boyalı|Hatchback|\n",
            "|   515000|      Ford|    NULL|2010|183000|       Manual|        Diesel|Hatchback/5|Warrantless| Galeriden| Önden Çekiş|              4|      140|              1398|             95|         2500|         1200|                   15.2|          155|                        5.5|1 değişen, 1 boyalı|Hatchback|\n",
            "|  1110000|     Other|    NULL|2016|100000|Semiautomatic|      Gasoline|Hatchback/5|Warrantless| Galeriden| Önden Çekiş|              4|      200|               999|            116|         2500|         1200|                   13.6|          175|                        5.5|     Tamamı orjinal|Hatchback|\n",
            "+---------+----------+--------+----+------+-------------+--------------+-----------+-----------+----------+------------+---------------+---------+------------------+---------------+-------------+-------------+-----------------------+-------------+---------------------------+-------------------+---------+\n",
            "only showing top 20 rows\n",
            "\n"
          ]
        }
      ]
    },
    {
      "cell_type": "code",
      "source": [
        "# update \"from_\" column\n",
        "train = (\n",
        "    train\n",
        "    .withColumn(\"from_\",\n",
        "                when(col(\"from_\") == \"Galeriden\", \"Dealer\")\n",
        "                .when(col(\"from_\") == \"Sahibinden\", \"Owner\")\n",
        "                .when(col(\"from_\") == \"Yetkili Bayiden\", \"Authorized Dealer\")\n",
        "                .otherwise(col(\"from_\")))\n",
        ")\n",
        "\n",
        "# Result\n",
        "train.show()"
      ],
      "metadata": {
        "colab": {
          "base_uri": "https://localhost:8080/"
        },
        "id": "Lf640j6tZCZy",
        "outputId": "0aad9e4f-5845-43f2-fb2c-8d0c5bfa5710"
      },
      "execution_count": 92,
      "outputs": [
        {
          "output_type": "stream",
          "name": "stdout",
          "text": [
            "+---------+----------+--------+----+------+-------------+--------------+-----------+-----------+------+------------+---------------+---------+------------------+---------------+-------------+-------------+-----------------------+-------------+---------------------------+-------------------+---------+\n",
            "|price_try|      make|  series|year|    km| transmission|          fuel|  body_type|   warranty| from_| wheel_drive|cylinder_number|torque_nm|engine_capacity_cc|engine_power_hp|max_power_rpm|min_power_rpm|acceleration_0to100_sec|max_speed_kmh|average_fuel_consumption_lt|    painted_changed|body_type|\n",
            "+---------+----------+--------+----+------+-------------+--------------+-----------+-----------+------+------------+---------------+---------+------------------+---------------+-------------+-------------+-----------------------+-------------+---------------------------+-------------------+---------+\n",
            "|   769950|       BMW|5 Series|2008|369000|    Automatic|        Diesel|      Sedan|Warrantless|Dealer|Arkadan İtiş|              6|      200|              1995|            125|         2500|         1200|                   13.6|          175|                        5.5|     Tamamı orjinal|    Sedan|\n",
            "|   635000|      Ford|   Focus|2012|210000|       Manual|        Diesel|      Sedan|Warrantless|Dealer| Önden Çekiş|              4|      150|              1560|            100|         2500|         1200|                   15.2|          155|                        5.5|     Tamamı orjinal|    Sedan|\n",
            "|   475000|      Fiat|   Linea|2013|116749|       Manual|        Diesel|      Sedan|Warrantless| Owner| Önden Çekiş|              4|      120|              1248|             75|         2500|         1200|                   15.2|          155|                        5.5|           8 boyalı|    Sedan|\n",
            "|   359500|     Other|    NULL|2005|190000|       Manual|        Diesel|Hatchback/5|Warrantless|Dealer| Önden Çekiş|              4|      140|              1398|             95|         2500|         1200|                   15.2|          155|                        5.5|1 değişen, 7 boyalı|Hatchback|\n",
            "|   699500|   Renault| Fluence|2015|180000|Semiautomatic|        Diesel|      Sedan|Warrantless|Dealer| Önden Çekiş|              4|      140|              1461|            100|         2500|         1200|                   15.2|          155|                        5.5|     Tamamı orjinal|    Sedan|\n",
            "|   598750|     Other|    NULL|2017| 70000|       Manual|      Gasoline|Hatchback/5|Warrantless|Dealer| Önden Çekiş|              4|      110|              1199|             83|         2500|         1200|                   15.2|          155|                        5.5|1 değişen, 2 boyalı|Hatchback|\n",
            "|  1090950|     Other|    NULL|2017|108000|Semiautomatic|        Diesel|Hatchback/5|Warrantless|Dealer| Önden Çekiş|              4|      150|              1598|            125|         2500|         1200|                   15.2|          155|                        5.5|     Tamamı orjinal|Hatchback|\n",
            "|   685000|Volkswagen|    NULL|2015|137000|Semiautomatic|        Diesel|Hatchback/5|Warrantless|Dealer| Önden Çekiş|              4|      140|              1422|            100|         2500|         1200|                   15.2|          155|                        5.5|3 değişen, 4 boyalı|Hatchback|\n",
            "|   670000|     Other|    NULL|2012|220000|Semiautomatic|        Diesel|      Sedan|Warrantless|Dealer| Önden Çekiş|              4|      130|              1364|             95|         2500|         1200|                   15.2|          155|                        5.5|1 değişen, 1 boyalı|    Sedan|\n",
            "|  1135000|      Opel|    NULL|2017|172000|    Automatic|        Diesel|Hatchback/5|Warrantless|Dealer| Önden Çekiş|              4|      150|              1598|            125|         2500|         1200|                   15.2|          155|                        5.5|      Belirtilmemiş|Hatchback|\n",
            "|   659000|     Other|    NULL|2021| 35000|       Manual|        Diesel|      Sedan|Warrantless|Dealer| Önden Çekiş|              4|      140|              1499|            100|         2500|         1200|                   15.2|          155|                        5.5|3 değişen, 4 boyalı|    Sedan|\n",
            "|   579900|      Opel|    NULL|2009| 60000|       Manual|        Diesel|Hatchback/5|Warrantless|Dealer| Önden Çekiş|              4|      120|              1248|             75|         2500|         1200|                   15.2|          155|                        5.5|     Tamamı orjinal|Hatchback|\n",
            "|   679500|     Honda|   Civic|2009|178000|    Automatic|LPG & Gasoline|      Sedan|Warrantless|Dealer| Önden Çekiş|              4|      150|              1595|            125|         2500|         1200|                   15.2|          155|                        5.5|1 değişen, 3 boyalı|    Sedan|\n",
            "|  1250000|Volkswagen|    NULL|2015|128000|Semiautomatic|      Gasoline|      Coupe|Warrantless|Dealer| Önden Çekiş|              4|      140|              1395|             95|         2500|         1200|                   15.2|          155|                        5.5|      Belirtilmemiş|    Other|\n",
            "|   465000|      Ford|    NULL|2005|120000|    Automatic|LPG & Gasoline|Hatchback/5|Warrantless|Dealer| Önden Çekiş|              4|      150|              1596|            125|         2500|         1200|                   15.2|          155|                        5.5|2 değişen, 8 boyalı|Hatchback|\n",
            "|   544500|      Ford|    NULL|2009|158000|    Automatic|LPG & Gasoline|Hatchback/5|Warrantless|Dealer| Önden Çekiş|              4|      140|              1388|             95|         2500|         1200|                   15.2|          155|                        5.5|2 değişen, 4 boyalı|Hatchback|\n",
            "|   370000|   Renault|  Megane|2008|420000|       Manual|        Diesel|      Sedan|Warrantless|Dealer| Önden Çekiş|              4|      140|              1461|            100|         2500|         1200|                   15.2|          155|                        5.5|           5 boyalı|    Sedan|\n",
            "|   615000|       BMW|    NULL|2010|186000|    Automatic|      Gasoline|Hatchback/5|  Warranted|Dealer|Arkadan İtiş|              4|      150|              1596|            125|         2500|         1200|                   15.2|          155|                        5.5|3 değişen, 7 boyalı|Hatchback|\n",
            "|   515000|      Ford|    NULL|2010|183000|       Manual|        Diesel|Hatchback/5|Warrantless|Dealer| Önden Çekiş|              4|      140|              1398|             95|         2500|         1200|                   15.2|          155|                        5.5|1 değişen, 1 boyalı|Hatchback|\n",
            "|  1110000|     Other|    NULL|2016|100000|Semiautomatic|      Gasoline|Hatchback/5|Warrantless|Dealer| Önden Çekiş|              4|      200|               999|            116|         2500|         1200|                   13.6|          175|                        5.5|     Tamamı orjinal|Hatchback|\n",
            "+---------+----------+--------+----+------+-------------+--------------+-----------+-----------+------+------------+---------------+---------+------------------+---------------+-------------+-------------+-----------------------+-------------+---------------------------+-------------------+---------+\n",
            "only showing top 20 rows\n",
            "\n"
          ]
        }
      ]
    },
    {
      "cell_type": "code",
      "source": [
        "# update \"wheel_drive\" column\n",
        "train = (\n",
        "    train\n",
        "    .withColumn(\"wheel_drive\",\n",
        "                when(col(\"wheel_drive\") == \"Önden Çekiş\", \"Front-Wheel Drive\")\n",
        "                .when(col(\"wheel_drive\") == \"Arkadan İtiş\", \"Rear-Wheel Drive\")\n",
        "                .when(col(\"wheel_drive\") == \"4WD (Sürekli)\", \"4WD (Continuous)\")\n",
        "                .when(col(\"wheel_drive\") == \"-\", \"Front-Wheel Drive\")\n",
        "                .otherwise(col(\"wheel_drive\")))\n",
        ")\n",
        "\n",
        "# Result\n",
        "train.show()"
      ],
      "metadata": {
        "colab": {
          "base_uri": "https://localhost:8080/"
        },
        "id": "hoqYrCwUZCMq",
        "outputId": "b6a6cff0-ce22-44fd-d295-526dba4cc669"
      },
      "execution_count": 93,
      "outputs": [
        {
          "output_type": "stream",
          "name": "stdout",
          "text": [
            "+---------+----------+--------+----+------+-------------+--------------+-----------+-----------+------+-----------------+---------------+---------+------------------+---------------+-------------+-------------+-----------------------+-------------+---------------------------+-------------------+---------+\n",
            "|price_try|      make|  series|year|    km| transmission|          fuel|  body_type|   warranty| from_|      wheel_drive|cylinder_number|torque_nm|engine_capacity_cc|engine_power_hp|max_power_rpm|min_power_rpm|acceleration_0to100_sec|max_speed_kmh|average_fuel_consumption_lt|    painted_changed|body_type|\n",
            "+---------+----------+--------+----+------+-------------+--------------+-----------+-----------+------+-----------------+---------------+---------+------------------+---------------+-------------+-------------+-----------------------+-------------+---------------------------+-------------------+---------+\n",
            "|   769950|       BMW|5 Series|2008|369000|    Automatic|        Diesel|      Sedan|Warrantless|Dealer| Rear-Wheel Drive|              6|      200|              1995|            125|         2500|         1200|                   13.6|          175|                        5.5|     Tamamı orjinal|    Sedan|\n",
            "|   635000|      Ford|   Focus|2012|210000|       Manual|        Diesel|      Sedan|Warrantless|Dealer|Front-Wheel Drive|              4|      150|              1560|            100|         2500|         1200|                   15.2|          155|                        5.5|     Tamamı orjinal|    Sedan|\n",
            "|   475000|      Fiat|   Linea|2013|116749|       Manual|        Diesel|      Sedan|Warrantless| Owner|Front-Wheel Drive|              4|      120|              1248|             75|         2500|         1200|                   15.2|          155|                        5.5|           8 boyalı|    Sedan|\n",
            "|   359500|     Other|    NULL|2005|190000|       Manual|        Diesel|Hatchback/5|Warrantless|Dealer|Front-Wheel Drive|              4|      140|              1398|             95|         2500|         1200|                   15.2|          155|                        5.5|1 değişen, 7 boyalı|Hatchback|\n",
            "|   699500|   Renault| Fluence|2015|180000|Semiautomatic|        Diesel|      Sedan|Warrantless|Dealer|Front-Wheel Drive|              4|      140|              1461|            100|         2500|         1200|                   15.2|          155|                        5.5|     Tamamı orjinal|    Sedan|\n",
            "|   598750|     Other|    NULL|2017| 70000|       Manual|      Gasoline|Hatchback/5|Warrantless|Dealer|Front-Wheel Drive|              4|      110|              1199|             83|         2500|         1200|                   15.2|          155|                        5.5|1 değişen, 2 boyalı|Hatchback|\n",
            "|  1090950|     Other|    NULL|2017|108000|Semiautomatic|        Diesel|Hatchback/5|Warrantless|Dealer|Front-Wheel Drive|              4|      150|              1598|            125|         2500|         1200|                   15.2|          155|                        5.5|     Tamamı orjinal|Hatchback|\n",
            "|   685000|Volkswagen|    NULL|2015|137000|Semiautomatic|        Diesel|Hatchback/5|Warrantless|Dealer|Front-Wheel Drive|              4|      140|              1422|            100|         2500|         1200|                   15.2|          155|                        5.5|3 değişen, 4 boyalı|Hatchback|\n",
            "|   670000|     Other|    NULL|2012|220000|Semiautomatic|        Diesel|      Sedan|Warrantless|Dealer|Front-Wheel Drive|              4|      130|              1364|             95|         2500|         1200|                   15.2|          155|                        5.5|1 değişen, 1 boyalı|    Sedan|\n",
            "|  1135000|      Opel|    NULL|2017|172000|    Automatic|        Diesel|Hatchback/5|Warrantless|Dealer|Front-Wheel Drive|              4|      150|              1598|            125|         2500|         1200|                   15.2|          155|                        5.5|      Belirtilmemiş|Hatchback|\n",
            "|   659000|     Other|    NULL|2021| 35000|       Manual|        Diesel|      Sedan|Warrantless|Dealer|Front-Wheel Drive|              4|      140|              1499|            100|         2500|         1200|                   15.2|          155|                        5.5|3 değişen, 4 boyalı|    Sedan|\n",
            "|   579900|      Opel|    NULL|2009| 60000|       Manual|        Diesel|Hatchback/5|Warrantless|Dealer|Front-Wheel Drive|              4|      120|              1248|             75|         2500|         1200|                   15.2|          155|                        5.5|     Tamamı orjinal|Hatchback|\n",
            "|   679500|     Honda|   Civic|2009|178000|    Automatic|LPG & Gasoline|      Sedan|Warrantless|Dealer|Front-Wheel Drive|              4|      150|              1595|            125|         2500|         1200|                   15.2|          155|                        5.5|1 değişen, 3 boyalı|    Sedan|\n",
            "|  1250000|Volkswagen|    NULL|2015|128000|Semiautomatic|      Gasoline|      Coupe|Warrantless|Dealer|Front-Wheel Drive|              4|      140|              1395|             95|         2500|         1200|                   15.2|          155|                        5.5|      Belirtilmemiş|    Other|\n",
            "|   465000|      Ford|    NULL|2005|120000|    Automatic|LPG & Gasoline|Hatchback/5|Warrantless|Dealer|Front-Wheel Drive|              4|      150|              1596|            125|         2500|         1200|                   15.2|          155|                        5.5|2 değişen, 8 boyalı|Hatchback|\n",
            "|   544500|      Ford|    NULL|2009|158000|    Automatic|LPG & Gasoline|Hatchback/5|Warrantless|Dealer|Front-Wheel Drive|              4|      140|              1388|             95|         2500|         1200|                   15.2|          155|                        5.5|2 değişen, 4 boyalı|Hatchback|\n",
            "|   370000|   Renault|  Megane|2008|420000|       Manual|        Diesel|      Sedan|Warrantless|Dealer|Front-Wheel Drive|              4|      140|              1461|            100|         2500|         1200|                   15.2|          155|                        5.5|           5 boyalı|    Sedan|\n",
            "|   615000|       BMW|    NULL|2010|186000|    Automatic|      Gasoline|Hatchback/5|  Warranted|Dealer| Rear-Wheel Drive|              4|      150|              1596|            125|         2500|         1200|                   15.2|          155|                        5.5|3 değişen, 7 boyalı|Hatchback|\n",
            "|   515000|      Ford|    NULL|2010|183000|       Manual|        Diesel|Hatchback/5|Warrantless|Dealer|Front-Wheel Drive|              4|      140|              1398|             95|         2500|         1200|                   15.2|          155|                        5.5|1 değişen, 1 boyalı|Hatchback|\n",
            "|  1110000|     Other|    NULL|2016|100000|Semiautomatic|      Gasoline|Hatchback/5|Warrantless|Dealer|Front-Wheel Drive|              4|      200|               999|            116|         2500|         1200|                   13.6|          175|                        5.5|     Tamamı orjinal|Hatchback|\n",
            "+---------+----------+--------+----+------+-------------+--------------+-----------+-----------+------+-----------------+---------------+---------+------------------+---------------+-------------+-------------+-----------------------+-------------+---------------------------+-------------------+---------+\n",
            "only showing top 20 rows\n",
            "\n"
          ]
        }
      ]
    },
    {
      "cell_type": "code",
      "source": [
        "# Fill in the missing values ​​in the \"wheel_drive\" column\n",
        "train = train.na.fill(\"Front-Wheel Drive\", subset=[\"wheel_drive\"])\n",
        "\n",
        "# Result\n",
        "train.show()"
      ],
      "metadata": {
        "colab": {
          "base_uri": "https://localhost:8080/"
        },
        "id": "sQdvubjtZmV0",
        "outputId": "b0675dee-9067-456c-9e65-fa43ef4a4da1"
      },
      "execution_count": 94,
      "outputs": [
        {
          "output_type": "stream",
          "name": "stdout",
          "text": [
            "+---------+----------+--------+----+------+-------------+--------------+-----------+-----------+------+-----------------+---------------+---------+------------------+---------------+-------------+-------------+-----------------------+-------------+---------------------------+-------------------+---------+\n",
            "|price_try|      make|  series|year|    km| transmission|          fuel|  body_type|   warranty| from_|      wheel_drive|cylinder_number|torque_nm|engine_capacity_cc|engine_power_hp|max_power_rpm|min_power_rpm|acceleration_0to100_sec|max_speed_kmh|average_fuel_consumption_lt|    painted_changed|body_type|\n",
            "+---------+----------+--------+----+------+-------------+--------------+-----------+-----------+------+-----------------+---------------+---------+------------------+---------------+-------------+-------------+-----------------------+-------------+---------------------------+-------------------+---------+\n",
            "|   769950|       BMW|5 Series|2008|369000|    Automatic|        Diesel|      Sedan|Warrantless|Dealer| Rear-Wheel Drive|              6|      200|              1995|            125|         2500|         1200|                   13.6|          175|                        5.5|     Tamamı orjinal|    Sedan|\n",
            "|   635000|      Ford|   Focus|2012|210000|       Manual|        Diesel|      Sedan|Warrantless|Dealer|Front-Wheel Drive|              4|      150|              1560|            100|         2500|         1200|                   15.2|          155|                        5.5|     Tamamı orjinal|    Sedan|\n",
            "|   475000|      Fiat|   Linea|2013|116749|       Manual|        Diesel|      Sedan|Warrantless| Owner|Front-Wheel Drive|              4|      120|              1248|             75|         2500|         1200|                   15.2|          155|                        5.5|           8 boyalı|    Sedan|\n",
            "|   359500|     Other|    NULL|2005|190000|       Manual|        Diesel|Hatchback/5|Warrantless|Dealer|Front-Wheel Drive|              4|      140|              1398|             95|         2500|         1200|                   15.2|          155|                        5.5|1 değişen, 7 boyalı|Hatchback|\n",
            "|   699500|   Renault| Fluence|2015|180000|Semiautomatic|        Diesel|      Sedan|Warrantless|Dealer|Front-Wheel Drive|              4|      140|              1461|            100|         2500|         1200|                   15.2|          155|                        5.5|     Tamamı orjinal|    Sedan|\n",
            "|   598750|     Other|    NULL|2017| 70000|       Manual|      Gasoline|Hatchback/5|Warrantless|Dealer|Front-Wheel Drive|              4|      110|              1199|             83|         2500|         1200|                   15.2|          155|                        5.5|1 değişen, 2 boyalı|Hatchback|\n",
            "|  1090950|     Other|    NULL|2017|108000|Semiautomatic|        Diesel|Hatchback/5|Warrantless|Dealer|Front-Wheel Drive|              4|      150|              1598|            125|         2500|         1200|                   15.2|          155|                        5.5|     Tamamı orjinal|Hatchback|\n",
            "|   685000|Volkswagen|    NULL|2015|137000|Semiautomatic|        Diesel|Hatchback/5|Warrantless|Dealer|Front-Wheel Drive|              4|      140|              1422|            100|         2500|         1200|                   15.2|          155|                        5.5|3 değişen, 4 boyalı|Hatchback|\n",
            "|   670000|     Other|    NULL|2012|220000|Semiautomatic|        Diesel|      Sedan|Warrantless|Dealer|Front-Wheel Drive|              4|      130|              1364|             95|         2500|         1200|                   15.2|          155|                        5.5|1 değişen, 1 boyalı|    Sedan|\n",
            "|  1135000|      Opel|    NULL|2017|172000|    Automatic|        Diesel|Hatchback/5|Warrantless|Dealer|Front-Wheel Drive|              4|      150|              1598|            125|         2500|         1200|                   15.2|          155|                        5.5|      Belirtilmemiş|Hatchback|\n",
            "|   659000|     Other|    NULL|2021| 35000|       Manual|        Diesel|      Sedan|Warrantless|Dealer|Front-Wheel Drive|              4|      140|              1499|            100|         2500|         1200|                   15.2|          155|                        5.5|3 değişen, 4 boyalı|    Sedan|\n",
            "|   579900|      Opel|    NULL|2009| 60000|       Manual|        Diesel|Hatchback/5|Warrantless|Dealer|Front-Wheel Drive|              4|      120|              1248|             75|         2500|         1200|                   15.2|          155|                        5.5|     Tamamı orjinal|Hatchback|\n",
            "|   679500|     Honda|   Civic|2009|178000|    Automatic|LPG & Gasoline|      Sedan|Warrantless|Dealer|Front-Wheel Drive|              4|      150|              1595|            125|         2500|         1200|                   15.2|          155|                        5.5|1 değişen, 3 boyalı|    Sedan|\n",
            "|  1250000|Volkswagen|    NULL|2015|128000|Semiautomatic|      Gasoline|      Coupe|Warrantless|Dealer|Front-Wheel Drive|              4|      140|              1395|             95|         2500|         1200|                   15.2|          155|                        5.5|      Belirtilmemiş|    Other|\n",
            "|   465000|      Ford|    NULL|2005|120000|    Automatic|LPG & Gasoline|Hatchback/5|Warrantless|Dealer|Front-Wheel Drive|              4|      150|              1596|            125|         2500|         1200|                   15.2|          155|                        5.5|2 değişen, 8 boyalı|Hatchback|\n",
            "|   544500|      Ford|    NULL|2009|158000|    Automatic|LPG & Gasoline|Hatchback/5|Warrantless|Dealer|Front-Wheel Drive|              4|      140|              1388|             95|         2500|         1200|                   15.2|          155|                        5.5|2 değişen, 4 boyalı|Hatchback|\n",
            "|   370000|   Renault|  Megane|2008|420000|       Manual|        Diesel|      Sedan|Warrantless|Dealer|Front-Wheel Drive|              4|      140|              1461|            100|         2500|         1200|                   15.2|          155|                        5.5|           5 boyalı|    Sedan|\n",
            "|   615000|       BMW|    NULL|2010|186000|    Automatic|      Gasoline|Hatchback/5|  Warranted|Dealer| Rear-Wheel Drive|              4|      150|              1596|            125|         2500|         1200|                   15.2|          155|                        5.5|3 değişen, 7 boyalı|Hatchback|\n",
            "|   515000|      Ford|    NULL|2010|183000|       Manual|        Diesel|Hatchback/5|Warrantless|Dealer|Front-Wheel Drive|              4|      140|              1398|             95|         2500|         1200|                   15.2|          155|                        5.5|1 değişen, 1 boyalı|Hatchback|\n",
            "|  1110000|     Other|    NULL|2016|100000|Semiautomatic|      Gasoline|Hatchback/5|Warrantless|Dealer|Front-Wheel Drive|              4|      200|               999|            116|         2500|         1200|                   13.6|          175|                        5.5|     Tamamı orjinal|Hatchback|\n",
            "+---------+----------+--------+----+------+-------------+--------------+-----------+-----------+------+-----------------+---------------+---------+------------------+---------------+-------------+-------------+-----------------------+-------------+---------------------------+-------------------+---------+\n",
            "only showing top 20 rows\n",
            "\n"
          ]
        }
      ]
    },
    {
      "cell_type": "code",
      "source": [
        "# count values of \"painted_changed\" column\n",
        "pc_counts = train.groupBy(\"painted_changed\").count()\n",
        "\n",
        "# Threshold value for conversion\n",
        "threshold = 56\n",
        "\n",
        "# update \"painted_changed\" column\n",
        "train = (\n",
        "    train\n",
        "    .join(pc_counts, \"painted_changed\", \"left_outer\")\n",
        "    .withColumn(\"painted_changed\",\n",
        "                when(col(\"count\") <= threshold, \"Painted or Changed\")\n",
        "                .otherwise(col(\"painted_changed\")))\n",
        "    .drop(\"count\")\n",
        ")\n",
        "\n",
        "# Result\n",
        "train.show()"
      ],
      "metadata": {
        "colab": {
          "base_uri": "https://localhost:8080/"
        },
        "id": "4hSSKyyaZmSh",
        "outputId": "713d15e1-30d6-42ef-cbc2-a6b5c538827b"
      },
      "execution_count": 95,
      "outputs": [
        {
          "output_type": "stream",
          "name": "stdout",
          "text": [
            "+------------------+---------+----------+--------+----+------+-------------+--------------+-----------+-----------+------+-----------------+---------------+---------+------------------+---------------+-------------+-------------+-----------------------+-------------+---------------------------+---------+\n",
            "|   painted_changed|price_try|      make|  series|year|    km| transmission|          fuel|  body_type|   warranty| from_|      wheel_drive|cylinder_number|torque_nm|engine_capacity_cc|engine_power_hp|max_power_rpm|min_power_rpm|acceleration_0to100_sec|max_speed_kmh|average_fuel_consumption_lt|body_type|\n",
            "+------------------+---------+----------+--------+----+------+-------------+--------------+-----------+-----------+------+-----------------+---------------+---------+------------------+---------------+-------------+-------------+-----------------------+-------------+---------------------------+---------+\n",
            "|    Tamamı orjinal|   769950|       BMW|5 Series|2008|369000|    Automatic|        Diesel|      Sedan|Warrantless|Dealer| Rear-Wheel Drive|              6|      200|              1995|            125|         2500|         1200|                   13.6|          175|                        5.5|    Sedan|\n",
            "|    Tamamı orjinal|   635000|      Ford|   Focus|2012|210000|       Manual|        Diesel|      Sedan|Warrantless|Dealer|Front-Wheel Drive|              4|      150|              1560|            100|         2500|         1200|                   15.2|          155|                        5.5|    Sedan|\n",
            "|Painted or Changed|   475000|      Fiat|   Linea|2013|116749|       Manual|        Diesel|      Sedan|Warrantless| Owner|Front-Wheel Drive|              4|      120|              1248|             75|         2500|         1200|                   15.2|          155|                        5.5|    Sedan|\n",
            "|Painted or Changed|   359500|     Other|    NULL|2005|190000|       Manual|        Diesel|Hatchback/5|Warrantless|Dealer|Front-Wheel Drive|              4|      140|              1398|             95|         2500|         1200|                   15.2|          155|                        5.5|Hatchback|\n",
            "|    Tamamı orjinal|   699500|   Renault| Fluence|2015|180000|Semiautomatic|        Diesel|      Sedan|Warrantless|Dealer|Front-Wheel Drive|              4|      140|              1461|            100|         2500|         1200|                   15.2|          155|                        5.5|    Sedan|\n",
            "|Painted or Changed|   598750|     Other|    NULL|2017| 70000|       Manual|      Gasoline|Hatchback/5|Warrantless|Dealer|Front-Wheel Drive|              4|      110|              1199|             83|         2500|         1200|                   15.2|          155|                        5.5|Hatchback|\n",
            "|    Tamamı orjinal|  1090950|     Other|    NULL|2017|108000|Semiautomatic|        Diesel|Hatchback/5|Warrantless|Dealer|Front-Wheel Drive|              4|      150|              1598|            125|         2500|         1200|                   15.2|          155|                        5.5|Hatchback|\n",
            "|Painted or Changed|   685000|Volkswagen|    NULL|2015|137000|Semiautomatic|        Diesel|Hatchback/5|Warrantless|Dealer|Front-Wheel Drive|              4|      140|              1422|            100|         2500|         1200|                   15.2|          155|                        5.5|Hatchback|\n",
            "|Painted or Changed|   670000|     Other|    NULL|2012|220000|Semiautomatic|        Diesel|      Sedan|Warrantless|Dealer|Front-Wheel Drive|              4|      130|              1364|             95|         2500|         1200|                   15.2|          155|                        5.5|    Sedan|\n",
            "|     Belirtilmemiş|  1135000|      Opel|    NULL|2017|172000|    Automatic|        Diesel|Hatchback/5|Warrantless|Dealer|Front-Wheel Drive|              4|      150|              1598|            125|         2500|         1200|                   15.2|          155|                        5.5|Hatchback|\n",
            "|Painted or Changed|   659000|     Other|    NULL|2021| 35000|       Manual|        Diesel|      Sedan|Warrantless|Dealer|Front-Wheel Drive|              4|      140|              1499|            100|         2500|         1200|                   15.2|          155|                        5.5|    Sedan|\n",
            "|    Tamamı orjinal|   579900|      Opel|    NULL|2009| 60000|       Manual|        Diesel|Hatchback/5|Warrantless|Dealer|Front-Wheel Drive|              4|      120|              1248|             75|         2500|         1200|                   15.2|          155|                        5.5|Hatchback|\n",
            "|Painted or Changed|   679500|     Honda|   Civic|2009|178000|    Automatic|LPG & Gasoline|      Sedan|Warrantless|Dealer|Front-Wheel Drive|              4|      150|              1595|            125|         2500|         1200|                   15.2|          155|                        5.5|    Sedan|\n",
            "|     Belirtilmemiş|  1250000|Volkswagen|    NULL|2015|128000|Semiautomatic|      Gasoline|      Coupe|Warrantless|Dealer|Front-Wheel Drive|              4|      140|              1395|             95|         2500|         1200|                   15.2|          155|                        5.5|    Other|\n",
            "|Painted or Changed|   465000|      Ford|    NULL|2005|120000|    Automatic|LPG & Gasoline|Hatchback/5|Warrantless|Dealer|Front-Wheel Drive|              4|      150|              1596|            125|         2500|         1200|                   15.2|          155|                        5.5|Hatchback|\n",
            "|Painted or Changed|   544500|      Ford|    NULL|2009|158000|    Automatic|LPG & Gasoline|Hatchback/5|Warrantless|Dealer|Front-Wheel Drive|              4|      140|              1388|             95|         2500|         1200|                   15.2|          155|                        5.5|Hatchback|\n",
            "|Painted or Changed|   370000|   Renault|  Megane|2008|420000|       Manual|        Diesel|      Sedan|Warrantless|Dealer|Front-Wheel Drive|              4|      140|              1461|            100|         2500|         1200|                   15.2|          155|                        5.5|    Sedan|\n",
            "|Painted or Changed|   615000|       BMW|    NULL|2010|186000|    Automatic|      Gasoline|Hatchback/5|  Warranted|Dealer| Rear-Wheel Drive|              4|      150|              1596|            125|         2500|         1200|                   15.2|          155|                        5.5|Hatchback|\n",
            "|Painted or Changed|   515000|      Ford|    NULL|2010|183000|       Manual|        Diesel|Hatchback/5|Warrantless|Dealer|Front-Wheel Drive|              4|      140|              1398|             95|         2500|         1200|                   15.2|          155|                        5.5|Hatchback|\n",
            "|    Tamamı orjinal|  1110000|     Other|    NULL|2016|100000|Semiautomatic|      Gasoline|Hatchback/5|Warrantless|Dealer|Front-Wheel Drive|              4|      200|               999|            116|         2500|         1200|                   13.6|          175|                        5.5|Hatchback|\n",
            "+------------------+---------+----------+--------+----+------+-------------+--------------+-----------+-----------+------+-----------------+---------------+---------+------------------+---------------+-------------+-------------+-----------------------+-------------+---------------------------+---------+\n",
            "only showing top 20 rows\n",
            "\n"
          ]
        }
      ]
    },
    {
      "cell_type": "code",
      "source": [
        "# update \"painted_changed\" column\n",
        "train = (\n",
        "    train\n",
        "    .withColumn(\"painted_changed\",\n",
        "                when(col(\"painted_changed\") == \"Painted or Changed\", \"Painted or Changed\")\n",
        "                .when(col(\"painted_changed\") == \"Belirtilmemiş\", \"Original\")\n",
        "                .when(col(\"painted_changed\") == \"Tamamı orjinal\", \"Original\")\n",
        "                .otherwise(col(\"painted_changed\")))\n",
        ")\n",
        "\n",
        "# Result\n",
        "train.show()"
      ],
      "metadata": {
        "colab": {
          "base_uri": "https://localhost:8080/"
        },
        "id": "z-L8nr1JZmRC",
        "outputId": "d3d5657f-289b-4503-9460-fae2138cde3a"
      },
      "execution_count": 96,
      "outputs": [
        {
          "output_type": "stream",
          "name": "stdout",
          "text": [
            "+------------------+---------+----------+--------+----+------+-------------+--------------+-----------+-----------+------+-----------------+---------------+---------+------------------+---------------+-------------+-------------+-----------------------+-------------+---------------------------+---------+\n",
            "|   painted_changed|price_try|      make|  series|year|    km| transmission|          fuel|  body_type|   warranty| from_|      wheel_drive|cylinder_number|torque_nm|engine_capacity_cc|engine_power_hp|max_power_rpm|min_power_rpm|acceleration_0to100_sec|max_speed_kmh|average_fuel_consumption_lt|body_type|\n",
            "+------------------+---------+----------+--------+----+------+-------------+--------------+-----------+-----------+------+-----------------+---------------+---------+------------------+---------------+-------------+-------------+-----------------------+-------------+---------------------------+---------+\n",
            "|          Original|   769950|       BMW|5 Series|2008|369000|    Automatic|        Diesel|      Sedan|Warrantless|Dealer| Rear-Wheel Drive|              6|      200|              1995|            125|         2500|         1200|                   13.6|          175|                        5.5|    Sedan|\n",
            "|          Original|   635000|      Ford|   Focus|2012|210000|       Manual|        Diesel|      Sedan|Warrantless|Dealer|Front-Wheel Drive|              4|      150|              1560|            100|         2500|         1200|                   15.2|          155|                        5.5|    Sedan|\n",
            "|Painted or Changed|   475000|      Fiat|   Linea|2013|116749|       Manual|        Diesel|      Sedan|Warrantless| Owner|Front-Wheel Drive|              4|      120|              1248|             75|         2500|         1200|                   15.2|          155|                        5.5|    Sedan|\n",
            "|Painted or Changed|   359500|     Other|    NULL|2005|190000|       Manual|        Diesel|Hatchback/5|Warrantless|Dealer|Front-Wheel Drive|              4|      140|              1398|             95|         2500|         1200|                   15.2|          155|                        5.5|Hatchback|\n",
            "|          Original|   699500|   Renault| Fluence|2015|180000|Semiautomatic|        Diesel|      Sedan|Warrantless|Dealer|Front-Wheel Drive|              4|      140|              1461|            100|         2500|         1200|                   15.2|          155|                        5.5|    Sedan|\n",
            "|Painted or Changed|   598750|     Other|    NULL|2017| 70000|       Manual|      Gasoline|Hatchback/5|Warrantless|Dealer|Front-Wheel Drive|              4|      110|              1199|             83|         2500|         1200|                   15.2|          155|                        5.5|Hatchback|\n",
            "|          Original|  1090950|     Other|    NULL|2017|108000|Semiautomatic|        Diesel|Hatchback/5|Warrantless|Dealer|Front-Wheel Drive|              4|      150|              1598|            125|         2500|         1200|                   15.2|          155|                        5.5|Hatchback|\n",
            "|Painted or Changed|   685000|Volkswagen|    NULL|2015|137000|Semiautomatic|        Diesel|Hatchback/5|Warrantless|Dealer|Front-Wheel Drive|              4|      140|              1422|            100|         2500|         1200|                   15.2|          155|                        5.5|Hatchback|\n",
            "|Painted or Changed|   670000|     Other|    NULL|2012|220000|Semiautomatic|        Diesel|      Sedan|Warrantless|Dealer|Front-Wheel Drive|              4|      130|              1364|             95|         2500|         1200|                   15.2|          155|                        5.5|    Sedan|\n",
            "|          Original|  1135000|      Opel|    NULL|2017|172000|    Automatic|        Diesel|Hatchback/5|Warrantless|Dealer|Front-Wheel Drive|              4|      150|              1598|            125|         2500|         1200|                   15.2|          155|                        5.5|Hatchback|\n",
            "|Painted or Changed|   659000|     Other|    NULL|2021| 35000|       Manual|        Diesel|      Sedan|Warrantless|Dealer|Front-Wheel Drive|              4|      140|              1499|            100|         2500|         1200|                   15.2|          155|                        5.5|    Sedan|\n",
            "|          Original|   579900|      Opel|    NULL|2009| 60000|       Manual|        Diesel|Hatchback/5|Warrantless|Dealer|Front-Wheel Drive|              4|      120|              1248|             75|         2500|         1200|                   15.2|          155|                        5.5|Hatchback|\n",
            "|Painted or Changed|   679500|     Honda|   Civic|2009|178000|    Automatic|LPG & Gasoline|      Sedan|Warrantless|Dealer|Front-Wheel Drive|              4|      150|              1595|            125|         2500|         1200|                   15.2|          155|                        5.5|    Sedan|\n",
            "|          Original|  1250000|Volkswagen|    NULL|2015|128000|Semiautomatic|      Gasoline|      Coupe|Warrantless|Dealer|Front-Wheel Drive|              4|      140|              1395|             95|         2500|         1200|                   15.2|          155|                        5.5|    Other|\n",
            "|Painted or Changed|   465000|      Ford|    NULL|2005|120000|    Automatic|LPG & Gasoline|Hatchback/5|Warrantless|Dealer|Front-Wheel Drive|              4|      150|              1596|            125|         2500|         1200|                   15.2|          155|                        5.5|Hatchback|\n",
            "|Painted or Changed|   544500|      Ford|    NULL|2009|158000|    Automatic|LPG & Gasoline|Hatchback/5|Warrantless|Dealer|Front-Wheel Drive|              4|      140|              1388|             95|         2500|         1200|                   15.2|          155|                        5.5|Hatchback|\n",
            "|Painted or Changed|   370000|   Renault|  Megane|2008|420000|       Manual|        Diesel|      Sedan|Warrantless|Dealer|Front-Wheel Drive|              4|      140|              1461|            100|         2500|         1200|                   15.2|          155|                        5.5|    Sedan|\n",
            "|Painted or Changed|   615000|       BMW|    NULL|2010|186000|    Automatic|      Gasoline|Hatchback/5|  Warranted|Dealer| Rear-Wheel Drive|              4|      150|              1596|            125|         2500|         1200|                   15.2|          155|                        5.5|Hatchback|\n",
            "|Painted or Changed|   515000|      Ford|    NULL|2010|183000|       Manual|        Diesel|Hatchback/5|Warrantless|Dealer|Front-Wheel Drive|              4|      140|              1398|             95|         2500|         1200|                   15.2|          155|                        5.5|Hatchback|\n",
            "|          Original|  1110000|     Other|    NULL|2016|100000|Semiautomatic|      Gasoline|Hatchback/5|Warrantless|Dealer|Front-Wheel Drive|              4|      200|               999|            116|         2500|         1200|                   13.6|          175|                        5.5|Hatchback|\n",
            "+------------------+---------+----------+--------+----+------+-------------+--------------+-----------+-----------+------+-----------------+---------------+---------+------------------+---------------+-------------+-------------+-----------------------+-------------+---------------------------+---------+\n",
            "only showing top 20 rows\n",
            "\n"
          ]
        }
      ]
    },
    {
      "cell_type": "code",
      "source": [
        "\n",
        "# Drop duplicate\n",
        "train = train.dropDuplicates()"
      ],
      "metadata": {
        "id": "j_wkurWtZmOq"
      },
      "execution_count": 97,
      "outputs": []
    },
    {
      "cell_type": "code",
      "source": [
        "train.show()"
      ],
      "metadata": {
        "colab": {
          "base_uri": "https://localhost:8080/"
        },
        "id": "-uou2qjXbBH0",
        "outputId": "93f51dcd-4be0-478d-9ec5-cf1206fbd92e"
      },
      "execution_count": 98,
      "outputs": [
        {
          "output_type": "stream",
          "name": "stdout",
          "text": [
            "+------------------+---------+----------+--------+----+------+-------------+--------------+-------------+-----------+------+-----------------+---------------+---------+------------------+---------------+-------------+-------------+-----------------------+-------------+---------------------------+---------+\n",
            "|   painted_changed|price_try|      make|  series|year|    km| transmission|          fuel|    body_type|   warranty| from_|      wheel_drive|cylinder_number|torque_nm|engine_capacity_cc|engine_power_hp|max_power_rpm|min_power_rpm|acceleration_0to100_sec|max_speed_kmh|average_fuel_consumption_lt|body_type|\n",
            "+------------------+---------+----------+--------+----+------+-------------+--------------+-------------+-----------+------+-----------------+---------------+---------+------------------+---------------+-------------+-------------+-----------------------+-------------+---------------------------+---------+\n",
            "|          Original|   715000|      Fiat|    Egea|2018| 74000|       Manual|        Diesel|        Sedan|  Warranted| Owner|Front-Wheel Drive|              4|      120|              1248|             75|         2500|         1200|                   15.2|          155|                        5.5|    Sedan|\n",
            "|          Original|   680000|      Opel|   Astra|2012|175000|       Manual|        Diesel|  Hatchback/5|Warrantless| Owner|Front-Wheel Drive|              4|      120|              1248|             75|         2500|         1200|                   15.2|          155|                        5.5|Hatchback|\n",
            "|          Original|  1515000|Volkswagen|  Passat|2017|103000|Semiautomatic|        Diesel|        Sedan|Warrantless|Dealer|Front-Wheel Drive|              4|      150|              1598|            125|         2500|         1200|                   15.2|          155|                        5.5|    Sedan|\n",
            "|          Original|   550900|   Renault| Fluence|2013|239000|       Manual|        Diesel|        Sedan|Warrantless|Dealer|Front-Wheel Drive|              4|      140|              1461|            100|         2500|         1200|                   15.2|          155|                        5.5|    Sedan|\n",
            "|Painted or Changed|   657500|       BMW|3 Series|2005|153000|    Automatic|      Gasoline|        Sedan|Warrantless|Dealer| Rear-Wheel Drive|              6|      200|              1995|            125|         2500|         1200|                   13.6|          175|                        5.5|    Sedan|\n",
            "|          Original|   660000|      Fiat|    Egea|2016|205000|Semiautomatic|        Diesel|        Sedan|Warrantless|Dealer|Front-Wheel Drive|              4|      150|              1598|            125|         2500|         1200|                   15.2|          155|                        5.5|    Sedan|\n",
            "|Painted or Changed|   333000|   Renault|    Clio|2006|524000|       Manual|        Diesel|        Sedan|Warrantless|Dealer|Front-Wheel Drive|              4|      140|              1461|            100|         2500|         1200|                   15.2|          155|                        5.5|    Sedan|\n",
            "|Painted or Changed|   479500|Volkswagen|   Jetta|2006|290000|       Manual|LPG & Gasoline|        Sedan|Warrantless| Owner|Front-Wheel Drive|              4|      150|              1595|            125|         2500|         1200|                   15.2|          155|                        5.5|    Sedan|\n",
            "|          Original|   952000|      Opel|   Astra|2016|163000|    Automatic|        Diesel|  Hatchback/5|Warrantless|Dealer|Front-Wheel Drive|              4|      150|              1598|            125|         2500|         1200|                   15.2|          155|                        5.5|Hatchback|\n",
            "|Painted or Changed|   437500|   Renault|  Megane|2008|290000|       Manual|        Diesel|        Sedan|Warrantless|Dealer|Front-Wheel Drive|              4|      140|              1461|            100|         2500|         1200|                   15.2|          155|                        5.5|    Sedan|\n",
            "|Painted or Changed|   368750|      Ford|   Focus|2000|320000|       Manual|LPG & Gasoline|  Hatchback/5|Warrantless|Dealer|Front-Wheel Drive|              4|      150|              1596|            125|         2500|         1200|                   15.2|          155|                        5.5|Hatchback|\n",
            "|          Original|   835000|   Renault|  Megane|2016|192000|Semiautomatic|        Diesel|        Sedan|  Warranted|Dealer|Front-Wheel Drive|              4|      140|              1461|            100|         2500|         1200|                   15.2|          155|                        5.5|    Sedan|\n",
            "|          Original|   580000|   Renault|    Clio|2013| 93000|       Manual|      Gasoline|Station wagon|Warrantless| Owner|Front-Wheel Drive|              4|      110|              1149|             75|         2500|         1200|                   15.2|          155|                        5.5|    Other|\n",
            "|          Original|  1350000|       BMW|5 Series|2015|299000|    Automatic|      Gasoline|        Sedan|  Warranted|Dealer| Rear-Wheel Drive|              4|      150|              1592|            125|         2500|         1200|                   15.2|          155|                        5.5|    Sedan|\n",
            "|          Original|  1315000|Volkswagen|  Passat|2016| 79000|Semiautomatic|      Gasoline|        Sedan|Warrantless|Dealer|Front-Wheel Drive|              4|      140|              1395|             95|         2500|         1200|                   15.2|          155|                        5.5|    Sedan|\n",
            "|          Original|   596000|   Renault|  Symbol|2016|165000|       Manual|        Diesel|        Sedan|Warrantless| Owner|Front-Wheel Drive|              4|      140|              1461|            100|         2500|         1200|                   15.2|          155|                        5.5|    Sedan|\n",
            "|          Original|   800000|      Fiat|    Egea|2018| 57000|    Automatic|LPG & Gasoline|        Sedan|Warrantless|Dealer|Front-Wheel Drive|              4|      150|              1598|            125|         2500|         1200|                   15.2|          155|                        5.5|    Sedan|\n",
            "|          Original|   613900|   Renault| Fluence|2015|170000|    Automatic|      Gasoline|        Sedan|Warrantless|Dealer|Front-Wheel Drive|              4|      150|              1598|            125|         2500|         1200|                   15.2|          155|                        5.5|    Sedan|\n",
            "|          Original|   735000|      Fiat|    Egea|2020| 21000|       Manual|      Gasoline|  Hatchback/5|Warrantless|Dealer|Front-Wheel Drive|              4|      130|              1368|             95|         2500|         1200|                   15.2|          155|                        5.5|Hatchback|\n",
            "|Painted or Changed|   420000|      Ford|   Focus|2007|335000|    Automatic|        Diesel|        Sedan|Warrantless|Dealer|Front-Wheel Drive|              4|      150|              1560|            100|         2500|         1200|                   15.2|          155|                        5.5|    Sedan|\n",
            "+------------------+---------+----------+--------+----+------+-------------+--------------+-------------+-----------+------+-----------------+---------------+---------+------------------+---------------+-------------+-------------+-----------------------+-------------+---------------------------+---------+\n",
            "only showing top 20 rows\n",
            "\n"
          ]
        }
      ]
    },
    {
      "cell_type": "code",
      "source": [
        "train.printSchema()"
      ],
      "metadata": {
        "colab": {
          "base_uri": "https://localhost:8080/"
        },
        "id": "ZEtB2ByfbDLM",
        "outputId": "a473eaa8-2c0f-4b2e-e7b1-acaff81b6a0f"
      },
      "execution_count": 99,
      "outputs": [
        {
          "output_type": "stream",
          "name": "stdout",
          "text": [
            "root\n",
            " |-- painted_changed: string (nullable = true)\n",
            " |-- price_try: integer (nullable = true)\n",
            " |-- make: string (nullable = true)\n",
            " |-- series: string (nullable = true)\n",
            " |-- year: integer (nullable = true)\n",
            " |-- km: integer (nullable = true)\n",
            " |-- transmission: string (nullable = true)\n",
            " |-- fuel: string (nullable = false)\n",
            " |-- body_type: string (nullable = true)\n",
            " |-- warranty: string (nullable = false)\n",
            " |-- from_: string (nullable = true)\n",
            " |-- wheel_drive: string (nullable = false)\n",
            " |-- cylinder_number: integer (nullable = true)\n",
            " |-- torque_nm: integer (nullable = true)\n",
            " |-- engine_capacity_cc: integer (nullable = true)\n",
            " |-- engine_power_hp: integer (nullable = true)\n",
            " |-- max_power_rpm: integer (nullable = true)\n",
            " |-- min_power_rpm: integer (nullable = true)\n",
            " |-- acceleration_0to100_sec: double (nullable = true)\n",
            " |-- max_speed_kmh: integer (nullable = true)\n",
            " |-- average_fuel_consumption_lt: double (nullable = true)\n",
            " |-- body_type: string (nullable = true)\n",
            "\n"
          ]
        }
      ]
    },
    {
      "cell_type": "code",
      "source": [],
      "metadata": {
        "id": "SSq2FYlEbGIn"
      },
      "execution_count": null,
      "outputs": []
    }
  ]
}